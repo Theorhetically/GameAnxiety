{
 "cells": [
  {
   "cell_type": "markdown",
   "source": "# Gaming Anxiety",
   "metadata": {
    "tags": [],
    "is_collapsed": false,
    "cell_id": "00000-b2719c23-7e43-4485-8b7f-5bc9e3afd0d1",
    "deepnote_cell_type": "text-cell-h1"
   }
  },
  {
   "cell_type": "markdown",
   "source": "Group Members:\n- DE VEYRA, Ryan Cedric \n- GUBAT, Angeline Maris\n- REYES, John Joseph\n- SORIANO, Juancho Miguel",
   "metadata": {
    "tags": [],
    "cell_id": "00001-08823579-fd65-4ac2-a989-a37ab30404b9",
    "deepnote_cell_type": "markdown"
   }
  },
  {
   "cell_type": "markdown",
   "source": "## I. Introduction and Dataset",
   "metadata": {
    "tags": [],
    "is_collapsed": false,
    "cell_id": "00002-942683ce-0fc7-4faa-888b-da823e980df6",
    "deepnote_cell_type": "text-cell-h2"
   }
  },
  {
   "cell_type": "markdown",
   "source": "The gaming community is expanding especially during the pandemic since people tend to prefer staying indoors and this form of entertainment in the form of electronic video games captivates the market of people who seek entertainment from the comfort of their own home. Video games tend to touch all aspects of sensory experiences through different mediums ranging from virtual reality to portable mobile devices. However, being in front of a screen for much longer than you usually would can have a number of unforeseen effects on someone that isn’t used to it, especially when playing a game they can get very engrossed in.",
   "metadata": {
    "tags": [],
    "cell_id": "00000-e8d64e0c-fb72-45e8-8db2-aed90286016b",
    "deepnote_cell_type": "markdown"
   }
  },
  {
   "cell_type": "markdown",
   "source": "Needed imports for the visualizations:",
   "metadata": {
    "tags": [],
    "cell_id": "00003-4db20fa6-327b-4eaa-9b89-332eefc2a32f",
    "deepnote_cell_type": "markdown"
   }
  },
  {
   "cell_type": "code",
   "metadata": {
    "tags": [],
    "cell_id": "00000-433a0e1b-002d-479d-942a-b2f60f7c41f0",
    "deepnote_to_be_reexecuted": false,
    "source_hash": "22ba1627",
    "execution_start": 1630680159688,
    "execution_millis": 561,
    "deepnote_cell_type": "code"
   },
   "source": "import pandas as pd\nimport numpy as np \nimport math\nimport matplotlib.pyplot as plt\nimport matplotlib.ticker as mtick\nfrom matplotlib.ticker import FuncFormatter\nimport seaborn as sns",
   "execution_count": 1,
   "outputs": []
  },
  {
   "cell_type": "markdown",
   "source": "The data to be used was taken from Kaggle user Divyansh Agrawal (https://www.kaggle.com/divyansh22/online-gaming-anxiety-data) but the original data was created/collected by Marian Sauter and Dejan Draschkow. In the dataset, the researchers interviewed and tested 13464 participants who have identified themselves as gamers. They were asked for their personal information such as their age, gender, birthplace, and occupation. The participants also gave game related information such as the number of hours they play, their playstyle, their reason for playing, and the game they play. The anxiety level of a participant could be measured using three psychology and wellness questionnaires called the \"General Anxiety Disorder (GAD)\", \"Satisfaction with Life (SWL)\", and the \"Social Phobia Inventory (SPIN)\" questionnaires.  ",
   "metadata": {
    "tags": [],
    "cell_id": "00001-6504549d-ca43-466a-85a1-7e0fdba76767",
    "deepnote_cell_type": "markdown"
   }
  },
  {
   "cell_type": "markdown",
   "source": "#### General Anxiety Disorder (GAD)\n- Number of questions: 7\n- Possible answers per question: \n    - 0 - Not at all\n\n    - 1 - Several days \n\n    - 2 - More than half the days \n\n    - 3 - Nearly every day\n\n- Score to anxiety correllation: Positive",
   "metadata": {
    "tags": [],
    "cell_id": "00007-b0841aaf-11cf-4f49-b24f-063166471dea",
    "deepnote_cell_type": "markdown"
   }
  },
  {
   "cell_type": "markdown",
   "source": "#### Satisfaction with Life (SWL)\n- Number of questions: 5\n- Possible answers per question: \n    - 7 - Strongly agree\n\n    - 6 - Agree\n\n    - 5 - Slightly agree\n\n    - 4 - Neither agree nor disagree\n\n    - 3 - Slightly disagree\n\n    - 2 - Disagree\n\n    - 1 - Strongly disagree\n\n- Score to anxiety correllation: Negative",
   "metadata": {
    "tags": [],
    "cell_id": "00008-27b46f6b-5e39-46c6-b723-81b89830e860",
    "deepnote_cell_type": "markdown"
   }
  },
  {
   "cell_type": "markdown",
   "source": "#### Social Phobia Inventory (SPIN)\n- Number of questions: 17\n- Possible answers per question: \n\n    - 0 - Not At All \n\n    - 1 - A Little Bit\t\n\n    - 2 - Somewhat\t\n\n    - 3 - Very Much\t\n\n    - 4 - Extremely\n\n- Score to anxiety correllation: Positive",
   "metadata": {
    "tags": [],
    "cell_id": "00009-d462815d-64b1-4d0a-9554-21ba7ce644cb",
    "deepnote_cell_type": "markdown"
   }
  },
  {
   "cell_type": "code",
   "metadata": {
    "tags": [],
    "cell_id": "00000-bd344f13-52c9-4a4a-a34e-d3c46957b630",
    "deepnote_to_be_reexecuted": false,
    "source_hash": "ded6f5c7",
    "execution_start": 1630680160258,
    "execution_millis": 499,
    "deepnote_cell_type": "code"
   },
   "source": "url = 'https://raw.githubusercontent.com/angelinegubat/DATANVI-DATA/main/archive/GamingStudy_data.csv'\nga_df = pd.read_csv(url,encoding='latin1')  \n\n# First 5 rows in the dataset:\nga_df.head()",
   "execution_count": 2,
   "outputs": [
    {
     "output_type": "execute_result",
     "execution_count": 2,
     "data": {
      "application/vnd.deepnote.dataframe.v2+json": {
       "row_count": 5,
       "column_count": 55,
       "columns": [
        {
         "name": "S. No.",
         "dtype": "int64",
         "stats": {
          "unique_count": 5,
          "nan_count": 0,
          "min": "1",
          "max": "5",
          "histogram": [
           {
            "bin_start": 1,
            "bin_end": 1.4,
            "count": 1
           },
           {
            "bin_start": 1.4,
            "bin_end": 1.8,
            "count": 0
           },
           {
            "bin_start": 1.8,
            "bin_end": 2.2,
            "count": 1
           },
           {
            "bin_start": 2.2,
            "bin_end": 2.6,
            "count": 0
           },
           {
            "bin_start": 2.6,
            "bin_end": 3,
            "count": 0
           },
           {
            "bin_start": 3,
            "bin_end": 3.4000000000000004,
            "count": 1
           },
           {
            "bin_start": 3.4000000000000004,
            "bin_end": 3.8000000000000003,
            "count": 0
           },
           {
            "bin_start": 3.8000000000000003,
            "bin_end": 4.2,
            "count": 1
           },
           {
            "bin_start": 4.2,
            "bin_end": 4.6,
            "count": 0
           },
           {
            "bin_start": 4.6,
            "bin_end": 5,
            "count": 1
           }
          ]
         }
        },
        {
         "name": "Timestamp",
         "dtype": "float64",
         "stats": {
          "unique_count": 5,
          "nan_count": 0,
          "min": "42052.00437",
          "max": "42052.08948",
          "histogram": [
           {
            "bin_start": 42052.00437,
            "bin_end": 42052.012881,
            "count": 2
           },
           {
            "bin_start": 42052.012881,
            "bin_end": 42052.021392,
            "count": 0
           },
           {
            "bin_start": 42052.021392,
            "bin_end": 42052.029903,
            "count": 0
           },
           {
            "bin_start": 42052.029903,
            "bin_end": 42052.038414,
            "count": 0
           },
           {
            "bin_start": 42052.038414,
            "bin_end": 42052.046925,
            "count": 1
           },
           {
            "bin_start": 42052.046925,
            "bin_end": 42052.055436,
            "count": 0
           },
           {
            "bin_start": 42052.055436,
            "bin_end": 42052.063947,
            "count": 0
           },
           {
            "bin_start": 42052.063947,
            "bin_end": 42052.072458,
            "count": 1
           },
           {
            "bin_start": 42052.072458,
            "bin_end": 42052.080969,
            "count": 0
           },
           {
            "bin_start": 42052.080969,
            "bin_end": 42052.08948,
            "count": 1
           }
          ]
         }
        },
        {
         "name": "GAD1",
         "dtype": "int64",
         "stats": {
          "unique_count": 3,
          "nan_count": 0,
          "min": "0",
          "max": "2",
          "histogram": [
           {
            "bin_start": 0,
            "bin_end": 0.2,
            "count": 3
           },
           {
            "bin_start": 0.2,
            "bin_end": 0.4,
            "count": 0
           },
           {
            "bin_start": 0.4,
            "bin_end": 0.6000000000000001,
            "count": 0
           },
           {
            "bin_start": 0.6000000000000001,
            "bin_end": 0.8,
            "count": 0
           },
           {
            "bin_start": 0.8,
            "bin_end": 1,
            "count": 0
           },
           {
            "bin_start": 1,
            "bin_end": 1.2000000000000002,
            "count": 1
           },
           {
            "bin_start": 1.2000000000000002,
            "bin_end": 1.4000000000000001,
            "count": 0
           },
           {
            "bin_start": 1.4000000000000001,
            "bin_end": 1.6,
            "count": 0
           },
           {
            "bin_start": 1.6,
            "bin_end": 1.8,
            "count": 0
           },
           {
            "bin_start": 1.8,
            "bin_end": 2,
            "count": 1
           }
          ]
         }
        },
        {
         "name": "GAD2",
         "dtype": "int64",
         "stats": {
          "unique_count": 3,
          "nan_count": 0,
          "min": "0",
          "max": "2",
          "histogram": [
           {
            "bin_start": 0,
            "bin_end": 0.2,
            "count": 2
           },
           {
            "bin_start": 0.2,
            "bin_end": 0.4,
            "count": 0
           },
           {
            "bin_start": 0.4,
            "bin_end": 0.6000000000000001,
            "count": 0
           },
           {
            "bin_start": 0.6000000000000001,
            "bin_end": 0.8,
            "count": 0
           },
           {
            "bin_start": 0.8,
            "bin_end": 1,
            "count": 0
           },
           {
            "bin_start": 1,
            "bin_end": 1.2000000000000002,
            "count": 1
           },
           {
            "bin_start": 1.2000000000000002,
            "bin_end": 1.4000000000000001,
            "count": 0
           },
           {
            "bin_start": 1.4000000000000001,
            "bin_end": 1.6,
            "count": 0
           },
           {
            "bin_start": 1.6,
            "bin_end": 1.8,
            "count": 0
           },
           {
            "bin_start": 1.8,
            "bin_end": 2,
            "count": 2
           }
          ]
         }
        },
        {
         "name": "GAD3",
         "dtype": "int64",
         "stats": {
          "unique_count": 2,
          "nan_count": 0,
          "min": "0",
          "max": "2",
          "histogram": [
           {
            "bin_start": 0,
            "bin_end": 0.2,
            "count": 2
           },
           {
            "bin_start": 0.2,
            "bin_end": 0.4,
            "count": 0
           },
           {
            "bin_start": 0.4,
            "bin_end": 0.6000000000000001,
            "count": 0
           },
           {
            "bin_start": 0.6000000000000001,
            "bin_end": 0.8,
            "count": 0
           },
           {
            "bin_start": 0.8,
            "bin_end": 1,
            "count": 0
           },
           {
            "bin_start": 1,
            "bin_end": 1.2000000000000002,
            "count": 0
           },
           {
            "bin_start": 1.2000000000000002,
            "bin_end": 1.4000000000000001,
            "count": 0
           },
           {
            "bin_start": 1.4000000000000001,
            "bin_end": 1.6,
            "count": 0
           },
           {
            "bin_start": 1.6,
            "bin_end": 1.8,
            "count": 0
           },
           {
            "bin_start": 1.8,
            "bin_end": 2,
            "count": 3
           }
          ]
         }
        },
        {
         "name": "GAD4",
         "dtype": "int64",
         "stats": {
          "unique_count": 2,
          "nan_count": 0,
          "min": "0",
          "max": "2",
          "histogram": [
           {
            "bin_start": 0,
            "bin_end": 0.2,
            "count": 3
           },
           {
            "bin_start": 0.2,
            "bin_end": 0.4,
            "count": 0
           },
           {
            "bin_start": 0.4,
            "bin_end": 0.6000000000000001,
            "count": 0
           },
           {
            "bin_start": 0.6000000000000001,
            "bin_end": 0.8,
            "count": 0
           },
           {
            "bin_start": 0.8,
            "bin_end": 1,
            "count": 0
           },
           {
            "bin_start": 1,
            "bin_end": 1.2000000000000002,
            "count": 0
           },
           {
            "bin_start": 1.2000000000000002,
            "bin_end": 1.4000000000000001,
            "count": 0
           },
           {
            "bin_start": 1.4000000000000001,
            "bin_end": 1.6,
            "count": 0
           },
           {
            "bin_start": 1.6,
            "bin_end": 1.8,
            "count": 0
           },
           {
            "bin_start": 1.8,
            "bin_end": 2,
            "count": 2
           }
          ]
         }
        },
        {
         "name": "GAD5",
         "dtype": "int64",
         "stats": {
          "unique_count": 3,
          "nan_count": 0,
          "min": "0",
          "max": "2",
          "histogram": [
           {
            "bin_start": 0,
            "bin_end": 0.2,
            "count": 3
           },
           {
            "bin_start": 0.2,
            "bin_end": 0.4,
            "count": 0
           },
           {
            "bin_start": 0.4,
            "bin_end": 0.6000000000000001,
            "count": 0
           },
           {
            "bin_start": 0.6000000000000001,
            "bin_end": 0.8,
            "count": 0
           },
           {
            "bin_start": 0.8,
            "bin_end": 1,
            "count": 0
           },
           {
            "bin_start": 1,
            "bin_end": 1.2000000000000002,
            "count": 1
           },
           {
            "bin_start": 1.2000000000000002,
            "bin_end": 1.4000000000000001,
            "count": 0
           },
           {
            "bin_start": 1.4000000000000001,
            "bin_end": 1.6,
            "count": 0
           },
           {
            "bin_start": 1.6,
            "bin_end": 1.8,
            "count": 0
           },
           {
            "bin_start": 1.8,
            "bin_end": 2,
            "count": 1
           }
          ]
         }
        },
        {
         "name": "GAD6",
         "dtype": "int64",
         "stats": {
          "unique_count": 3,
          "nan_count": 0,
          "min": "0",
          "max": "3",
          "histogram": [
           {
            "bin_start": 0,
            "bin_end": 0.3,
            "count": 2
           },
           {
            "bin_start": 0.3,
            "bin_end": 0.6,
            "count": 0
           },
           {
            "bin_start": 0.6,
            "bin_end": 0.8999999999999999,
            "count": 0
           },
           {
            "bin_start": 0.8999999999999999,
            "bin_end": 1.2,
            "count": 1
           },
           {
            "bin_start": 1.2,
            "bin_end": 1.5,
            "count": 0
           },
           {
            "bin_start": 1.5,
            "bin_end": 1.7999999999999998,
            "count": 0
           },
           {
            "bin_start": 1.7999999999999998,
            "bin_end": 2.1,
            "count": 0
           },
           {
            "bin_start": 2.1,
            "bin_end": 2.4,
            "count": 0
           },
           {
            "bin_start": 2.4,
            "bin_end": 2.6999999999999997,
            "count": 0
           },
           {
            "bin_start": 2.6999999999999997,
            "bin_end": 3,
            "count": 2
           }
          ]
         }
        },
        {
         "name": "GAD7",
         "dtype": "int64",
         "stats": {
          "unique_count": 3,
          "nan_count": 0,
          "min": "0",
          "max": "2",
          "histogram": [
           {
            "bin_start": 0,
            "bin_end": 0.2,
            "count": 3
           },
           {
            "bin_start": 0.2,
            "bin_end": 0.4,
            "count": 0
           },
           {
            "bin_start": 0.4,
            "bin_end": 0.6000000000000001,
            "count": 0
           },
           {
            "bin_start": 0.6000000000000001,
            "bin_end": 0.8,
            "count": 0
           },
           {
            "bin_start": 0.8,
            "bin_end": 1,
            "count": 0
           },
           {
            "bin_start": 1,
            "bin_end": 1.2000000000000002,
            "count": 1
           },
           {
            "bin_start": 1.2000000000000002,
            "bin_end": 1.4000000000000001,
            "count": 0
           },
           {
            "bin_start": 1.4000000000000001,
            "bin_end": 1.6,
            "count": 0
           },
           {
            "bin_start": 1.6,
            "bin_end": 1.8,
            "count": 0
           },
           {
            "bin_start": 1.8,
            "bin_end": 2,
            "count": 1
           }
          ]
         }
        },
        {
         "name": "GADE",
         "dtype": "object",
         "stats": {
          "unique_count": 3,
          "nan_count": 0,
          "categories": [
           {
            "name": "Not difficult at all",
            "count": 3
           },
           {
            "name": "Somewhat difficult",
            "count": 1
           },
           {
            "name": "Very difficult",
            "count": 1
           }
          ]
         }
        },
        {
         "name": "SWL1",
         "dtype": "int64",
         "stats": {
          "unique_count": 2,
          "nan_count": 0,
          "min": "2",
          "max": "3",
          "histogram": [
           {
            "bin_start": 2,
            "bin_end": 2.1,
            "count": 3
           },
           {
            "bin_start": 2.1,
            "bin_end": 2.2,
            "count": 0
           },
           {
            "bin_start": 2.2,
            "bin_end": 2.3,
            "count": 0
           },
           {
            "bin_start": 2.3,
            "bin_end": 2.4,
            "count": 0
           },
           {
            "bin_start": 2.4,
            "bin_end": 2.5,
            "count": 0
           },
           {
            "bin_start": 2.5,
            "bin_end": 2.6,
            "count": 0
           },
           {
            "bin_start": 2.6,
            "bin_end": 2.7,
            "count": 0
           },
           {
            "bin_start": 2.7,
            "bin_end": 2.8,
            "count": 0
           },
           {
            "bin_start": 2.8,
            "bin_end": 2.9,
            "count": 0
           },
           {
            "bin_start": 2.9,
            "bin_end": 3,
            "count": 2
           }
          ]
         }
        },
        {
         "name": "SWL2",
         "dtype": "int64",
         "stats": {
          "unique_count": 3,
          "nan_count": 0,
          "min": "2",
          "max": "6",
          "histogram": [
           {
            "bin_start": 2,
            "bin_end": 2.4,
            "count": 1
           },
           {
            "bin_start": 2.4,
            "bin_end": 2.8,
            "count": 0
           },
           {
            "bin_start": 2.8,
            "bin_end": 3.2,
            "count": 0
           },
           {
            "bin_start": 3.2,
            "bin_end": 3.6,
            "count": 0
           },
           {
            "bin_start": 3.6,
            "bin_end": 4,
            "count": 0
           },
           {
            "bin_start": 4,
            "bin_end": 4.4,
            "count": 0
           },
           {
            "bin_start": 4.4,
            "bin_end": 4.800000000000001,
            "count": 0
           },
           {
            "bin_start": 4.800000000000001,
            "bin_end": 5.2,
            "count": 3
           },
           {
            "bin_start": 5.2,
            "bin_end": 5.6,
            "count": 0
           },
           {
            "bin_start": 5.6,
            "bin_end": 6,
            "count": 1
           }
          ]
         }
        },
        {
         "name": "SWL3",
         "dtype": "int64",
         "stats": {
          "unique_count": 3,
          "nan_count": 0,
          "min": "2",
          "max": "5",
          "histogram": [
           {
            "bin_start": 2,
            "bin_end": 2.3,
            "count": 1
           },
           {
            "bin_start": 2.3,
            "bin_end": 2.6,
            "count": 0
           },
           {
            "bin_start": 2.6,
            "bin_end": 2.9,
            "count": 0
           },
           {
            "bin_start": 2.9,
            "bin_end": 3.2,
            "count": 0
           },
           {
            "bin_start": 3.2,
            "bin_end": 3.5,
            "count": 0
           },
           {
            "bin_start": 3.5,
            "bin_end": 3.8,
            "count": 0
           },
           {
            "bin_start": 3.8,
            "bin_end": 4.1,
            "count": 1
           },
           {
            "bin_start": 4.1,
            "bin_end": 4.4,
            "count": 0
           },
           {
            "bin_start": 4.4,
            "bin_end": 4.699999999999999,
            "count": 0
           },
           {
            "bin_start": 4.699999999999999,
            "bin_end": 5,
            "count": 3
           }
          ]
         }
        },
        {
         "name": "SWL4",
         "dtype": "int64",
         "stats": {
          "unique_count": 3,
          "nan_count": 0,
          "min": "2",
          "max": "5",
          "histogram": [
           {
            "bin_start": 2,
            "bin_end": 2.3,
            "count": 1
           },
           {
            "bin_start": 2.3,
            "bin_end": 2.6,
            "count": 0
           },
           {
            "bin_start": 2.6,
            "bin_end": 2.9,
            "count": 0
           },
           {
            "bin_start": 2.9,
            "bin_end": 3.2,
            "count": 1
           },
           {
            "bin_start": 3.2,
            "bin_end": 3.5,
            "count": 0
           },
           {
            "bin_start": 3.5,
            "bin_end": 3.8,
            "count": 0
           },
           {
            "bin_start": 3.8,
            "bin_end": 4.1,
            "count": 0
           },
           {
            "bin_start": 4.1,
            "bin_end": 4.4,
            "count": 0
           },
           {
            "bin_start": 4.4,
            "bin_end": 4.699999999999999,
            "count": 0
           },
           {
            "bin_start": 4.699999999999999,
            "bin_end": 5,
            "count": 3
           }
          ]
         }
        },
        {
         "name": "SWL5",
         "dtype": "int64",
         "stats": {
          "unique_count": 3,
          "nan_count": 0,
          "min": "1",
          "max": "5",
          "histogram": [
           {
            "bin_start": 1,
            "bin_end": 1.4,
            "count": 2
           },
           {
            "bin_start": 1.4,
            "bin_end": 1.8,
            "count": 0
           },
           {
            "bin_start": 1.8,
            "bin_end": 2.2,
            "count": 2
           },
           {
            "bin_start": 2.2,
            "bin_end": 2.6,
            "count": 0
           },
           {
            "bin_start": 2.6,
            "bin_end": 3,
            "count": 0
           },
           {
            "bin_start": 3,
            "bin_end": 3.4000000000000004,
            "count": 0
           },
           {
            "bin_start": 3.4000000000000004,
            "bin_end": 3.8000000000000003,
            "count": 0
           },
           {
            "bin_start": 3.8000000000000003,
            "bin_end": 4.2,
            "count": 0
           },
           {
            "bin_start": 4.2,
            "bin_end": 4.6,
            "count": 0
           },
           {
            "bin_start": 4.6,
            "bin_end": 5,
            "count": 1
           }
          ]
         }
        },
        {
         "name": "Game",
         "dtype": "object",
         "stats": {
          "unique_count": 2,
          "nan_count": 0,
          "categories": [
           {
            "name": "Other",
            "count": 4
           },
           {
            "name": "Skyrim",
            "count": 1
           }
          ]
         }
        },
        {
         "name": "Platform",
         "dtype": "object",
         "stats": {
          "unique_count": 2,
          "nan_count": 0,
          "categories": [
           {
            "name": "PC",
            "count": 3
           },
           {
            "name": "Console (PS, Xbox, ...)",
            "count": 2
           }
          ]
         }
        },
        {
         "name": "Hours",
         "dtype": "float64",
         "stats": {
          "unique_count": 4,
          "nan_count": 0,
          "min": "0.0",
          "max": "20.0",
          "histogram": [
           {
            "bin_start": 0,
            "bin_end": 2,
            "count": 1
           },
           {
            "bin_start": 2,
            "bin_end": 4,
            "count": 0
           },
           {
            "bin_start": 4,
            "bin_end": 6,
            "count": 0
           },
           {
            "bin_start": 6,
            "bin_end": 8,
            "count": 0
           },
           {
            "bin_start": 8,
            "bin_end": 10,
            "count": 1
           },
           {
            "bin_start": 10,
            "bin_end": 12,
            "count": 0
           },
           {
            "bin_start": 12,
            "bin_end": 14,
            "count": 0
           },
           {
            "bin_start": 14,
            "bin_end": 16,
            "count": 1
           },
           {
            "bin_start": 16,
            "bin_end": 18,
            "count": 0
           },
           {
            "bin_start": 18,
            "bin_end": 20,
            "count": 2
           }
          ]
         }
        },
        {
         "name": "earnings",
         "dtype": "object",
         "stats": {
          "unique_count": 1,
          "nan_count": 0,
          "categories": [
           {
            "name": "I play for fun",
            "count": 5
           }
          ]
         }
        },
        {
         "name": "whyplay",
         "dtype": "object",
         "stats": {
          "unique_count": 2,
          "nan_count": 0,
          "categories": [
           {
            "name": "having fun",
            "count": 4
           },
           {
            "name": "improving",
            "count": 1
           }
          ]
         }
        },
        {
         "name": "League",
         "dtype": "object",
         "stats": {
          "unique_count": 0,
          "nan_count": 5,
          "categories": [
           {
            "name": "Missing",
            "count": 5
           }
          ]
         }
        },
        {
         "name": "highestleague",
         "dtype": "float64",
         "stats": {
          "unique_count": 0,
          "nan_count": 5,
          "min": null,
          "max": null,
          "histogram": [
           {
            "bin_start": 0,
            "bin_end": 0.1,
            "count": 0
           },
           {
            "bin_start": 0.1,
            "bin_end": 0.2,
            "count": 0
           },
           {
            "bin_start": 0.2,
            "bin_end": 0.30000000000000004,
            "count": 0
           },
           {
            "bin_start": 0.30000000000000004,
            "bin_end": 0.4,
            "count": 0
           },
           {
            "bin_start": 0.4,
            "bin_end": 0.5,
            "count": 0
           },
           {
            "bin_start": 0.5,
            "bin_end": 0.6000000000000001,
            "count": 0
           },
           {
            "bin_start": 0.6000000000000001,
            "bin_end": 0.7000000000000001,
            "count": 0
           },
           {
            "bin_start": 0.7000000000000001,
            "bin_end": 0.8,
            "count": 0
           },
           {
            "bin_start": 0.8,
            "bin_end": 0.9,
            "count": 0
           },
           {
            "bin_start": 0.9,
            "bin_end": 1,
            "count": 0
           }
          ]
         }
        },
        {
         "name": "streams",
         "dtype": "float64",
         "stats": {
          "unique_count": 4,
          "nan_count": 0,
          "min": "0.0",
          "max": "5.0",
          "histogram": [
           {
            "bin_start": 0,
            "bin_end": 0.5,
            "count": 2
           },
           {
            "bin_start": 0.5,
            "bin_end": 1,
            "count": 0
           },
           {
            "bin_start": 1,
            "bin_end": 1.5,
            "count": 1
           },
           {
            "bin_start": 1.5,
            "bin_end": 2,
            "count": 0
           },
           {
            "bin_start": 2,
            "bin_end": 2.5,
            "count": 1
           },
           {
            "bin_start": 2.5,
            "bin_end": 3,
            "count": 0
           },
           {
            "bin_start": 3,
            "bin_end": 3.5,
            "count": 0
           },
           {
            "bin_start": 3.5,
            "bin_end": 4,
            "count": 0
           },
           {
            "bin_start": 4,
            "bin_end": 4.5,
            "count": 0
           },
           {
            "bin_start": 4.5,
            "bin_end": 5,
            "count": 1
           }
          ]
         }
        },
        {
         "name": "SPIN1",
         "dtype": "float64",
         "stats": {
          "unique_count": 2,
          "nan_count": 0,
          "min": "1.0",
          "max": "2.0",
          "histogram": [
           {
            "bin_start": 1,
            "bin_end": 1.1,
            "count": 2
           },
           {
            "bin_start": 1.1,
            "bin_end": 1.2,
            "count": 0
           },
           {
            "bin_start": 1.2,
            "bin_end": 1.3,
            "count": 0
           },
           {
            "bin_start": 1.3,
            "bin_end": 1.4,
            "count": 0
           },
           {
            "bin_start": 1.4,
            "bin_end": 1.5,
            "count": 0
           },
           {
            "bin_start": 1.5,
            "bin_end": 1.6,
            "count": 0
           },
           {
            "bin_start": 1.6,
            "bin_end": 1.7000000000000002,
            "count": 0
           },
           {
            "bin_start": 1.7000000000000002,
            "bin_end": 1.8,
            "count": 0
           },
           {
            "bin_start": 1.8,
            "bin_end": 1.9,
            "count": 0
           },
           {
            "bin_start": 1.9,
            "bin_end": 2,
            "count": 3
           }
          ]
         }
        },
        {
         "name": "SPIN2",
         "dtype": "float64",
         "stats": {
          "unique_count": 2,
          "nan_count": 0,
          "min": "0.0",
          "max": "1.0",
          "histogram": [
           {
            "bin_start": 0,
            "bin_end": 0.1,
            "count": 4
           },
           {
            "bin_start": 0.1,
            "bin_end": 0.2,
            "count": 0
           },
           {
            "bin_start": 0.2,
            "bin_end": 0.30000000000000004,
            "count": 0
           },
           {
            "bin_start": 0.30000000000000004,
            "bin_end": 0.4,
            "count": 0
           },
           {
            "bin_start": 0.4,
            "bin_end": 0.5,
            "count": 0
           },
           {
            "bin_start": 0.5,
            "bin_end": 0.6000000000000001,
            "count": 0
           },
           {
            "bin_start": 0.6000000000000001,
            "bin_end": 0.7000000000000001,
            "count": 0
           },
           {
            "bin_start": 0.7000000000000001,
            "bin_end": 0.8,
            "count": 0
           },
           {
            "bin_start": 0.8,
            "bin_end": 0.9,
            "count": 0
           },
           {
            "bin_start": 0.9,
            "bin_end": 1,
            "count": 1
           }
          ]
         }
        },
        {
         "name": "SPIN3",
         "dtype": "float64",
         "stats": {
          "unique_count": 2,
          "nan_count": 0,
          "min": "0.0",
          "max": "1.0",
          "histogram": [
           {
            "bin_start": 0,
            "bin_end": 0.1,
            "count": 3
           },
           {
            "bin_start": 0.1,
            "bin_end": 0.2,
            "count": 0
           },
           {
            "bin_start": 0.2,
            "bin_end": 0.30000000000000004,
            "count": 0
           },
           {
            "bin_start": 0.30000000000000004,
            "bin_end": 0.4,
            "count": 0
           },
           {
            "bin_start": 0.4,
            "bin_end": 0.5,
            "count": 0
           },
           {
            "bin_start": 0.5,
            "bin_end": 0.6000000000000001,
            "count": 0
           },
           {
            "bin_start": 0.6000000000000001,
            "bin_end": 0.7000000000000001,
            "count": 0
           },
           {
            "bin_start": 0.7000000000000001,
            "bin_end": 0.8,
            "count": 0
           },
           {
            "bin_start": 0.8,
            "bin_end": 0.9,
            "count": 0
           },
           {
            "bin_start": 0.9,
            "bin_end": 1,
            "count": 2
           }
          ]
         }
        },
        {
         "name": "SPIN4",
         "dtype": "float64",
         "stats": {
          "unique_count": 4,
          "nan_count": 0,
          "min": "0.0",
          "max": "3.0",
          "histogram": [
           {
            "bin_start": 0,
            "bin_end": 0.3,
            "count": 1
           },
           {
            "bin_start": 0.3,
            "bin_end": 0.6,
            "count": 0
           },
           {
            "bin_start": 0.6,
            "bin_end": 0.8999999999999999,
            "count": 0
           },
           {
            "bin_start": 0.8999999999999999,
            "bin_end": 1.2,
            "count": 2
           },
           {
            "bin_start": 1.2,
            "bin_end": 1.5,
            "count": 0
           },
           {
            "bin_start": 1.5,
            "bin_end": 1.7999999999999998,
            "count": 0
           },
           {
            "bin_start": 1.7999999999999998,
            "bin_end": 2.1,
            "count": 1
           },
           {
            "bin_start": 2.1,
            "bin_end": 2.4,
            "count": 0
           },
           {
            "bin_start": 2.4,
            "bin_end": 2.6999999999999997,
            "count": 0
           },
           {
            "bin_start": 2.6999999999999997,
            "bin_end": 3,
            "count": 1
           }
          ]
         }
        },
        {
         "name": "SPIN5",
         "dtype": "float64",
         "stats": {
          "unique_count": 4,
          "nan_count": 0,
          "min": "0.0",
          "max": "3.0",
          "histogram": [
           {
            "bin_start": 0,
            "bin_end": 0.3,
            "count": 1
           },
           {
            "bin_start": 0.3,
            "bin_end": 0.6,
            "count": 0
           },
           {
            "bin_start": 0.6,
            "bin_end": 0.8999999999999999,
            "count": 0
           },
           {
            "bin_start": 0.8999999999999999,
            "bin_end": 1.2,
            "count": 1
           },
           {
            "bin_start": 1.2,
            "bin_end": 1.5,
            "count": 0
           },
           {
            "bin_start": 1.5,
            "bin_end": 1.7999999999999998,
            "count": 0
           },
           {
            "bin_start": 1.7999999999999998,
            "bin_end": 2.1,
            "count": 1
           },
           {
            "bin_start": 2.1,
            "bin_end": 2.4,
            "count": 0
           },
           {
            "bin_start": 2.4,
            "bin_end": 2.6999999999999997,
            "count": 0
           },
           {
            "bin_start": 2.6999999999999997,
            "bin_end": 3,
            "count": 2
           }
          ]
         }
        },
        {
         "name": "SPIN6",
         "dtype": "float64",
         "stats": {
          "unique_count": 3,
          "nan_count": 0,
          "min": "0.0",
          "max": "4.0",
          "histogram": [
           {
            "bin_start": 0,
            "bin_end": 0.4,
            "count": 3
           },
           {
            "bin_start": 0.4,
            "bin_end": 0.8,
            "count": 0
           },
           {
            "bin_start": 0.8,
            "bin_end": 1.2000000000000002,
            "count": 0
           },
           {
            "bin_start": 1.2000000000000002,
            "bin_end": 1.6,
            "count": 0
           },
           {
            "bin_start": 1.6,
            "bin_end": 2,
            "count": 0
           },
           {
            "bin_start": 2,
            "bin_end": 2.4000000000000004,
            "count": 0
           },
           {
            "bin_start": 2.4000000000000004,
            "bin_end": 2.8000000000000003,
            "count": 0
           },
           {
            "bin_start": 2.8000000000000003,
            "bin_end": 3.2,
            "count": 1
           },
           {
            "bin_start": 3.2,
            "bin_end": 3.6,
            "count": 0
           },
           {
            "bin_start": 3.6,
            "bin_end": 4,
            "count": 1
           }
          ]
         }
        },
        {
         "name": "SPIN7",
         "dtype": "float64",
         "stats": {
          "unique_count": 3,
          "nan_count": 0,
          "min": "0.0",
          "max": "2.0",
          "histogram": [
           {
            "bin_start": 0,
            "bin_end": 0.2,
            "count": 2
           },
           {
            "bin_start": 0.2,
            "bin_end": 0.4,
            "count": 0
           },
           {
            "bin_start": 0.4,
            "bin_end": 0.6000000000000001,
            "count": 0
           },
           {
            "bin_start": 0.6000000000000001,
            "bin_end": 0.8,
            "count": 0
           },
           {
            "bin_start": 0.8,
            "bin_end": 1,
            "count": 0
           },
           {
            "bin_start": 1,
            "bin_end": 1.2000000000000002,
            "count": 2
           },
           {
            "bin_start": 1.2000000000000002,
            "bin_end": 1.4000000000000001,
            "count": 0
           },
           {
            "bin_start": 1.4000000000000001,
            "bin_end": 1.6,
            "count": 0
           },
           {
            "bin_start": 1.6,
            "bin_end": 1.8,
            "count": 0
           },
           {
            "bin_start": 1.8,
            "bin_end": 2,
            "count": 1
           }
          ]
         }
        },
        {
         "name": "SPIN8",
         "dtype": "float64",
         "stats": {
          "unique_count": 4,
          "nan_count": 0,
          "min": "0.0",
          "max": "4.0",
          "histogram": [
           {
            "bin_start": 0,
            "bin_end": 0.4,
            "count": 2
           },
           {
            "bin_start": 0.4,
            "bin_end": 0.8,
            "count": 0
           },
           {
            "bin_start": 0.8,
            "bin_end": 1.2000000000000002,
            "count": 1
           },
           {
            "bin_start": 1.2000000000000002,
            "bin_end": 1.6,
            "count": 0
           },
           {
            "bin_start": 1.6,
            "bin_end": 2,
            "count": 0
           },
           {
            "bin_start": 2,
            "bin_end": 2.4000000000000004,
            "count": 0
           },
           {
            "bin_start": 2.4000000000000004,
            "bin_end": 2.8000000000000003,
            "count": 0
           },
           {
            "bin_start": 2.8000000000000003,
            "bin_end": 3.2,
            "count": 1
           },
           {
            "bin_start": 3.2,
            "bin_end": 3.6,
            "count": 0
           },
           {
            "bin_start": 3.6,
            "bin_end": 4,
            "count": 1
           }
          ]
         }
        },
        {
         "name": "SPIN9",
         "dtype": "float64",
         "stats": {
          "unique_count": 3,
          "nan_count": 0,
          "min": "0.0",
          "max": "4.0",
          "histogram": [
           {
            "bin_start": 0,
            "bin_end": 0.4,
            "count": 3
           },
           {
            "bin_start": 0.4,
            "bin_end": 0.8,
            "count": 0
           },
           {
            "bin_start": 0.8,
            "bin_end": 1.2000000000000002,
            "count": 0
           },
           {
            "bin_start": 1.2000000000000002,
            "bin_end": 1.6,
            "count": 0
           },
           {
            "bin_start": 1.6,
            "bin_end": 2,
            "count": 0
           },
           {
            "bin_start": 2,
            "bin_end": 2.4000000000000004,
            "count": 1
           },
           {
            "bin_start": 2.4000000000000004,
            "bin_end": 2.8000000000000003,
            "count": 0
           },
           {
            "bin_start": 2.8000000000000003,
            "bin_end": 3.2,
            "count": 0
           },
           {
            "bin_start": 3.2,
            "bin_end": 3.6,
            "count": 0
           },
           {
            "bin_start": 3.6,
            "bin_end": 4,
            "count": 1
           }
          ]
         }
        },
        {
         "name": "SPIN10",
         "dtype": "float64",
         "stats": {
          "unique_count": 2,
          "nan_count": 0,
          "min": "0.0",
          "max": "1.0",
          "histogram": [
           {
            "bin_start": 0,
            "bin_end": 0.1,
            "count": 4
           },
           {
            "bin_start": 0.1,
            "bin_end": 0.2,
            "count": 0
           },
           {
            "bin_start": 0.2,
            "bin_end": 0.30000000000000004,
            "count": 0
           },
           {
            "bin_start": 0.30000000000000004,
            "bin_end": 0.4,
            "count": 0
           },
           {
            "bin_start": 0.4,
            "bin_end": 0.5,
            "count": 0
           },
           {
            "bin_start": 0.5,
            "bin_end": 0.6000000000000001,
            "count": 0
           },
           {
            "bin_start": 0.6000000000000001,
            "bin_end": 0.7000000000000001,
            "count": 0
           },
           {
            "bin_start": 0.7000000000000001,
            "bin_end": 0.8,
            "count": 0
           },
           {
            "bin_start": 0.8,
            "bin_end": 0.9,
            "count": 0
           },
           {
            "bin_start": 0.9,
            "bin_end": 1,
            "count": 1
           }
          ]
         }
        },
        {
         "name": "SPIN11",
         "dtype": "float64",
         "stats": {
          "unique_count": 3,
          "nan_count": 0,
          "min": "0.0",
          "max": "3.0",
          "histogram": [
           {
            "bin_start": 0,
            "bin_end": 0.3,
            "count": 1
           },
           {
            "bin_start": 0.3,
            "bin_end": 0.6,
            "count": 0
           },
           {
            "bin_start": 0.6,
            "bin_end": 0.8999999999999999,
            "count": 0
           },
           {
            "bin_start": 0.8999999999999999,
            "bin_end": 1.2,
            "count": 3
           },
           {
            "bin_start": 1.2,
            "bin_end": 1.5,
            "count": 0
           },
           {
            "bin_start": 1.5,
            "bin_end": 1.7999999999999998,
            "count": 0
           },
           {
            "bin_start": 1.7999999999999998,
            "bin_end": 2.1,
            "count": 0
           },
           {
            "bin_start": 2.1,
            "bin_end": 2.4,
            "count": 0
           },
           {
            "bin_start": 2.4,
            "bin_end": 2.6999999999999997,
            "count": 0
           },
           {
            "bin_start": 2.6999999999999997,
            "bin_end": 3,
            "count": 1
           }
          ]
         }
        },
        {
         "name": "SPIN12",
         "dtype": "float64",
         "stats": {
          "unique_count": 2,
          "nan_count": 0,
          "min": "0.0",
          "max": "3.0",
          "histogram": [
           {
            "bin_start": 0,
            "bin_end": 0.3,
            "count": 3
           },
           {
            "bin_start": 0.3,
            "bin_end": 0.6,
            "count": 0
           },
           {
            "bin_start": 0.6,
            "bin_end": 0.8999999999999999,
            "count": 0
           },
           {
            "bin_start": 0.8999999999999999,
            "bin_end": 1.2,
            "count": 0
           },
           {
            "bin_start": 1.2,
            "bin_end": 1.5,
            "count": 0
           },
           {
            "bin_start": 1.5,
            "bin_end": 1.7999999999999998,
            "count": 0
           },
           {
            "bin_start": 1.7999999999999998,
            "bin_end": 2.1,
            "count": 0
           },
           {
            "bin_start": 2.1,
            "bin_end": 2.4,
            "count": 0
           },
           {
            "bin_start": 2.4,
            "bin_end": 2.6999999999999997,
            "count": 0
           },
           {
            "bin_start": 2.6999999999999997,
            "bin_end": 3,
            "count": 2
           }
          ]
         }
        },
        {
         "name": "SPIN13",
         "dtype": "float64",
         "stats": {
          "unique_count": 2,
          "nan_count": 0,
          "min": "0.0",
          "max": "1.0",
          "histogram": [
           {
            "bin_start": 0,
            "bin_end": 0.1,
            "count": 4
           },
           {
            "bin_start": 0.1,
            "bin_end": 0.2,
            "count": 0
           },
           {
            "bin_start": 0.2,
            "bin_end": 0.30000000000000004,
            "count": 0
           },
           {
            "bin_start": 0.30000000000000004,
            "bin_end": 0.4,
            "count": 0
           },
           {
            "bin_start": 0.4,
            "bin_end": 0.5,
            "count": 0
           },
           {
            "bin_start": 0.5,
            "bin_end": 0.6000000000000001,
            "count": 0
           },
           {
            "bin_start": 0.6000000000000001,
            "bin_end": 0.7000000000000001,
            "count": 0
           },
           {
            "bin_start": 0.7000000000000001,
            "bin_end": 0.8,
            "count": 0
           },
           {
            "bin_start": 0.8,
            "bin_end": 0.9,
            "count": 0
           },
           {
            "bin_start": 0.9,
            "bin_end": 1,
            "count": 1
           }
          ]
         }
        },
        {
         "name": "SPIN14",
         "dtype": "float64",
         "stats": {
          "unique_count": 4,
          "nan_count": 0,
          "min": "0.0",
          "max": "3.0",
          "histogram": [
           {
            "bin_start": 0,
            "bin_end": 0.3,
            "count": 2
           },
           {
            "bin_start": 0.3,
            "bin_end": 0.6,
            "count": 0
           },
           {
            "bin_start": 0.6,
            "bin_end": 0.8999999999999999,
            "count": 0
           },
           {
            "bin_start": 0.8999999999999999,
            "bin_end": 1.2,
            "count": 1
           },
           {
            "bin_start": 1.2,
            "bin_end": 1.5,
            "count": 0
           },
           {
            "bin_start": 1.5,
            "bin_end": 1.7999999999999998,
            "count": 0
           },
           {
            "bin_start": 1.7999999999999998,
            "bin_end": 2.1,
            "count": 1
           },
           {
            "bin_start": 2.1,
            "bin_end": 2.4,
            "count": 0
           },
           {
            "bin_start": 2.4,
            "bin_end": 2.6999999999999997,
            "count": 0
           },
           {
            "bin_start": 2.6999999999999997,
            "bin_end": 3,
            "count": 1
           }
          ]
         }
        },
        {
         "name": "SPIN15",
         "dtype": "float64",
         "stats": {
          "unique_count": 4,
          "nan_count": 0,
          "min": "0.0",
          "max": "4.0",
          "histogram": [
           {
            "bin_start": 0,
            "bin_end": 0.4,
            "count": 2
           },
           {
            "bin_start": 0.4,
            "bin_end": 0.8,
            "count": 0
           },
           {
            "bin_start": 0.8,
            "bin_end": 1.2000000000000002,
            "count": 1
           },
           {
            "bin_start": 1.2000000000000002,
            "bin_end": 1.6,
            "count": 0
           },
           {
            "bin_start": 1.6,
            "bin_end": 2,
            "count": 0
           },
           {
            "bin_start": 2,
            "bin_end": 2.4000000000000004,
            "count": 0
           },
           {
            "bin_start": 2.4000000000000004,
            "bin_end": 2.8000000000000003,
            "count": 0
           },
           {
            "bin_start": 2.8000000000000003,
            "bin_end": 3.2,
            "count": 1
           },
           {
            "bin_start": 3.2,
            "bin_end": 3.6,
            "count": 0
           },
           {
            "bin_start": 3.6,
            "bin_end": 4,
            "count": 1
           }
          ]
         }
        },
        {
         "name": "SPIN16",
         "dtype": "float64",
         "stats": {
          "unique_count": 4,
          "nan_count": 0,
          "min": "0.0",
          "max": "4.0",
          "histogram": [
           {
            "bin_start": 0,
            "bin_end": 0.4,
            "count": 1
           },
           {
            "bin_start": 0.4,
            "bin_end": 0.8,
            "count": 0
           },
           {
            "bin_start": 0.8,
            "bin_end": 1.2000000000000002,
            "count": 2
           },
           {
            "bin_start": 1.2000000000000002,
            "bin_end": 1.6,
            "count": 0
           },
           {
            "bin_start": 1.6,
            "bin_end": 2,
            "count": 0
           },
           {
            "bin_start": 2,
            "bin_end": 2.4000000000000004,
            "count": 0
           },
           {
            "bin_start": 2.4000000000000004,
            "bin_end": 2.8000000000000003,
            "count": 0
           },
           {
            "bin_start": 2.8000000000000003,
            "bin_end": 3.2,
            "count": 1
           },
           {
            "bin_start": 3.2,
            "bin_end": 3.6,
            "count": 0
           },
           {
            "bin_start": 3.6,
            "bin_end": 4,
            "count": 1
           }
          ]
         }
        },
        {
         "name": "SPIN17",
         "dtype": "float64",
         "stats": {
          "unique_count": 2,
          "nan_count": 0,
          "min": "0.0",
          "max": "2.0",
          "histogram": [
           {
            "bin_start": 0,
            "bin_end": 0.2,
            "count": 3
           },
           {
            "bin_start": 0.2,
            "bin_end": 0.4,
            "count": 0
           },
           {
            "bin_start": 0.4,
            "bin_end": 0.6000000000000001,
            "count": 0
           },
           {
            "bin_start": 0.6000000000000001,
            "bin_end": 0.8,
            "count": 0
           },
           {
            "bin_start": 0.8,
            "bin_end": 1,
            "count": 0
           },
           {
            "bin_start": 1,
            "bin_end": 1.2000000000000002,
            "count": 0
           },
           {
            "bin_start": 1.2000000000000002,
            "bin_end": 1.4000000000000001,
            "count": 0
           },
           {
            "bin_start": 1.4000000000000001,
            "bin_end": 1.6,
            "count": 0
           },
           {
            "bin_start": 1.6,
            "bin_end": 1.8,
            "count": 0
           },
           {
            "bin_start": 1.8,
            "bin_end": 2,
            "count": 2
           }
          ]
         }
        },
        {
         "name": "Narcissism",
         "dtype": "float64",
         "stats": {
          "unique_count": 3,
          "nan_count": 0,
          "min": "1.0",
          "max": "4.0",
          "histogram": [
           {
            "bin_start": 1,
            "bin_end": 1.3,
            "count": 3
           },
           {
            "bin_start": 1.3,
            "bin_end": 1.6,
            "count": 0
           },
           {
            "bin_start": 1.6,
            "bin_end": 1.9,
            "count": 0
           },
           {
            "bin_start": 1.9,
            "bin_end": 2.2,
            "count": 1
           },
           {
            "bin_start": 2.2,
            "bin_end": 2.5,
            "count": 0
           },
           {
            "bin_start": 2.5,
            "bin_end": 2.8,
            "count": 0
           },
           {
            "bin_start": 2.8,
            "bin_end": 3.1,
            "count": 0
           },
           {
            "bin_start": 3.1,
            "bin_end": 3.4,
            "count": 0
           },
           {
            "bin_start": 3.4,
            "bin_end": 3.6999999999999997,
            "count": 0
           },
           {
            "bin_start": 3.6999999999999997,
            "bin_end": 4,
            "count": 1
           }
          ]
         }
        },
        {
         "name": "Gender",
         "dtype": "object",
         "stats": {
          "unique_count": 2,
          "nan_count": 0,
          "categories": [
           {
            "name": "Male",
            "count": 4
           },
           {
            "name": "Female",
            "count": 1
           }
          ]
         }
        },
        {
         "name": "Age",
         "dtype": "int64",
         "stats": {
          "unique_count": 5,
          "nan_count": 0,
          "min": "19",
          "max": "41",
          "histogram": [
           {
            "bin_start": 19,
            "bin_end": 21.2,
            "count": 1
           },
           {
            "bin_start": 21.2,
            "bin_end": 23.4,
            "count": 0
           },
           {
            "bin_start": 23.4,
            "bin_end": 25.6,
            "count": 1
           },
           {
            "bin_start": 25.6,
            "bin_end": 27.8,
            "count": 0
           },
           {
            "bin_start": 27.8,
            "bin_end": 30,
            "count": 1
           },
           {
            "bin_start": 30,
            "bin_end": 32.2,
            "count": 1
           },
           {
            "bin_start": 32.2,
            "bin_end": 34.400000000000006,
            "count": 0
           },
           {
            "bin_start": 34.400000000000006,
            "bin_end": 36.6,
            "count": 0
           },
           {
            "bin_start": 36.6,
            "bin_end": 38.8,
            "count": 0
           },
           {
            "bin_start": 38.8,
            "bin_end": 41,
            "count": 1
           }
          ]
         }
        },
        {
         "name": "Work",
         "dtype": "object",
         "stats": {
          "unique_count": 2,
          "nan_count": 0,
          "categories": [
           {
            "name": "Employed",
            "count": 3
           },
           {
            "name": "Unemployed / between jobs",
            "count": 2
           }
          ]
         }
        },
        {
         "name": "Degree",
         "dtype": "object",
         "stats": {
          "unique_count": 2,
          "nan_count": 0,
          "categories": [
           {
            "name": "Bachelor (or equivalent)",
            "count": 4
           },
           {
            "name": "High school diploma (or equivalent)",
            "count": 1
           }
          ]
         }
        },
        {
         "name": "Birthplace",
         "dtype": "object",
         "stats": {
          "unique_count": 2,
          "nan_count": 0,
          "categories": [
           {
            "name": "USA",
            "count": 4
           },
           {
            "name": "Germany",
            "count": 1
           }
          ]
         }
        },
        {
         "name": "Residence",
         "dtype": "object",
         "stats": {
          "unique_count": 3,
          "nan_count": 0,
          "categories": [
           {
            "name": "USA",
            "count": 3
           },
           {
            "name": "Germany",
            "count": 1
           },
           {
            "name": "South Korea",
            "count": 1
           }
          ]
         }
        },
        {
         "name": "Reference",
         "dtype": "object",
         "stats": {
          "unique_count": 1,
          "nan_count": 0,
          "categories": [
           {
            "name": "Reddit",
            "count": 5
           }
          ]
         }
        },
        {
         "name": "Playstyle",
         "dtype": "object",
         "stats": {
          "unique_count": 3,
          "nan_count": 0,
          "categories": [
           {
            "name": "Singleplayer",
            "count": 2
           },
           {
            "name": "Multiplayer - online - with strangers",
            "count": 2
           },
           {
            "name": "Multiplayer - online - with online acquaintances or teammates",
            "count": 1
           }
          ]
         }
        },
        {
         "name": "accept",
         "dtype": "object",
         "stats": {
          "unique_count": 1,
          "nan_count": 0,
          "categories": [
           {
            "name": "Accept",
            "count": 5
           }
          ]
         }
        },
        {
         "name": "GAD_T",
         "dtype": "int64",
         "stats": {
          "unique_count": 4,
          "nan_count": 0,
          "min": "0",
          "max": "14",
          "histogram": [
           {
            "bin_start": 0,
            "bin_end": 1.4,
            "count": 2
           },
           {
            "bin_start": 1.4,
            "bin_end": 2.8,
            "count": 0
           },
           {
            "bin_start": 2.8,
            "bin_end": 4.199999999999999,
            "count": 0
           },
           {
            "bin_start": 4.199999999999999,
            "bin_end": 5.6,
            "count": 0
           },
           {
            "bin_start": 5.6,
            "bin_end": 7,
            "count": 0
           },
           {
            "bin_start": 7,
            "bin_end": 8.399999999999999,
            "count": 2
           },
           {
            "bin_start": 8.399999999999999,
            "bin_end": 9.799999999999999,
            "count": 0
           },
           {
            "bin_start": 9.799999999999999,
            "bin_end": 11.2,
            "count": 0
           },
           {
            "bin_start": 11.2,
            "bin_end": 12.6,
            "count": 0
           },
           {
            "bin_start": 12.6,
            "bin_end": 14,
            "count": 1
           }
          ]
         }
        },
        {
         "name": "SWL_T",
         "dtype": "int64",
         "stats": {
          "unique_count": 4,
          "nan_count": 0,
          "min": "14",
          "max": "23",
          "histogram": [
           {
            "bin_start": 14,
            "bin_end": 14.9,
            "count": 1
           },
           {
            "bin_start": 14.9,
            "bin_end": 15.8,
            "count": 0
           },
           {
            "bin_start": 15.8,
            "bin_end": 16.7,
            "count": 1
           },
           {
            "bin_start": 16.7,
            "bin_end": 17.6,
            "count": 2
           },
           {
            "bin_start": 17.6,
            "bin_end": 18.5,
            "count": 0
           },
           {
            "bin_start": 18.5,
            "bin_end": 19.4,
            "count": 0
           },
           {
            "bin_start": 19.4,
            "bin_end": 20.3,
            "count": 0
           },
           {
            "bin_start": 20.3,
            "bin_end": 21.2,
            "count": 0
           },
           {
            "bin_start": 21.2,
            "bin_end": 22.1,
            "count": 0
           },
           {
            "bin_start": 22.1,
            "bin_end": 23,
            "count": 1
           }
          ]
         }
        },
        {
         "name": "SPIN_T",
         "dtype": "float64",
         "stats": {
          "unique_count": 5,
          "nan_count": 0,
          "min": "5.0",
          "max": "33.0",
          "histogram": [
           {
            "bin_start": 5,
            "bin_end": 7.8,
            "count": 1
           },
           {
            "bin_start": 7.8,
            "bin_end": 10.6,
            "count": 0
           },
           {
            "bin_start": 10.6,
            "bin_end": 13.399999999999999,
            "count": 2
           },
           {
            "bin_start": 13.399999999999999,
            "bin_end": 16.2,
            "count": 0
           },
           {
            "bin_start": 16.2,
            "bin_end": 19,
            "count": 0
           },
           {
            "bin_start": 19,
            "bin_end": 21.799999999999997,
            "count": 0
           },
           {
            "bin_start": 21.799999999999997,
            "bin_end": 24.599999999999998,
            "count": 0
           },
           {
            "bin_start": 24.599999999999998,
            "bin_end": 27.4,
            "count": 0
           },
           {
            "bin_start": 27.4,
            "bin_end": 30.2,
            "count": 0
           },
           {
            "bin_start": 30.2,
            "bin_end": 33,
            "count": 2
           }
          ]
         }
        },
        {
         "name": "Residence_ISO3",
         "dtype": "object",
         "stats": {
          "unique_count": 3,
          "nan_count": 0,
          "categories": [
           {
            "name": "USA",
            "count": 3
           },
           {
            "name": "DEU",
            "count": 1
           },
           {
            "name": "KOR",
            "count": 1
           }
          ]
         }
        },
        {
         "name": "Birthplace_ISO3",
         "dtype": "object",
         "stats": {
          "unique_count": 2,
          "nan_count": 0,
          "categories": [
           {
            "name": "USA",
            "count": 4
           },
           {
            "name": "DEU",
            "count": 1
           }
          ]
         }
        },
        {
         "name": "_deepnote_index_column",
         "dtype": "int64"
        }
       ],
       "rows_top": [
        {
         "S. No.": 1,
         "Timestamp": 42052.00437,
         "GAD1": 0,
         "GAD2": 0,
         "GAD3": 0,
         "GAD4": 0,
         "GAD5": 1,
         "GAD6": 0,
         "GAD7": 0,
         "GADE": "Not difficult at all",
         "SWL1": 3,
         "SWL2": 5,
         "SWL3": 5,
         "SWL4": 5,
         "SWL5": 5,
         "Game": "Skyrim",
         "Platform": "Console (PS, Xbox, ...)",
         "Hours": 15,
         "earnings": "I play for fun",
         "whyplay": "having fun",
         "League": "nan",
         "highestleague": "nan",
         "streams": 0,
         "SPIN1": 1,
         "SPIN2": 0,
         "SPIN3": 0,
         "SPIN4": 1,
         "SPIN5": 0,
         "SPIN6": 0,
         "SPIN7": 1,
         "SPIN8": 0,
         "SPIN9": 0,
         "SPIN10": 0,
         "SPIN11": 0,
         "SPIN12": 0,
         "SPIN13": 0,
         "SPIN14": 1,
         "SPIN15": 0,
         "SPIN16": 1,
         "SPIN17": 0,
         "Narcissism": 1,
         "Gender": "Male",
         "Age": 25,
         "Work": "Unemployed / between jobs",
         "Degree": "Bachelor (or equivalent)",
         "Birthplace": "USA",
         "Residence": "USA",
         "Reference": "Reddit",
         "Playstyle": "Singleplayer",
         "accept": "Accept",
         "GAD_T": 1,
         "SWL_T": 23,
         "SPIN_T": 5,
         "Residence_ISO3": "USA",
         "Birthplace_ISO3": "USA",
         "_deepnote_index_column": 0
        },
        {
         "S. No.": 2,
         "Timestamp": 42052.0068,
         "GAD1": 1,
         "GAD2": 2,
         "GAD3": 2,
         "GAD4": 2,
         "GAD5": 0,
         "GAD6": 1,
         "GAD7": 0,
         "GADE": "Somewhat difficult",
         "SWL1": 3,
         "SWL2": 5,
         "SWL3": 2,
         "SWL4": 5,
         "SWL5": 1,
         "Game": "Other",
         "Platform": "PC",
         "Hours": 8,
         "earnings": "I play for fun",
         "whyplay": "having fun",
         "League": "nan",
         "highestleague": "nan",
         "streams": 2,
         "SPIN1": 2,
         "SPIN2": 1,
         "SPIN3": 1,
         "SPIN4": 3,
         "SPIN5": 2,
         "SPIN6": 3,
         "SPIN7": 1,
         "SPIN8": 3,
         "SPIN9": 4,
         "SPIN10": 0,
         "SPIN11": 3,
         "SPIN12": 0,
         "SPIN13": 1,
         "SPIN14": 3,
         "SPIN15": 3,
         "SPIN16": 1,
         "SPIN17": 2,
         "Narcissism": 1,
         "Gender": "Male",
         "Age": 41,
         "Work": "Unemployed / between jobs",
         "Degree": "Bachelor (or equivalent)",
         "Birthplace": "USA",
         "Residence": "USA",
         "Reference": "Reddit",
         "Playstyle": "Multiplayer - online - with strangers",
         "accept": "Accept",
         "GAD_T": 8,
         "SWL_T": 16,
         "SPIN_T": 33,
         "Residence_ISO3": "USA",
         "Birthplace_ISO3": "USA",
         "_deepnote_index_column": 1
        },
        {
         "S. No.": 3,
         "Timestamp": 42052.0386,
         "GAD1": 0,
         "GAD2": 2,
         "GAD3": 2,
         "GAD4": 0,
         "GAD5": 0,
         "GAD6": 3,
         "GAD7": 1,
         "GADE": "Not difficult at all",
         "SWL1": 2,
         "SWL2": 6,
         "SWL3": 5,
         "SWL4": 2,
         "SWL5": 2,
         "Game": "Other",
         "Platform": "PC",
         "Hours": 0,
         "earnings": "I play for fun",
         "whyplay": "having fun",
         "League": "nan",
         "highestleague": "nan",
         "streams": 0,
         "SPIN1": 1,
         "SPIN2": 0,
         "SPIN3": 1,
         "SPIN4": 2,
         "SPIN5": 3,
         "SPIN6": 4,
         "SPIN7": 2,
         "SPIN8": 1,
         "SPIN9": 0,
         "SPIN10": 1,
         "SPIN11": 1,
         "SPIN12": 3,
         "SPIN13": 0,
         "SPIN14": 2,
         "SPIN15": 4,
         "SPIN16": 4,
         "SPIN17": 2,
         "Narcissism": 4,
         "Gender": "Female",
         "Age": 32,
         "Work": "Employed",
         "Degree": "Bachelor (or equivalent)",
         "Birthplace": "Germany",
         "Residence": "Germany",
         "Reference": "Reddit",
         "Playstyle": "Singleplayer",
         "accept": "Accept",
         "GAD_T": 8,
         "SWL_T": 17,
         "SPIN_T": 31,
         "Residence_ISO3": "DEU",
         "Birthplace_ISO3": "DEU",
         "_deepnote_index_column": 2
        },
        {
         "S. No.": 4,
         "Timestamp": 42052.06804,
         "GAD1": 0,
         "GAD2": 0,
         "GAD3": 0,
         "GAD4": 0,
         "GAD5": 0,
         "GAD6": 0,
         "GAD7": 0,
         "GADE": "Not difficult at all",
         "SWL1": 2,
         "SWL2": 5,
         "SWL3": 5,
         "SWL4": 3,
         "SWL5": 2,
         "Game": "Other",
         "Platform": "PC",
         "Hours": 20,
         "earnings": "I play for fun",
         "whyplay": "improving",
         "League": "nan",
         "highestleague": "nan",
         "streams": 5,
         "SPIN1": 2,
         "SPIN2": 0,
         "SPIN3": 0,
         "SPIN4": 1,
         "SPIN5": 3,
         "SPIN6": 0,
         "SPIN7": 0,
         "SPIN8": 0,
         "SPIN9": 0,
         "SPIN10": 0,
         "SPIN11": 1,
         "SPIN12": 3,
         "SPIN13": 0,
         "SPIN14": 0,
         "SPIN15": 1,
         "SPIN16": 0,
         "SPIN17": 0,
         "Narcissism": 2,
         "Gender": "Male",
         "Age": 28,
         "Work": "Employed",
         "Degree": "Bachelor (or equivalent)",
         "Birthplace": "USA",
         "Residence": "USA",
         "Reference": "Reddit",
         "Playstyle": "Multiplayer - online - with online acquaintances or teammates",
         "accept": "Accept",
         "GAD_T": 0,
         "SWL_T": 17,
         "SPIN_T": 11,
         "Residence_ISO3": "USA",
         "Birthplace_ISO3": "USA",
         "_deepnote_index_column": 3
        },
        {
         "S. No.": 5,
         "Timestamp": 42052.08948,
         "GAD1": 2,
         "GAD2": 1,
         "GAD3": 2,
         "GAD4": 2,
         "GAD5": 2,
         "GAD6": 3,
         "GAD7": 2,
         "GADE": "Very difficult",
         "SWL1": 2,
         "SWL2": 2,
         "SWL3": 4,
         "SWL4": 5,
         "SWL5": 1,
         "Game": "Other",
         "Platform": "Console (PS, Xbox, ...)",
         "Hours": 20,
         "earnings": "I play for fun",
         "whyplay": "having fun",
         "League": "nan",
         "highestleague": "nan",
         "streams": 1,
         "SPIN1": 2,
         "SPIN2": 0,
         "SPIN3": 0,
         "SPIN4": 0,
         "SPIN5": 1,
         "SPIN6": 0,
         "SPIN7": 0,
         "SPIN8": 4,
         "SPIN9": 2,
         "SPIN10": 0,
         "SPIN11": 1,
         "SPIN12": 0,
         "SPIN13": 0,
         "SPIN14": 0,
         "SPIN15": 0,
         "SPIN16": 3,
         "SPIN17": 0,
         "Narcissism": 1,
         "Gender": "Male",
         "Age": 19,
         "Work": "Employed",
         "Degree": "High school diploma (or equivalent)",
         "Birthplace": "USA",
         "Residence": "South Korea",
         "Reference": "Reddit",
         "Playstyle": "Multiplayer - online - with strangers",
         "accept": "Accept",
         "GAD_T": 14,
         "SWL_T": 14,
         "SPIN_T": 13,
         "Residence_ISO3": "KOR",
         "Birthplace_ISO3": "USA",
         "_deepnote_index_column": 4
        }
       ],
       "rows_bottom": null
      },
      "text/plain": "   S. No.    Timestamp  GAD1  GAD2  GAD3  GAD4  GAD5  GAD6  GAD7  \\\n0       1  42052.00437     0     0     0     0     1     0     0   \n1       2  42052.00680     1     2     2     2     0     1     0   \n2       3  42052.03860     0     2     2     0     0     3     1   \n3       4  42052.06804     0     0     0     0     0     0     0   \n4       5  42052.08948     2     1     2     2     2     3     2   \n\n                   GADE  ...  Birthplace    Residence  Reference  \\\n0  Not difficult at all  ...         USA          USA     Reddit   \n1    Somewhat difficult  ...         USA          USA     Reddit   \n2  Not difficult at all  ...     Germany      Germany     Reddit   \n3  Not difficult at all  ...         USA          USA     Reddit   \n4        Very difficult  ...         USA  South Korea     Reddit   \n\n                                           Playstyle  accept GAD_T SWL_T  \\\n0                                       Singleplayer  Accept     1    23   \n1              Multiplayer - online - with strangers  Accept     8    16   \n2                                       Singleplayer  Accept     8    17   \n3  Multiplayer - online - with online acquaintanc...  Accept     0    17   \n4              Multiplayer - online - with strangers  Accept    14    14   \n\n   SPIN_T Residence_ISO3 Birthplace_ISO3  \n0     5.0            USA             USA  \n1    33.0            USA             USA  \n2    31.0            DEU             DEU  \n3    11.0            USA             USA  \n4    13.0            KOR             USA  \n\n[5 rows x 55 columns]",
      "text/html": "<div>\n<style scoped>\n    .dataframe tbody tr th:only-of-type {\n        vertical-align: middle;\n    }\n\n    .dataframe tbody tr th {\n        vertical-align: top;\n    }\n\n    .dataframe thead th {\n        text-align: right;\n    }\n</style>\n<table border=\"1\" class=\"dataframe\">\n  <thead>\n    <tr style=\"text-align: right;\">\n      <th></th>\n      <th>S. No.</th>\n      <th>Timestamp</th>\n      <th>GAD1</th>\n      <th>GAD2</th>\n      <th>GAD3</th>\n      <th>GAD4</th>\n      <th>GAD5</th>\n      <th>GAD6</th>\n      <th>GAD7</th>\n      <th>GADE</th>\n      <th>...</th>\n      <th>Birthplace</th>\n      <th>Residence</th>\n      <th>Reference</th>\n      <th>Playstyle</th>\n      <th>accept</th>\n      <th>GAD_T</th>\n      <th>SWL_T</th>\n      <th>SPIN_T</th>\n      <th>Residence_ISO3</th>\n      <th>Birthplace_ISO3</th>\n    </tr>\n  </thead>\n  <tbody>\n    <tr>\n      <th>0</th>\n      <td>1</td>\n      <td>42052.00437</td>\n      <td>0</td>\n      <td>0</td>\n      <td>0</td>\n      <td>0</td>\n      <td>1</td>\n      <td>0</td>\n      <td>0</td>\n      <td>Not difficult at all</td>\n      <td>...</td>\n      <td>USA</td>\n      <td>USA</td>\n      <td>Reddit</td>\n      <td>Singleplayer</td>\n      <td>Accept</td>\n      <td>1</td>\n      <td>23</td>\n      <td>5.0</td>\n      <td>USA</td>\n      <td>USA</td>\n    </tr>\n    <tr>\n      <th>1</th>\n      <td>2</td>\n      <td>42052.00680</td>\n      <td>1</td>\n      <td>2</td>\n      <td>2</td>\n      <td>2</td>\n      <td>0</td>\n      <td>1</td>\n      <td>0</td>\n      <td>Somewhat difficult</td>\n      <td>...</td>\n      <td>USA</td>\n      <td>USA</td>\n      <td>Reddit</td>\n      <td>Multiplayer - online - with strangers</td>\n      <td>Accept</td>\n      <td>8</td>\n      <td>16</td>\n      <td>33.0</td>\n      <td>USA</td>\n      <td>USA</td>\n    </tr>\n    <tr>\n      <th>2</th>\n      <td>3</td>\n      <td>42052.03860</td>\n      <td>0</td>\n      <td>2</td>\n      <td>2</td>\n      <td>0</td>\n      <td>0</td>\n      <td>3</td>\n      <td>1</td>\n      <td>Not difficult at all</td>\n      <td>...</td>\n      <td>Germany</td>\n      <td>Germany</td>\n      <td>Reddit</td>\n      <td>Singleplayer</td>\n      <td>Accept</td>\n      <td>8</td>\n      <td>17</td>\n      <td>31.0</td>\n      <td>DEU</td>\n      <td>DEU</td>\n    </tr>\n    <tr>\n      <th>3</th>\n      <td>4</td>\n      <td>42052.06804</td>\n      <td>0</td>\n      <td>0</td>\n      <td>0</td>\n      <td>0</td>\n      <td>0</td>\n      <td>0</td>\n      <td>0</td>\n      <td>Not difficult at all</td>\n      <td>...</td>\n      <td>USA</td>\n      <td>USA</td>\n      <td>Reddit</td>\n      <td>Multiplayer - online - with online acquaintanc...</td>\n      <td>Accept</td>\n      <td>0</td>\n      <td>17</td>\n      <td>11.0</td>\n      <td>USA</td>\n      <td>USA</td>\n    </tr>\n    <tr>\n      <th>4</th>\n      <td>5</td>\n      <td>42052.08948</td>\n      <td>2</td>\n      <td>1</td>\n      <td>2</td>\n      <td>2</td>\n      <td>2</td>\n      <td>3</td>\n      <td>2</td>\n      <td>Very difficult</td>\n      <td>...</td>\n      <td>USA</td>\n      <td>South Korea</td>\n      <td>Reddit</td>\n      <td>Multiplayer - online - with strangers</td>\n      <td>Accept</td>\n      <td>14</td>\n      <td>14</td>\n      <td>13.0</td>\n      <td>KOR</td>\n      <td>USA</td>\n    </tr>\n  </tbody>\n</table>\n<p>5 rows × 55 columns</p>\n</div>"
     },
     "metadata": {}
    }
   ]
  },
  {
   "cell_type": "code",
   "metadata": {
    "tags": [],
    "cell_id": "00008-8a286577-1e1e-4380-a40c-2d82e01f2b48",
    "deepnote_to_be_reexecuted": false,
    "source_hash": "8d7f6016",
    "execution_start": 1630680160787,
    "execution_millis": 9,
    "deepnote_cell_type": "code"
   },
   "source": "ga_df.info()",
   "execution_count": 3,
   "outputs": [
    {
     "name": "stdout",
     "text": "<class 'pandas.core.frame.DataFrame'>\nRangeIndex: 13464 entries, 0 to 13463\nData columns (total 55 columns):\n #   Column           Non-Null Count  Dtype  \n---  ------           --------------  -----  \n 0   S. No.           13464 non-null  int64  \n 1   Timestamp        13464 non-null  float64\n 2   GAD1             13464 non-null  int64  \n 3   GAD2             13464 non-null  int64  \n 4   GAD3             13464 non-null  int64  \n 5   GAD4             13464 non-null  int64  \n 6   GAD5             13464 non-null  int64  \n 7   GAD6             13464 non-null  int64  \n 8   GAD7             13464 non-null  int64  \n 9   GADE             12815 non-null  object \n 10  SWL1             13464 non-null  int64  \n 11  SWL2             13464 non-null  int64  \n 12  SWL3             13464 non-null  int64  \n 13  SWL4             13464 non-null  int64  \n 14  SWL5             13464 non-null  int64  \n 15  Game             13464 non-null  object \n 16  Platform         13464 non-null  object \n 17  Hours            13434 non-null  float64\n 18  earnings         13464 non-null  object \n 19  whyplay          13464 non-null  object \n 20  League           11626 non-null  object \n 21  highestleague    0 non-null      float64\n 22  streams          13364 non-null  float64\n 23  SPIN1            13340 non-null  float64\n 24  SPIN2            13310 non-null  float64\n 25  SPIN3            13324 non-null  float64\n 26  SPIN4            13305 non-null  float64\n 27  SPIN5            13298 non-null  float64\n 28  SPIN6            13308 non-null  float64\n 29  SPIN7            13326 non-null  float64\n 30  SPIN8            13320 non-null  float64\n 31  SPIN9            13306 non-null  float64\n 32  SPIN10           13304 non-null  float64\n 33  SPIN11           13277 non-null  float64\n 34  SPIN12           13296 non-null  float64\n 35  SPIN13           13277 non-null  float64\n 36  SPIN14           13308 non-null  float64\n 37  SPIN15           13317 non-null  float64\n 38  SPIN16           13317 non-null  float64\n 39  SPIN17           13289 non-null  float64\n 40  Narcissism       13441 non-null  float64\n 41  Gender           13464 non-null  object \n 42  Age              13464 non-null  int64  \n 43  Work             13426 non-null  object \n 44  Degree           13464 non-null  object \n 45  Birthplace       13464 non-null  object \n 46  Residence        13464 non-null  object \n 47  Reference        13449 non-null  object \n 48  Playstyle        13464 non-null  object \n 49  accept           13050 non-null  object \n 50  GAD_T            13464 non-null  int64  \n 51  SWL_T            13464 non-null  int64  \n 52  SPIN_T           12814 non-null  float64\n 53  Residence_ISO3   13354 non-null  object \n 54  Birthplace_ISO3  13343 non-null  object \ndtypes: float64(23), int64(16), object(16)\nmemory usage: 5.6+ MB\n",
     "output_type": "stream"
    }
   ]
  },
  {
   "cell_type": "markdown",
   "source": "## II. Data Cleaning",
   "metadata": {
    "tags": [],
    "is_collapsed": false,
    "cell_id": "00002-ae7a5918-4ccc-469e-adac-596c1012d2ae",
    "deepnote_cell_type": "text-cell-h2"
   }
  },
  {
   "cell_type": "markdown",
   "source": "### A. Remove Unnecessary Columns",
   "metadata": {
    "tags": [],
    "is_collapsed": false,
    "cell_id": "00008-a40cd330-75fa-44cd-9f48-f253ceaca42d",
    "deepnote_cell_type": "text-cell-h3"
   }
  },
  {
   "cell_type": "markdown",
   "source": "Some columns will not be needed in the analysis and therefore will be removed. This is done to easily see what values are needed. Remaining columns may be used to revalue or recalculate the present data and perform necessary analysis. The columns to be removed are the following:\n\n- Timestamp       \n- Game             \n- Platform \n- Hours\n- earnings\n- League\n- highestleague\n- streams\n- Narcissism\n- Work\n- Degree\n- Birthplace\n- Residence\n- Reference\n- accept",
   "metadata": {
    "tags": [],
    "cell_id": "00010-a27e267a-8128-4f54-9711-2d48f6b7d3a1",
    "deepnote_cell_type": "markdown"
   }
  },
  {
   "cell_type": "code",
   "metadata": {
    "tags": [],
    "cell_id": "00011-c4af4af1-60ab-45eb-9943-e505aaacad6d",
    "deepnote_to_be_reexecuted": false,
    "source_hash": "4606c6f7",
    "execution_start": 1630680160788,
    "execution_millis": 0,
    "deepnote_cell_type": "code"
   },
   "source": "GameAnxiety = ga_df[['S. No.', 'Gender', 'Age', 'Playstyle', 'Platform', 'whyplay', 'GAD1', 'GAD2', 'GAD3', 'GAD4', 'GAD5', 'GAD6', 'GAD7', 'SWL1', 'SWL2', 'SWL3', 'SWL4', 'SWL5', 'SPIN1', 'SPIN2', 'SPIN3', 'SPIN4', 'SPIN5', 'SPIN6', 'SPIN7', 'SPIN8', 'SPIN9', 'SPIN10', 'SPIN11', 'SPIN12', 'SPIN13', 'SPIN14', 'SPIN15', 'SPIN16', 'SPIN17', 'GAD_T', 'SWL_T', 'SPIN_T']]",
   "execution_count": 4,
   "outputs": []
  },
  {
   "cell_type": "markdown",
   "source": "Which results to:",
   "metadata": {
    "tags": [],
    "cell_id": "00013-4eca70ce-8113-49f6-b4c9-81dfa268206d",
    "deepnote_cell_type": "markdown"
   }
  },
  {
   "cell_type": "code",
   "metadata": {
    "tags": [],
    "cell_id": "00005-57254c5c-ba44-4265-89ce-89daea385b00",
    "deepnote_to_be_reexecuted": false,
    "source_hash": "8b742f05",
    "execution_start": 1630680160792,
    "execution_millis": 22,
    "deepnote_cell_type": "code"
   },
   "source": "GameAnxiety.info()",
   "execution_count": 5,
   "outputs": [
    {
     "name": "stdout",
     "text": "<class 'pandas.core.frame.DataFrame'>\nRangeIndex: 13464 entries, 0 to 13463\nData columns (total 38 columns):\n #   Column     Non-Null Count  Dtype  \n---  ------     --------------  -----  \n 0   S. No.     13464 non-null  int64  \n 1   Gender     13464 non-null  object \n 2   Age        13464 non-null  int64  \n 3   Playstyle  13464 non-null  object \n 4   Platform   13464 non-null  object \n 5   whyplay    13464 non-null  object \n 6   GAD1       13464 non-null  int64  \n 7   GAD2       13464 non-null  int64  \n 8   GAD3       13464 non-null  int64  \n 9   GAD4       13464 non-null  int64  \n 10  GAD5       13464 non-null  int64  \n 11  GAD6       13464 non-null  int64  \n 12  GAD7       13464 non-null  int64  \n 13  SWL1       13464 non-null  int64  \n 14  SWL2       13464 non-null  int64  \n 15  SWL3       13464 non-null  int64  \n 16  SWL4       13464 non-null  int64  \n 17  SWL5       13464 non-null  int64  \n 18  SPIN1      13340 non-null  float64\n 19  SPIN2      13310 non-null  float64\n 20  SPIN3      13324 non-null  float64\n 21  SPIN4      13305 non-null  float64\n 22  SPIN5      13298 non-null  float64\n 23  SPIN6      13308 non-null  float64\n 24  SPIN7      13326 non-null  float64\n 25  SPIN8      13320 non-null  float64\n 26  SPIN9      13306 non-null  float64\n 27  SPIN10     13304 non-null  float64\n 28  SPIN11     13277 non-null  float64\n 29  SPIN12     13296 non-null  float64\n 30  SPIN13     13277 non-null  float64\n 31  SPIN14     13308 non-null  float64\n 32  SPIN15     13317 non-null  float64\n 33  SPIN16     13317 non-null  float64\n 34  SPIN17     13289 non-null  float64\n 35  GAD_T      13464 non-null  int64  \n 36  SWL_T      13464 non-null  int64  \n 37  SPIN_T     12814 non-null  float64\ndtypes: float64(18), int64(16), object(4)\nmemory usage: 3.9+ MB\n",
     "output_type": "stream"
    }
   ]
  },
  {
   "cell_type": "markdown",
   "source": "### B. Removing NaN rows",
   "metadata": {
    "tags": [],
    "is_collapsed": false,
    "cell_id": "00015-104964e8-31b2-4ca1-b7b4-7cab67362d8f",
    "deepnote_cell_type": "text-cell-h3"
   }
  },
  {
   "cell_type": "markdown",
   "source": "We remove the rows with NaN survey results as they can alter the results. Based on the dataframe information above, some SPIN values are missing or inconsistent. The NaN SPIN rows are removed from the current dataframe.",
   "metadata": {
    "tags": [],
    "cell_id": "00016-d21526d3-92d9-4810-98ef-7fce82574bb1",
    "deepnote_cell_type": "markdown"
   }
  },
  {
   "cell_type": "code",
   "metadata": {
    "tags": [],
    "cell_id": "00017-9cc9d955-54b9-4419-b884-36fc237d2fd4",
    "deepnote_to_be_reexecuted": false,
    "source_hash": "36d554a4",
    "execution_start": 1630680160817,
    "execution_millis": 5,
    "deepnote_cell_type": "code"
   },
   "source": "GameAnxiety = GameAnxiety[GameAnxiety['SPIN_T'].notna()]",
   "execution_count": 6,
   "outputs": []
  },
  {
   "cell_type": "markdown",
   "source": "### C. Changing Data Value",
   "metadata": {
    "tags": [],
    "is_collapsed": false,
    "cell_id": "00013-3d4ec7c9-f659-4c58-baba-c0a5845d3571",
    "deepnote_cell_type": "text-cell-h3"
   }
  },
  {
   "cell_type": "markdown",
   "source": "As some columns contain strings and non-categorical data types, it would be difficult to group the values in the future. Values are mapped according to keywords in order to form categorical values and have better groupings. This method is done on the 'whyplay' and 'Playstyle' columns.",
   "metadata": {
    "tags": [],
    "cell_id": "00014-2f57e41b-e9eb-47cf-bba9-6a59f38ebd6f",
    "deepnote_cell_type": "markdown"
   }
  },
  {
   "cell_type": "code",
   "metadata": {
    "tags": [],
    "cell_id": "00005-f6935888-0ef3-4659-a1fc-5cb55db35822",
    "deepnote_to_be_reexecuted": false,
    "source_hash": "f1f886ce",
    "execution_start": 1630680160826,
    "execution_millis": 187,
    "deepnote_cell_type": "code"
   },
   "source": "GameAnxiety.loc[GameAnxiety['whyplay'].str.contains('all', case=False), 'whyplay'] = \"All of the above\"\nGameAnxiety.loc[GameAnxiety['whyplay'].str.contains('winning', case=False), 'whyplay'] = \"winning\"\nGameAnxiety.loc[GameAnxiety['whyplay'].str.contains('win', case=False), 'whyplay'] = \"winning\"\nGameAnxiety.loc[GameAnxiety['whyplay'].str.contains('fun', case=False), 'whyplay'] = \"having fun\"\nGameAnxiety.loc[GameAnxiety['whyplay'].str.contains('time', case=False), 'whyplay'] = \"pass time\"\nGameAnxiety.loc[GameAnxiety['whyplay'].str.contains('improving', case=False), 'whyplay'] = \"improving\"\nGameAnxiety.loc[GameAnxiety['whyplay'].str.contains('learning', case=False), 'whyplay'] = \"improving\"\nGameAnxiety.loc[GameAnxiety['whyplay'].str.contains('friends', case=False), 'whyplay'] = \"friends\"\nGameAnxiety.loc[GameAnxiety['Playstyle'].str.contains('all', case = False), 'Playstyle'] = \"All of the above\"\nGameAnxiety.loc[GameAnxiety['Playstyle'].str.contains('online', case = False), 'Playstyle'] = \"Multiplayer - Online\"\nGameAnxiety.loc[GameAnxiety['Playstyle'].str.contains('offline', case = False), 'Playstyle'] = \"Multiplayer - Offline\"\nGameAnxiety.loc[GameAnxiety['Playstyle'].str.contains('strangers', case = False), 'Playstyle'] = \"Multiplayer - Online\"\nGameAnxiety.loc[GameAnxiety['Playstyle'].str.contains('friends', case = False), 'Playstyle'] = \"Multiplayer - Online\"\nGameAnxiety.loc[GameAnxiety['Playstyle'].str.contains('singleplayer' or 'Singleplayer', case = False), 'Playstyle'] = \"Singleplayer\"",
   "execution_count": 7,
   "outputs": []
  },
  {
   "cell_type": "markdown",
   "source": "The SWL questionnaire's lowest value is one (1) while the other questionnaires had zero (0) as the lowest value. This would create inconsistencies with the calculation when getting the average percentage of the three questionnaires. The SWL scores are revalued by subtracting 1 from all SWL questions and recalculating the total with the new values.",
   "metadata": {
    "tags": [],
    "cell_id": "00024-3e215ea1-a242-421a-8753-7e8fa2962917",
    "deepnote_cell_type": "markdown"
   }
  },
  {
   "cell_type": "code",
   "metadata": {
    "tags": [],
    "cell_id": "00023-463bd0f2-3bad-467b-af8b-bf77f3206946",
    "deepnote_to_be_reexecuted": false,
    "source_hash": "39abdaab",
    "execution_start": 1630680161060,
    "execution_millis": 1,
    "deepnote_cell_type": "code"
   },
   "source": "GameAnxiety['SWL1'] = GameAnxiety['SWL1'] - 1\nGameAnxiety['SWL2'] = GameAnxiety['SWL2'] - 1\nGameAnxiety['SWL3'] = GameAnxiety['SWL3'] - 1\nGameAnxiety['SWL4'] = GameAnxiety['SWL4'] - 1\nGameAnxiety['SWL5'] = GameAnxiety['SWL5'] - 1\ncol_list = ['SWL1', 'SWL2', 'SWL3', 'SWL4', 'SWL5']\nGameAnxiety['SWL_T'] = GameAnxiety[col_list].sum(axis=1)\n",
   "execution_count": 8,
   "outputs": []
  },
  {
   "cell_type": "markdown",
   "source": "### D. Final Dataframe",
   "metadata": {
    "tags": [],
    "is_collapsed": false,
    "cell_id": "00021-029123a2-c648-4d1d-b605-b501b8254243",
    "deepnote_cell_type": "text-cell-h3"
   }
  },
  {
   "cell_type": "code",
   "metadata": {
    "tags": [],
    "cell_id": "00027-a44e4642-333d-40fb-983e-7784388fb9ba",
    "deepnote_to_be_reexecuted": false,
    "source_hash": "5cba217a",
    "execution_start": 1630680161061,
    "execution_millis": 103,
    "deepnote_cell_type": "code"
   },
   "source": "GameAnxiety",
   "execution_count": 9,
   "outputs": [
    {
     "output_type": "execute_result",
     "execution_count": 9,
     "data": {
      "application/vnd.deepnote.dataframe.v2+json": {
       "row_count": 12814,
       "column_count": 38,
       "columns": [
        {
         "name": "S. No.",
         "dtype": "int64",
         "stats": {
          "unique_count": 12814,
          "nan_count": 0,
          "min": "1",
          "max": "14250",
          "histogram": [
           {
            "bin_start": 1,
            "bin_end": 1425.9,
            "count": 1288
           },
           {
            "bin_start": 1425.9,
            "bin_end": 2850.8,
            "count": 1294
           },
           {
            "bin_start": 2850.8,
            "bin_end": 4275.700000000001,
            "count": 1290
           },
           {
            "bin_start": 4275.700000000001,
            "bin_end": 5700.6,
            "count": 1302
           },
           {
            "bin_start": 5700.6,
            "bin_end": 7125.5,
            "count": 1261
           },
           {
            "bin_start": 7125.5,
            "bin_end": 8550.400000000001,
            "count": 1288
           },
           {
            "bin_start": 8550.400000000001,
            "bin_end": 9975.300000000001,
            "count": 1293
           },
           {
            "bin_start": 9975.300000000001,
            "bin_end": 11400.2,
            "count": 1269
           },
           {
            "bin_start": 11400.2,
            "bin_end": 12825.1,
            "count": 1246
           },
           {
            "bin_start": 12825.1,
            "bin_end": 14250,
            "count": 1283
           }
          ]
         }
        },
        {
         "name": "Gender",
         "dtype": "object",
         "stats": {
          "unique_count": 3,
          "nan_count": 0,
          "categories": [
           {
            "name": "Male",
            "count": 12071
           },
           {
            "name": "Female",
            "count": 692
           },
           {
            "name": "Other",
            "count": 51
           }
          ]
         }
        },
        {
         "name": "Age",
         "dtype": "int64",
         "stats": {
          "unique_count": 29,
          "nan_count": 0,
          "min": "18",
          "max": "56",
          "histogram": [
           {
            "bin_start": 18,
            "bin_end": 21.8,
            "count": 8618
           },
           {
            "bin_start": 21.8,
            "bin_end": 25.6,
            "count": 3058
           },
           {
            "bin_start": 25.6,
            "bin_end": 29.4,
            "count": 817
           },
           {
            "bin_start": 29.4,
            "bin_end": 33.2,
            "count": 231
           },
           {
            "bin_start": 33.2,
            "bin_end": 37,
            "count": 52
           },
           {
            "bin_start": 37,
            "bin_end": 40.8,
            "count": 22
           },
           {
            "bin_start": 40.8,
            "bin_end": 44.599999999999994,
            "count": 11
           },
           {
            "bin_start": 44.599999999999994,
            "bin_end": 48.4,
            "count": 0
           },
           {
            "bin_start": 48.4,
            "bin_end": 52.199999999999996,
            "count": 4
           },
           {
            "bin_start": 52.199999999999996,
            "bin_end": 56,
            "count": 1
           }
          ]
         }
        },
        {
         "name": "Playstyle",
         "dtype": "object",
         "stats": {
          "unique_count": 53,
          "nan_count": 0,
          "categories": [
           {
            "name": "Multiplayer - Online",
            "count": 11942
           },
           {
            "name": "Singleplayer",
            "count": 730
           },
           {
            "name": "51 others",
            "count": 142
           }
          ]
         }
        },
        {
         "name": "Platform",
         "dtype": "object",
         "stats": {
          "unique_count": 3,
          "nan_count": 0,
          "categories": [
           {
            "name": "PC",
            "count": 12582
           },
           {
            "name": "Console (PS, Xbox, ...)",
            "count": 211
           },
           {
            "name": "Smartphone / Tablet",
            "count": 21
           }
          ]
         }
        },
        {
         "name": "whyplay",
         "dtype": "object",
         "stats": {
          "unique_count": 113,
          "nan_count": 0,
          "categories": [
           {
            "name": "having fun",
            "count": 5164
           },
           {
            "name": "improving",
            "count": 4696
           },
           {
            "name": "111 others",
            "count": 2954
           }
          ]
         }
        },
        {
         "name": "GAD1",
         "dtype": "int64",
         "stats": {
          "unique_count": 4,
          "nan_count": 0,
          "min": "0",
          "max": "3",
          "histogram": [
           {
            "bin_start": 0,
            "bin_end": 0.3,
            "count": 5420
           },
           {
            "bin_start": 0.3,
            "bin_end": 0.6,
            "count": 0
           },
           {
            "bin_start": 0.6,
            "bin_end": 0.8999999999999999,
            "count": 0
           },
           {
            "bin_start": 0.8999999999999999,
            "bin_end": 1.2,
            "count": 4847
           },
           {
            "bin_start": 1.2,
            "bin_end": 1.5,
            "count": 0
           },
           {
            "bin_start": 1.5,
            "bin_end": 1.7999999999999998,
            "count": 0
           },
           {
            "bin_start": 1.7999999999999998,
            "bin_end": 2.1,
            "count": 1450
           },
           {
            "bin_start": 2.1,
            "bin_end": 2.4,
            "count": 0
           },
           {
            "bin_start": 2.4,
            "bin_end": 2.6999999999999997,
            "count": 0
           },
           {
            "bin_start": 2.6999999999999997,
            "bin_end": 3,
            "count": 1097
           }
          ]
         }
        },
        {
         "name": "GAD2",
         "dtype": "int64"
        },
        {
         "name": "GAD3",
         "dtype": "int64"
        },
        {
         "name": "GAD4",
         "dtype": "int64"
        },
        {
         "name": "GAD5",
         "dtype": "int64"
        },
        {
         "name": "GAD6",
         "dtype": "int64"
        },
        {
         "name": "GAD7",
         "dtype": "int64"
        },
        {
         "name": "SWL1",
         "dtype": "int64"
        },
        {
         "name": "SWL2",
         "dtype": "int64"
        },
        {
         "name": "SWL3",
         "dtype": "int64"
        },
        {
         "name": "SWL4",
         "dtype": "int64"
        },
        {
         "name": "SWL5",
         "dtype": "int64"
        },
        {
         "name": "SPIN1",
         "dtype": "float64"
        },
        {
         "name": "SPIN2",
         "dtype": "float64"
        },
        {
         "name": "SPIN3",
         "dtype": "float64"
        },
        {
         "name": "SPIN4",
         "dtype": "float64"
        },
        {
         "name": "SPIN5",
         "dtype": "float64"
        },
        {
         "name": "SPIN6",
         "dtype": "float64"
        },
        {
         "name": "SPIN7",
         "dtype": "float64"
        },
        {
         "name": "SPIN8",
         "dtype": "float64"
        },
        {
         "name": "SPIN9",
         "dtype": "float64"
        },
        {
         "name": "SPIN10",
         "dtype": "float64"
        },
        {
         "name": "SPIN11",
         "dtype": "float64"
        },
        {
         "name": "SPIN12",
         "dtype": "float64"
        },
        {
         "name": "SPIN13",
         "dtype": "float64"
        },
        {
         "name": "SPIN14",
         "dtype": "float64"
        },
        {
         "name": "SPIN15",
         "dtype": "float64"
        },
        {
         "name": "SPIN16",
         "dtype": "float64"
        },
        {
         "name": "SPIN17",
         "dtype": "float64"
        },
        {
         "name": "GAD_T",
         "dtype": "int64"
        },
        {
         "name": "SWL_T",
         "dtype": "int64"
        },
        {
         "name": "SPIN_T",
         "dtype": "float64"
        },
        {
         "name": "_deepnote_index_column",
         "dtype": "int64"
        }
       ],
       "rows_top": [
        {
         "S. No.": 1,
         "Gender": "Male",
         "Age": 25,
         "Playstyle": "Singleplayer",
         "Platform": "Console (PS, Xbox, ...)",
         "whyplay": "having fun",
         "GAD1": 0,
         "GAD2": 0,
         "GAD3": 0,
         "GAD4": 0,
         "GAD5": 1,
         "GAD6": 0,
         "GAD7": 0,
         "SWL1": 2,
         "SWL2": 4,
         "SWL3": 4,
         "SWL4": 4,
         "SWL5": 4,
         "SPIN1": 1,
         "SPIN2": 0,
         "SPIN3": 0,
         "SPIN4": 1,
         "SPIN5": 0,
         "SPIN6": 0,
         "SPIN7": 1,
         "SPIN8": 0,
         "SPIN9": 0,
         "SPIN10": 0,
         "SPIN11": 0,
         "SPIN12": 0,
         "SPIN13": 0,
         "SPIN14": 1,
         "SPIN15": 0,
         "SPIN16": 1,
         "SPIN17": 0,
         "GAD_T": 1,
         "SWL_T": 18,
         "SPIN_T": 5,
         "_deepnote_index_column": 0
        },
        {
         "S. No.": 2,
         "Gender": "Male",
         "Age": 41,
         "Playstyle": "Multiplayer - Online",
         "Platform": "PC",
         "whyplay": "having fun",
         "GAD1": 1,
         "GAD2": 2,
         "GAD3": 2,
         "GAD4": 2,
         "GAD5": 0,
         "GAD6": 1,
         "GAD7": 0,
         "SWL1": 2,
         "SWL2": 4,
         "SWL3": 1,
         "SWL4": 4,
         "SWL5": 0,
         "SPIN1": 2,
         "SPIN2": 1,
         "SPIN3": 1,
         "SPIN4": 3,
         "SPIN5": 2,
         "SPIN6": 3,
         "SPIN7": 1,
         "SPIN8": 3,
         "SPIN9": 4,
         "SPIN10": 0,
         "SPIN11": 3,
         "SPIN12": 0,
         "SPIN13": 1,
         "SPIN14": 3,
         "SPIN15": 3,
         "SPIN16": 1,
         "SPIN17": 2,
         "GAD_T": 8,
         "SWL_T": 11,
         "SPIN_T": 33,
         "_deepnote_index_column": 1
        },
        {
         "S. No.": 3,
         "Gender": "Female",
         "Age": 32,
         "Playstyle": "Singleplayer",
         "Platform": "PC",
         "whyplay": "having fun",
         "GAD1": 0,
         "GAD2": 2,
         "GAD3": 2,
         "GAD4": 0,
         "GAD5": 0,
         "GAD6": 3,
         "GAD7": 1,
         "SWL1": 1,
         "SWL2": 5,
         "SWL3": 4,
         "SWL4": 1,
         "SWL5": 1,
         "SPIN1": 1,
         "SPIN2": 0,
         "SPIN3": 1,
         "SPIN4": 2,
         "SPIN5": 3,
         "SPIN6": 4,
         "SPIN7": 2,
         "SPIN8": 1,
         "SPIN9": 0,
         "SPIN10": 1,
         "SPIN11": 1,
         "SPIN12": 3,
         "SPIN13": 0,
         "SPIN14": 2,
         "SPIN15": 4,
         "SPIN16": 4,
         "SPIN17": 2,
         "GAD_T": 8,
         "SWL_T": 12,
         "SPIN_T": 31,
         "_deepnote_index_column": 2
        },
        {
         "S. No.": 4,
         "Gender": "Male",
         "Age": 28,
         "Playstyle": "Multiplayer - Online",
         "Platform": "PC",
         "whyplay": "improving",
         "GAD1": 0,
         "GAD2": 0,
         "GAD3": 0,
         "GAD4": 0,
         "GAD5": 0,
         "GAD6": 0,
         "GAD7": 0,
         "SWL1": 1,
         "SWL2": 4,
         "SWL3": 4,
         "SWL4": 2,
         "SWL5": 1,
         "SPIN1": 2,
         "SPIN2": 0,
         "SPIN3": 0,
         "SPIN4": 1,
         "SPIN5": 3,
         "SPIN6": 0,
         "SPIN7": 0,
         "SPIN8": 0,
         "SPIN9": 0,
         "SPIN10": 0,
         "SPIN11": 1,
         "SPIN12": 3,
         "SPIN13": 0,
         "SPIN14": 0,
         "SPIN15": 1,
         "SPIN16": 0,
         "SPIN17": 0,
         "GAD_T": 0,
         "SWL_T": 12,
         "SPIN_T": 11,
         "_deepnote_index_column": 3
        },
        {
         "S. No.": 5,
         "Gender": "Male",
         "Age": 19,
         "Playstyle": "Multiplayer - Online",
         "Platform": "Console (PS, Xbox, ...)",
         "whyplay": "having fun",
         "GAD1": 2,
         "GAD2": 1,
         "GAD3": 2,
         "GAD4": 2,
         "GAD5": 2,
         "GAD6": 3,
         "GAD7": 2,
         "SWL1": 1,
         "SWL2": 1,
         "SWL3": 3,
         "SWL4": 4,
         "SWL5": 0,
         "SPIN1": 2,
         "SPIN2": 0,
         "SPIN3": 0,
         "SPIN4": 0,
         "SPIN5": 1,
         "SPIN6": 0,
         "SPIN7": 0,
         "SPIN8": 4,
         "SPIN9": 2,
         "SPIN10": 0,
         "SPIN11": 1,
         "SPIN12": 0,
         "SPIN13": 0,
         "SPIN14": 0,
         "SPIN15": 0,
         "SPIN16": 3,
         "SPIN17": 0,
         "GAD_T": 14,
         "SWL_T": 9,
         "SPIN_T": 13,
         "_deepnote_index_column": 4
        },
        {
         "S. No.": 6,
         "Gender": "Male",
         "Age": 24,
         "Playstyle": "Multiplayer - Online",
         "Platform": "Console (PS, Xbox, ...)",
         "whyplay": "relaxing",
         "GAD1": 0,
         "GAD2": 0,
         "GAD3": 0,
         "GAD4": 0,
         "GAD5": 0,
         "GAD6": 1,
         "GAD7": 0,
         "SWL1": 2,
         "SWL2": 4,
         "SWL3": 2,
         "SWL4": 2,
         "SWL5": 2,
         "SPIN1": 1,
         "SPIN2": 1,
         "SPIN3": 2,
         "SPIN4": 3,
         "SPIN5": 2,
         "SPIN6": 1,
         "SPIN7": 0,
         "SPIN8": 0,
         "SPIN9": 0,
         "SPIN10": 1,
         "SPIN11": 0,
         "SPIN12": 0,
         "SPIN13": 0,
         "SPIN14": 1,
         "SPIN15": 1,
         "SPIN16": 0,
         "SPIN17": 0,
         "GAD_T": 1,
         "SWL_T": 12,
         "SPIN_T": 13,
         "_deepnote_index_column": 5
        },
        {
         "S. No.": 7,
         "Gender": "Male",
         "Age": 29,
         "Playstyle": "Multiplayer - Online",
         "Platform": "PC",
         "whyplay": "relaxing",
         "GAD1": 0,
         "GAD2": 0,
         "GAD3": 0,
         "GAD4": 0,
         "GAD5": 0,
         "GAD6": 0,
         "GAD7": 0,
         "SWL1": 2,
         "SWL2": 3,
         "SWL3": 3,
         "SWL4": 2,
         "SWL5": 1,
         "SPIN1": 1,
         "SPIN2": 2,
         "SPIN3": 2,
         "SPIN4": 3,
         "SPIN5": 1,
         "SPIN6": 1,
         "SPIN7": 1,
         "SPIN8": 2,
         "SPIN9": 3,
         "SPIN10": 1,
         "SPIN11": 3,
         "SPIN12": 1,
         "SPIN13": 0,
         "SPIN14": 1,
         "SPIN15": 2,
         "SPIN16": 1,
         "SPIN17": 1,
         "GAD_T": 0,
         "SWL_T": 11,
         "SPIN_T": 26,
         "_deepnote_index_column": 6
        },
        {
         "S. No.": 9,
         "Gender": "Female",
         "Age": 23,
         "Playstyle": "Multiplayer - Online",
         "Platform": "Console (PS, Xbox, ...)",
         "whyplay": "winning",
         "GAD1": 2,
         "GAD2": 3,
         "GAD3": 2,
         "GAD4": 2,
         "GAD5": 0,
         "GAD6": 1,
         "GAD7": 2,
         "SWL1": 1,
         "SWL2": 2,
         "SWL3": 2,
         "SWL4": 2,
         "SWL5": 0,
         "SPIN1": 1,
         "SPIN2": 1,
         "SPIN3": 4,
         "SPIN4": 4,
         "SPIN5": 4,
         "SPIN6": 4,
         "SPIN7": 4,
         "SPIN8": 4,
         "SPIN9": 3,
         "SPIN10": 3,
         "SPIN11": 4,
         "SPIN12": 4,
         "SPIN13": 2,
         "SPIN14": 4,
         "SPIN15": 4,
         "SPIN16": 2,
         "SPIN17": 3,
         "GAD_T": 12,
         "SWL_T": 7,
         "SPIN_T": 55,
         "_deepnote_index_column": 8
        },
        {
         "S. No.": 10,
         "Gender": "Female",
         "Age": 27,
         "Playstyle": "Multiplayer - Online",
         "Platform": "PC",
         "whyplay": "improving",
         "GAD1": 2,
         "GAD2": 1,
         "GAD3": 2,
         "GAD4": 2,
         "GAD5": 2,
         "GAD6": 1,
         "GAD7": 0,
         "SWL1": 2,
         "SWL2": 2,
         "SWL3": 2,
         "SWL4": 1,
         "SWL5": 1,
         "SPIN1": 1,
         "SPIN2": 1,
         "SPIN3": 1,
         "SPIN4": 1,
         "SPIN5": 3,
         "SPIN6": 3,
         "SPIN7": 0,
         "SPIN8": 1,
         "SPIN9": 2,
         "SPIN10": 2,
         "SPIN11": 3,
         "SPIN12": 1,
         "SPIN13": 0,
         "SPIN14": 3,
         "SPIN15": 2,
         "SPIN16": 0,
         "SPIN17": 2,
         "GAD_T": 10,
         "SWL_T": 8,
         "SPIN_T": 26,
         "_deepnote_index_column": 9
        },
        {
         "S. No.": 11,
         "Gender": "Female",
         "Age": 21,
         "Playstyle": "Singleplayer",
         "Platform": "PC",
         "whyplay": "having fun",
         "GAD1": 3,
         "GAD2": 3,
         "GAD3": 3,
         "GAD4": 3,
         "GAD5": 1,
         "GAD6": 3,
         "GAD7": 3,
         "SWL1": 4,
         "SWL2": 4,
         "SWL3": 5,
         "SWL4": 5,
         "SWL5": 4,
         "SPIN1": 0,
         "SPIN2": 0,
         "SPIN3": 0,
         "SPIN4": 1,
         "SPIN5": 1,
         "SPIN6": 1,
         "SPIN7": 0,
         "SPIN8": 0,
         "SPIN9": 0,
         "SPIN10": 0,
         "SPIN11": 0,
         "SPIN12": 0,
         "SPIN13": 0,
         "SPIN14": 2,
         "SPIN15": 1,
         "SPIN16": 0,
         "SPIN17": 0,
         "GAD_T": 19,
         "SWL_T": 22,
         "SPIN_T": 6,
         "_deepnote_index_column": 10
        },
        {
         "S. No.": 12,
         "Gender": "Male",
         "Age": 25,
         "Playstyle": "Multiplayer - Online",
         "Platform": "PC",
         "whyplay": "having fun",
         "GAD1": 0,
         "GAD2": 0,
         "GAD3": 0,
         "GAD4": 0,
         "GAD5": 0,
         "GAD6": 0,
         "GAD7": 0,
         "SWL1": 6,
         "SWL2": 6,
         "SWL3": 6,
         "SWL4": 4,
         "SWL5": 6,
         "SPIN1": 1,
         "SPIN2": 0,
         "SPIN3": 0,
         "SPIN4": 1,
         "SPIN5": 0,
         "SPIN6": 0,
         "SPIN7": 0,
         "SPIN8": 0,
         "SPIN9": 1,
         "SPIN10": 0,
         "SPIN11": 0,
         "SPIN12": 0,
         "SPIN13": 0,
         "SPIN14": 0,
         "SPIN15": 0,
         "SPIN16": 0,
         "SPIN17": 0,
         "GAD_T": 0,
         "SWL_T": 28,
         "SPIN_T": 3,
         "_deepnote_index_column": 11
        },
        {
         "S. No.": 13,
         "Gender": "Male",
         "Age": 18,
         "Playstyle": "Multiplayer - Online",
         "Platform": "PC",
         "whyplay": "improving",
         "GAD1": 0,
         "GAD2": 0,
         "GAD3": 0,
         "GAD4": 0,
         "GAD5": 0,
         "GAD6": 0,
         "GAD7": 0,
         "SWL1": 5,
         "SWL2": 5,
         "SWL3": 6,
         "SWL4": 5,
         "SWL5": 5,
         "SPIN1": 1,
         "SPIN2": 3,
         "SPIN3": 1,
         "SPIN4": 2,
         "SPIN5": 2,
         "SPIN6": 1,
         "SPIN7": 1,
         "SPIN8": 0,
         "SPIN9": 3,
         "SPIN10": 0,
         "SPIN11": 3,
         "SPIN12": 2,
         "SPIN13": 0,
         "SPIN14": 1,
         "SPIN15": 1,
         "SPIN16": 1,
         "SPIN17": 1,
         "GAD_T": 0,
         "SWL_T": 26,
         "SPIN_T": 23,
         "_deepnote_index_column": 12
        },
        {
         "S. No.": 14,
         "Gender": "Male",
         "Age": 19,
         "Playstyle": "Multiplayer - Online",
         "Platform": "Console (PS, Xbox, ...)",
         "whyplay": "relaxing",
         "GAD1": 0,
         "GAD2": 0,
         "GAD3": 1,
         "GAD4": 0,
         "GAD5": 0,
         "GAD6": 1,
         "GAD7": 1,
         "SWL1": 5,
         "SWL2": 6,
         "SWL3": 2,
         "SWL4": 5,
         "SWL5": 3,
         "SPIN1": 0,
         "SPIN2": 4,
         "SPIN3": 2,
         "SPIN4": 3,
         "SPIN5": 4,
         "SPIN6": 1,
         "SPIN7": 4,
         "SPIN8": 1,
         "SPIN9": 4,
         "SPIN10": 1,
         "SPIN11": 1,
         "SPIN12": 4,
         "SPIN13": 0,
         "SPIN14": 0,
         "SPIN15": 0,
         "SPIN16": 0,
         "SPIN17": 0,
         "GAD_T": 3,
         "SWL_T": 21,
         "SPIN_T": 29,
         "_deepnote_index_column": 13
        }
       ],
       "rows_bottom": [
        {
         "S. No.": 14236,
         "Gender": "Male",
         "Age": 21,
         "Playstyle": "Multiplayer - Online",
         "Platform": "PC",
         "whyplay": "having fun",
         "GAD1": 0,
         "GAD2": 1,
         "GAD3": 0,
         "GAD4": 0,
         "GAD5": 0,
         "GAD6": 1,
         "GAD7": 1,
         "SWL1": 5,
         "SWL2": 6,
         "SWL3": 5,
         "SWL4": 4,
         "SWL5": 3,
         "SPIN1": 0,
         "SPIN2": 0,
         "SPIN3": 0,
         "SPIN4": 1,
         "SPIN5": 0,
         "SPIN6": 0,
         "SPIN7": 0,
         "SPIN8": 0,
         "SPIN9": 1,
         "SPIN10": 0,
         "SPIN11": 0,
         "SPIN12": 0,
         "SPIN13": 0,
         "SPIN14": 1,
         "SPIN15": 0,
         "SPIN16": 0,
         "SPIN17": 0,
         "GAD_T": 3,
         "SWL_T": 23,
         "SPIN_T": 3,
         "_deepnote_index_column": 13450
        },
        {
         "S. No.": 14237,
         "Gender": "Male",
         "Age": 18,
         "Playstyle": "Multiplayer - Online",
         "Platform": "PC",
         "whyplay": "winning",
         "GAD1": 0,
         "GAD2": 0,
         "GAD3": 1,
         "GAD4": 0,
         "GAD5": 0,
         "GAD6": 1,
         "GAD7": 0,
         "SWL1": 4,
         "SWL2": 4,
         "SWL3": 5,
         "SWL4": 4,
         "SWL5": 5,
         "SPIN1": 0,
         "SPIN2": 3,
         "SPIN3": 2,
         "SPIN4": 3,
         "SPIN5": 2,
         "SPIN6": 1,
         "SPIN7": 1,
         "SPIN8": 3,
         "SPIN9": 2,
         "SPIN10": 0,
         "SPIN11": 4,
         "SPIN12": 3,
         "SPIN13": 0,
         "SPIN14": 1,
         "SPIN15": 4,
         "SPIN16": 1,
         "SPIN17": 3,
         "GAD_T": 2,
         "SWL_T": 22,
         "SPIN_T": 33,
         "_deepnote_index_column": 13451
        },
        {
         "S. No.": 14238,
         "Gender": "Male",
         "Age": 27,
         "Playstyle": "Multiplayer - Online",
         "Platform": "PC",
         "whyplay": "having fun",
         "GAD1": 1,
         "GAD2": 0,
         "GAD3": 1,
         "GAD4": 0,
         "GAD5": 0,
         "GAD6": 0,
         "GAD7": 0,
         "SWL1": 1,
         "SWL2": 5,
         "SWL3": 2,
         "SWL4": 4,
         "SWL5": 0,
         "SPIN1": 3,
         "SPIN2": 0,
         "SPIN3": 2,
         "SPIN4": 1,
         "SPIN5": 2,
         "SPIN6": 2,
         "SPIN7": 0,
         "SPIN8": 1,
         "SPIN9": 3,
         "SPIN10": 1,
         "SPIN11": 4,
         "SPIN12": 1,
         "SPIN13": 0,
         "SPIN14": 2,
         "SPIN15": 0,
         "SPIN16": 1,
         "SPIN17": 0,
         "GAD_T": 2,
         "SWL_T": 12,
         "SPIN_T": 23,
         "_deepnote_index_column": 13452
        },
        {
         "S. No.": 14239,
         "Gender": "Male",
         "Age": 21,
         "Playstyle": "Multiplayer - Online",
         "Platform": "PC",
         "whyplay": "having fun",
         "GAD1": 2,
         "GAD2": 0,
         "GAD3": 0,
         "GAD4": 1,
         "GAD5": 1,
         "GAD6": 0,
         "GAD7": 0,
         "SWL1": 5,
         "SWL2": 6,
         "SWL3": 5,
         "SWL4": 5,
         "SWL5": 4,
         "SPIN1": 0,
         "SPIN2": 2,
         "SPIN3": 2,
         "SPIN4": 2,
         "SPIN5": 3,
         "SPIN6": 2,
         "SPIN7": 2,
         "SPIN8": 2,
         "SPIN9": 2,
         "SPIN10": 2,
         "SPIN11": 3,
         "SPIN12": 2,
         "SPIN13": 2,
         "SPIN14": 2,
         "SPIN15": 2,
         "SPIN16": 2,
         "SPIN17": 2,
         "GAD_T": 4,
         "SWL_T": 25,
         "SPIN_T": 34,
         "_deepnote_index_column": 13453
        },
        {
         "S. No.": 14241,
         "Gender": "Male",
         "Age": 18,
         "Playstyle": "Singleplayer",
         "Platform": "PC",
         "whyplay": "winning",
         "GAD1": 1,
         "GAD2": 1,
         "GAD3": 2,
         "GAD4": 0,
         "GAD5": 0,
         "GAD6": 2,
         "GAD7": 0,
         "SWL1": 4,
         "SWL2": 2,
         "SWL3": 2,
         "SWL4": 2,
         "SWL5": 2,
         "SPIN1": 1,
         "SPIN2": 1,
         "SPIN3": 0,
         "SPIN4": 2,
         "SPIN5": 1,
         "SPIN6": 1,
         "SPIN7": 2,
         "SPIN8": 0,
         "SPIN9": 1,
         "SPIN10": 0,
         "SPIN11": 1,
         "SPIN12": 0,
         "SPIN13": 0,
         "SPIN14": 2,
         "SPIN15": 1,
         "SPIN16": 1,
         "SPIN17": 0,
         "GAD_T": 6,
         "SWL_T": 12,
         "SPIN_T": 14,
         "_deepnote_index_column": 13455
        },
        {
         "S. No.": 14242,
         "Gender": "Male",
         "Age": 21,
         "Playstyle": "Multiplayer - Online",
         "Platform": "PC",
         "whyplay": "relaxing",
         "GAD1": 1,
         "GAD2": 1,
         "GAD3": 1,
         "GAD4": 0,
         "GAD5": 0,
         "GAD6": 2,
         "GAD7": 0,
         "SWL1": 4,
         "SWL2": 5,
         "SWL3": 6,
         "SWL4": 6,
         "SWL5": 5,
         "SPIN1": 1,
         "SPIN2": 1,
         "SPIN3": 0,
         "SPIN4": 1,
         "SPIN5": 0,
         "SPIN6": 0,
         "SPIN7": 0,
         "SPIN8": 1,
         "SPIN9": 1,
         "SPIN10": 0,
         "SPIN11": 0,
         "SPIN12": 0,
         "SPIN13": 0,
         "SPIN14": 1,
         "SPIN15": 0,
         "SPIN16": 0,
         "SPIN17": 0,
         "GAD_T": 5,
         "SWL_T": 26,
         "SPIN_T": 6,
         "_deepnote_index_column": 13456
        },
        {
         "S. No.": 14243,
         "Gender": "Female",
         "Age": 18,
         "Playstyle": "Multiplayer - Online",
         "Platform": "PC",
         "whyplay": "improving",
         "GAD1": 1,
         "GAD2": 2,
         "GAD3": 2,
         "GAD4": 2,
         "GAD5": 0,
         "GAD6": 0,
         "GAD7": 0,
         "SWL1": 0,
         "SWL2": 0,
         "SWL3": 0,
         "SWL4": 0,
         "SWL5": 0,
         "SPIN1": 0,
         "SPIN2": 0,
         "SPIN3": 3,
         "SPIN4": 1,
         "SPIN5": 2,
         "SPIN6": 2,
         "SPIN7": 2,
         "SPIN8": 4,
         "SPIN9": 4,
         "SPIN10": 1,
         "SPIN11": 4,
         "SPIN12": 4,
         "SPIN13": 0,
         "SPIN14": 1,
         "SPIN15": 2,
         "SPIN16": 0,
         "SPIN17": 3,
         "GAD_T": 7,
         "SWL_T": 0,
         "SPIN_T": 33,
         "_deepnote_index_column": 13457
        },
        {
         "S. No.": 14245,
         "Gender": "Male",
         "Age": 21,
         "Playstyle": "Multiplayer - Online",
         "Platform": "PC",
         "whyplay": "having fun",
         "GAD1": 0,
         "GAD2": 1,
         "GAD3": 1,
         "GAD4": 1,
         "GAD5": 0,
         "GAD6": 2,
         "GAD7": 1,
         "SWL1": 4,
         "SWL2": 2,
         "SWL3": 3,
         "SWL4": 1,
         "SWL5": 1,
         "SPIN1": 0,
         "SPIN2": 0,
         "SPIN3": 0,
         "SPIN4": 0,
         "SPIN5": 1,
         "SPIN6": 1,
         "SPIN7": 2,
         "SPIN8": 1,
         "SPIN9": 0,
         "SPIN10": 0,
         "SPIN11": 3,
         "SPIN12": 2,
         "SPIN13": 1,
         "SPIN14": 1,
         "SPIN15": 0,
         "SPIN16": 0,
         "SPIN17": 0,
         "GAD_T": 6,
         "SWL_T": 11,
         "SPIN_T": 12,
         "_deepnote_index_column": 13458
        },
        {
         "S. No.": 14246,
         "Gender": "Male",
         "Age": 22,
         "Playstyle": "Multiplayer - Online",
         "Platform": "Console (PS, Xbox, ...)",
         "whyplay": "improving",
         "GAD1": 1,
         "GAD2": 0,
         "GAD3": 0,
         "GAD4": 1,
         "GAD5": 0,
         "GAD6": 1,
         "GAD7": 1,
         "SWL1": 5,
         "SWL2": 5,
         "SWL3": 4,
         "SWL4": 4,
         "SWL5": 5,
         "SPIN1": 1,
         "SPIN2": 1,
         "SPIN3": 1,
         "SPIN4": 2,
         "SPIN5": 1,
         "SPIN6": 0,
         "SPIN7": 0,
         "SPIN8": 0,
         "SPIN9": 0,
         "SPIN10": 0,
         "SPIN11": 0,
         "SPIN12": 0,
         "SPIN13": 0,
         "SPIN14": 0,
         "SPIN15": 1,
         "SPIN16": 0,
         "SPIN17": 0,
         "GAD_T": 4,
         "SWL_T": 23,
         "SPIN_T": 7,
         "_deepnote_index_column": 13459
        },
        {
         "S. No.": 14247,
         "Gender": "Female",
         "Age": 20,
         "Playstyle": "Multiplayer - Online",
         "Platform": "PC",
         "whyplay": "winning",
         "GAD1": 3,
         "GAD2": 3,
         "GAD3": 3,
         "GAD4": 3,
         "GAD5": 2,
         "GAD6": 3,
         "GAD7": 3,
         "SWL1": 4,
         "SWL2": 4,
         "SWL3": 4,
         "SWL4": 3,
         "SWL5": 3,
         "SPIN1": 0,
         "SPIN2": 1,
         "SPIN3": 2,
         "SPIN4": 2,
         "SPIN5": 0,
         "SPIN6": 1,
         "SPIN7": 3,
         "SPIN8": 3,
         "SPIN9": 2,
         "SPIN10": 1,
         "SPIN11": 4,
         "SPIN12": 0,
         "SPIN13": 2,
         "SPIN14": 2,
         "SPIN15": 1,
         "SPIN16": 0,
         "SPIN17": 1,
         "GAD_T": 20,
         "SWL_T": 18,
         "SPIN_T": 25,
         "_deepnote_index_column": 13460
        },
        {
         "S. No.": 14248,
         "Gender": "Male",
         "Age": 19,
         "Playstyle": "Multiplayer - Online",
         "Platform": "PC",
         "whyplay": "having fun",
         "GAD1": 0,
         "GAD2": 0,
         "GAD3": 0,
         "GAD4": 0,
         "GAD5": 0,
         "GAD6": 0,
         "GAD7": 0,
         "SWL1": 5,
         "SWL2": 5,
         "SWL3": 6,
         "SWL4": 6,
         "SWL5": 5,
         "SPIN1": 0,
         "SPIN2": 1,
         "SPIN3": 0,
         "SPIN4": 2,
         "SPIN5": 0,
         "SPIN6": 1,
         "SPIN7": 0,
         "SPIN8": 2,
         "SPIN9": 0,
         "SPIN10": 1,
         "SPIN11": 1,
         "SPIN12": 1,
         "SPIN13": 0,
         "SPIN14": 1,
         "SPIN15": 0,
         "SPIN16": 0,
         "SPIN17": 0,
         "GAD_T": 0,
         "SWL_T": 27,
         "SPIN_T": 10,
         "_deepnote_index_column": 13461
        },
        {
         "S. No.": 14249,
         "Gender": "Female",
         "Age": 18,
         "Playstyle": "Singleplayer",
         "Platform": "Console (PS, Xbox, ...)",
         "whyplay": "having fun",
         "GAD1": 3,
         "GAD2": 2,
         "GAD3": 1,
         "GAD4": 3,
         "GAD5": 0,
         "GAD6": 1,
         "GAD7": 3,
         "SWL1": 1,
         "SWL2": 5,
         "SWL3": 2,
         "SWL4": 1,
         "SWL5": 2,
         "SPIN1": 0,
         "SPIN2": 1,
         "SPIN3": 3,
         "SPIN4": 2,
         "SPIN5": 3,
         "SPIN6": 4,
         "SPIN7": 1,
         "SPIN8": 3,
         "SPIN9": 4,
         "SPIN10": 1,
         "SPIN11": 3,
         "SPIN12": 1,
         "SPIN13": 0,
         "SPIN14": 3,
         "SPIN15": 2,
         "SPIN16": 0,
         "SPIN17": 1,
         "GAD_T": 13,
         "SWL_T": 11,
         "SPIN_T": 32,
         "_deepnote_index_column": 13462
        },
        {
         "S. No.": 14250,
         "Gender": "Male",
         "Age": 19,
         "Playstyle": "Multiplayer - Online",
         "Platform": "PC",
         "whyplay": "improving",
         "GAD1": 1,
         "GAD2": 1,
         "GAD3": 0,
         "GAD4": 0,
         "GAD5": 0,
         "GAD6": 0,
         "GAD7": 0,
         "SWL1": 4,
         "SWL2": 5,
         "SWL3": 4,
         "SWL4": 2,
         "SWL5": 5,
         "SPIN1": 1,
         "SPIN2": 0,
         "SPIN3": 1,
         "SPIN4": 3,
         "SPIN5": 0,
         "SPIN6": 3,
         "SPIN7": 0,
         "SPIN8": 1,
         "SPIN9": 0,
         "SPIN10": 1,
         "SPIN11": 0,
         "SPIN12": 0,
         "SPIN13": 0,
         "SPIN14": 0,
         "SPIN15": 1,
         "SPIN16": 1,
         "SPIN17": 2,
         "GAD_T": 2,
         "SWL_T": 20,
         "SPIN_T": 14,
         "_deepnote_index_column": 13463
        }
       ]
      },
      "text/plain": "       S. No.  Gender  Age             Playstyle                 Platform  \\\n0           1    Male   25          Singleplayer  Console (PS, Xbox, ...)   \n1           2    Male   41  Multiplayer - Online                       PC   \n2           3  Female   32          Singleplayer                       PC   \n3           4    Male   28  Multiplayer - Online                       PC   \n4           5    Male   19  Multiplayer - Online  Console (PS, Xbox, ...)   \n...       ...     ...  ...                   ...                      ...   \n13459   14246    Male   22  Multiplayer - Online  Console (PS, Xbox, ...)   \n13460   14247  Female   20  Multiplayer - Online                       PC   \n13461   14248    Male   19  Multiplayer - Online                       PC   \n13462   14249  Female   18          Singleplayer  Console (PS, Xbox, ...)   \n13463   14250    Male   19  Multiplayer - Online                       PC   \n\n          whyplay  GAD1  GAD2  GAD3  GAD4  ...  SPIN11  SPIN12  SPIN13  \\\n0      having fun     0     0     0     0  ...     0.0     0.0     0.0   \n1      having fun     1     2     2     2  ...     3.0     0.0     1.0   \n2      having fun     0     2     2     0  ...     1.0     3.0     0.0   \n3       improving     0     0     0     0  ...     1.0     3.0     0.0   \n4      having fun     2     1     2     2  ...     1.0     0.0     0.0   \n...           ...   ...   ...   ...   ...  ...     ...     ...     ...   \n13459   improving     1     0     0     1  ...     0.0     0.0     0.0   \n13460     winning     3     3     3     3  ...     4.0     0.0     2.0   \n13461  having fun     0     0     0     0  ...     1.0     1.0     0.0   \n13462  having fun     3     2     1     3  ...     3.0     1.0     0.0   \n13463   improving     1     1     0     0  ...     0.0     0.0     0.0   \n\n       SPIN14  SPIN15  SPIN16  SPIN17  GAD_T  SWL_T  SPIN_T  \n0         1.0     0.0     1.0     0.0      1     18     5.0  \n1         3.0     3.0     1.0     2.0      8     11    33.0  \n2         2.0     4.0     4.0     2.0      8     12    31.0  \n3         0.0     1.0     0.0     0.0      0     12    11.0  \n4         0.0     0.0     3.0     0.0     14      9    13.0  \n...       ...     ...     ...     ...    ...    ...     ...  \n13459     0.0     1.0     0.0     0.0      4     23     7.0  \n13460     2.0     1.0     0.0     1.0     20     18    25.0  \n13461     1.0     0.0     0.0     0.0      0     27    10.0  \n13462     3.0     2.0     0.0     1.0     13     11    32.0  \n13463     0.0     1.0     1.0     2.0      2     20    14.0  \n\n[12814 rows x 38 columns]",
      "text/html": "<div>\n<style scoped>\n    .dataframe tbody tr th:only-of-type {\n        vertical-align: middle;\n    }\n\n    .dataframe tbody tr th {\n        vertical-align: top;\n    }\n\n    .dataframe thead th {\n        text-align: right;\n    }\n</style>\n<table border=\"1\" class=\"dataframe\">\n  <thead>\n    <tr style=\"text-align: right;\">\n      <th></th>\n      <th>S. No.</th>\n      <th>Gender</th>\n      <th>Age</th>\n      <th>Playstyle</th>\n      <th>Platform</th>\n      <th>whyplay</th>\n      <th>GAD1</th>\n      <th>GAD2</th>\n      <th>GAD3</th>\n      <th>GAD4</th>\n      <th>...</th>\n      <th>SPIN11</th>\n      <th>SPIN12</th>\n      <th>SPIN13</th>\n      <th>SPIN14</th>\n      <th>SPIN15</th>\n      <th>SPIN16</th>\n      <th>SPIN17</th>\n      <th>GAD_T</th>\n      <th>SWL_T</th>\n      <th>SPIN_T</th>\n    </tr>\n  </thead>\n  <tbody>\n    <tr>\n      <th>0</th>\n      <td>1</td>\n      <td>Male</td>\n      <td>25</td>\n      <td>Singleplayer</td>\n      <td>Console (PS, Xbox, ...)</td>\n      <td>having fun</td>\n      <td>0</td>\n      <td>0</td>\n      <td>0</td>\n      <td>0</td>\n      <td>...</td>\n      <td>0.0</td>\n      <td>0.0</td>\n      <td>0.0</td>\n      <td>1.0</td>\n      <td>0.0</td>\n      <td>1.0</td>\n      <td>0.0</td>\n      <td>1</td>\n      <td>18</td>\n      <td>5.0</td>\n    </tr>\n    <tr>\n      <th>1</th>\n      <td>2</td>\n      <td>Male</td>\n      <td>41</td>\n      <td>Multiplayer - Online</td>\n      <td>PC</td>\n      <td>having fun</td>\n      <td>1</td>\n      <td>2</td>\n      <td>2</td>\n      <td>2</td>\n      <td>...</td>\n      <td>3.0</td>\n      <td>0.0</td>\n      <td>1.0</td>\n      <td>3.0</td>\n      <td>3.0</td>\n      <td>1.0</td>\n      <td>2.0</td>\n      <td>8</td>\n      <td>11</td>\n      <td>33.0</td>\n    </tr>\n    <tr>\n      <th>2</th>\n      <td>3</td>\n      <td>Female</td>\n      <td>32</td>\n      <td>Singleplayer</td>\n      <td>PC</td>\n      <td>having fun</td>\n      <td>0</td>\n      <td>2</td>\n      <td>2</td>\n      <td>0</td>\n      <td>...</td>\n      <td>1.0</td>\n      <td>3.0</td>\n      <td>0.0</td>\n      <td>2.0</td>\n      <td>4.0</td>\n      <td>4.0</td>\n      <td>2.0</td>\n      <td>8</td>\n      <td>12</td>\n      <td>31.0</td>\n    </tr>\n    <tr>\n      <th>3</th>\n      <td>4</td>\n      <td>Male</td>\n      <td>28</td>\n      <td>Multiplayer - Online</td>\n      <td>PC</td>\n      <td>improving</td>\n      <td>0</td>\n      <td>0</td>\n      <td>0</td>\n      <td>0</td>\n      <td>...</td>\n      <td>1.0</td>\n      <td>3.0</td>\n      <td>0.0</td>\n      <td>0.0</td>\n      <td>1.0</td>\n      <td>0.0</td>\n      <td>0.0</td>\n      <td>0</td>\n      <td>12</td>\n      <td>11.0</td>\n    </tr>\n    <tr>\n      <th>4</th>\n      <td>5</td>\n      <td>Male</td>\n      <td>19</td>\n      <td>Multiplayer - Online</td>\n      <td>Console (PS, Xbox, ...)</td>\n      <td>having fun</td>\n      <td>2</td>\n      <td>1</td>\n      <td>2</td>\n      <td>2</td>\n      <td>...</td>\n      <td>1.0</td>\n      <td>0.0</td>\n      <td>0.0</td>\n      <td>0.0</td>\n      <td>0.0</td>\n      <td>3.0</td>\n      <td>0.0</td>\n      <td>14</td>\n      <td>9</td>\n      <td>13.0</td>\n    </tr>\n    <tr>\n      <th>...</th>\n      <td>...</td>\n      <td>...</td>\n      <td>...</td>\n      <td>...</td>\n      <td>...</td>\n      <td>...</td>\n      <td>...</td>\n      <td>...</td>\n      <td>...</td>\n      <td>...</td>\n      <td>...</td>\n      <td>...</td>\n      <td>...</td>\n      <td>...</td>\n      <td>...</td>\n      <td>...</td>\n      <td>...</td>\n      <td>...</td>\n      <td>...</td>\n      <td>...</td>\n      <td>...</td>\n    </tr>\n    <tr>\n      <th>13459</th>\n      <td>14246</td>\n      <td>Male</td>\n      <td>22</td>\n      <td>Multiplayer - Online</td>\n      <td>Console (PS, Xbox, ...)</td>\n      <td>improving</td>\n      <td>1</td>\n      <td>0</td>\n      <td>0</td>\n      <td>1</td>\n      <td>...</td>\n      <td>0.0</td>\n      <td>0.0</td>\n      <td>0.0</td>\n      <td>0.0</td>\n      <td>1.0</td>\n      <td>0.0</td>\n      <td>0.0</td>\n      <td>4</td>\n      <td>23</td>\n      <td>7.0</td>\n    </tr>\n    <tr>\n      <th>13460</th>\n      <td>14247</td>\n      <td>Female</td>\n      <td>20</td>\n      <td>Multiplayer - Online</td>\n      <td>PC</td>\n      <td>winning</td>\n      <td>3</td>\n      <td>3</td>\n      <td>3</td>\n      <td>3</td>\n      <td>...</td>\n      <td>4.0</td>\n      <td>0.0</td>\n      <td>2.0</td>\n      <td>2.0</td>\n      <td>1.0</td>\n      <td>0.0</td>\n      <td>1.0</td>\n      <td>20</td>\n      <td>18</td>\n      <td>25.0</td>\n    </tr>\n    <tr>\n      <th>13461</th>\n      <td>14248</td>\n      <td>Male</td>\n      <td>19</td>\n      <td>Multiplayer - Online</td>\n      <td>PC</td>\n      <td>having fun</td>\n      <td>0</td>\n      <td>0</td>\n      <td>0</td>\n      <td>0</td>\n      <td>...</td>\n      <td>1.0</td>\n      <td>1.0</td>\n      <td>0.0</td>\n      <td>1.0</td>\n      <td>0.0</td>\n      <td>0.0</td>\n      <td>0.0</td>\n      <td>0</td>\n      <td>27</td>\n      <td>10.0</td>\n    </tr>\n    <tr>\n      <th>13462</th>\n      <td>14249</td>\n      <td>Female</td>\n      <td>18</td>\n      <td>Singleplayer</td>\n      <td>Console (PS, Xbox, ...)</td>\n      <td>having fun</td>\n      <td>3</td>\n      <td>2</td>\n      <td>1</td>\n      <td>3</td>\n      <td>...</td>\n      <td>3.0</td>\n      <td>1.0</td>\n      <td>0.0</td>\n      <td>3.0</td>\n      <td>2.0</td>\n      <td>0.0</td>\n      <td>1.0</td>\n      <td>13</td>\n      <td>11</td>\n      <td>32.0</td>\n    </tr>\n    <tr>\n      <th>13463</th>\n      <td>14250</td>\n      <td>Male</td>\n      <td>19</td>\n      <td>Multiplayer - Online</td>\n      <td>PC</td>\n      <td>improving</td>\n      <td>1</td>\n      <td>1</td>\n      <td>0</td>\n      <td>0</td>\n      <td>...</td>\n      <td>0.0</td>\n      <td>0.0</td>\n      <td>0.0</td>\n      <td>0.0</td>\n      <td>1.0</td>\n      <td>1.0</td>\n      <td>2.0</td>\n      <td>2</td>\n      <td>20</td>\n      <td>14.0</td>\n    </tr>\n  </tbody>\n</table>\n<p>12814 rows × 38 columns</p>\n</div>"
     },
     "metadata": {}
    }
   ]
  },
  {
   "cell_type": "code",
   "metadata": {
    "tags": [],
    "cell_id": "00020-919e2fc8-6604-4378-afc2-99dadaed9d5a",
    "deepnote_to_be_reexecuted": false,
    "source_hash": "8b742f05",
    "execution_start": 1630680161160,
    "execution_millis": 25,
    "deepnote_cell_type": "code"
   },
   "source": "GameAnxiety.info()",
   "execution_count": 10,
   "outputs": [
    {
     "name": "stdout",
     "text": "<class 'pandas.core.frame.DataFrame'>\nInt64Index: 12814 entries, 0 to 13463\nData columns (total 38 columns):\n #   Column     Non-Null Count  Dtype  \n---  ------     --------------  -----  \n 0   S. No.     12814 non-null  int64  \n 1   Gender     12814 non-null  object \n 2   Age        12814 non-null  int64  \n 3   Playstyle  12814 non-null  object \n 4   Platform   12814 non-null  object \n 5   whyplay    12814 non-null  object \n 6   GAD1       12814 non-null  int64  \n 7   GAD2       12814 non-null  int64  \n 8   GAD3       12814 non-null  int64  \n 9   GAD4       12814 non-null  int64  \n 10  GAD5       12814 non-null  int64  \n 11  GAD6       12814 non-null  int64  \n 12  GAD7       12814 non-null  int64  \n 13  SWL1       12814 non-null  int64  \n 14  SWL2       12814 non-null  int64  \n 15  SWL3       12814 non-null  int64  \n 16  SWL4       12814 non-null  int64  \n 17  SWL5       12814 non-null  int64  \n 18  SPIN1      12814 non-null  float64\n 19  SPIN2      12814 non-null  float64\n 20  SPIN3      12814 non-null  float64\n 21  SPIN4      12814 non-null  float64\n 22  SPIN5      12814 non-null  float64\n 23  SPIN6      12814 non-null  float64\n 24  SPIN7      12814 non-null  float64\n 25  SPIN8      12814 non-null  float64\n 26  SPIN9      12814 non-null  float64\n 27  SPIN10     12814 non-null  float64\n 28  SPIN11     12814 non-null  float64\n 29  SPIN12     12814 non-null  float64\n 30  SPIN13     12814 non-null  float64\n 31  SPIN14     12814 non-null  float64\n 32  SPIN15     12814 non-null  float64\n 33  SPIN16     12814 non-null  float64\n 34  SPIN17     12814 non-null  float64\n 35  GAD_T      12814 non-null  int64  \n 36  SWL_T      12814 non-null  int64  \n 37  SPIN_T     12814 non-null  float64\ndtypes: float64(18), int64(16), object(4)\nmemory usage: 3.8+ MB\n",
     "output_type": "stream"
    }
   ]
  },
  {
   "cell_type": "markdown",
   "source": "## III. Questions",
   "metadata": {
    "tags": [],
    "is_collapsed": false,
    "cell_id": "00008-a4bd1705-a98a-4cc4-99d8-c3748d04d904",
    "deepnote_cell_type": "text-cell-h2"
   }
  },
  {
   "cell_type": "markdown",
   "source": "For this notebook, each question will have an independent visualization and all possible values will be visualized and shown.\n\nFour questions will be visualized in this portion of the notebook.\n1. What is the age-group that is most likely affected by gaming anxiety?\n2. Does the gender of the individual gamer affect gaming anxiety?\n3. How does the reason for playing (casual, competitive, etc.) affect the gamer’s anxiety levels?\n4. How does the playstyle (playing with randoms, or playing with friends, solo, etc.) affect the gamer’s anxiety levels?\n",
   "metadata": {
    "tags": [],
    "cell_id": "00030-2c179277-b2bc-4c4b-997e-0651fcf15363",
    "deepnote_cell_type": "markdown"
   }
  },
  {
   "cell_type": "markdown",
   "source": "The total of each survey are recorded for the percentage calculation to be done.",
   "metadata": {
    "tags": [],
    "cell_id": "00020-ca17a599-0977-462d-a7e3-1eed57503f7e",
    "deepnote_cell_type": "markdown"
   }
  },
  {
   "cell_type": "code",
   "metadata": {
    "tags": [],
    "cell_id": "00010-a220da0a-672d-41b8-84b9-5daf32aa99f6",
    "deepnote_to_be_reexecuted": false,
    "source_hash": "10d9c066",
    "execution_start": 1630680161220,
    "execution_millis": 0,
    "deepnote_cell_type": "code"
   },
   "source": "GAD_TOTAL = 21\nSWL_TOTAL = 30\nSPIN_TOTAL = 68",
   "execution_count": 11,
   "outputs": []
  },
  {
   "cell_type": "markdown",
   "source": "### A. What&nbsp;is&nbsp;the&nbsp;age-group&nbsp;that&nbsp;is&nbsp;most&nbsp;likely&nbsp;affected&nbsp;by&nbsp;gaming&nbsp;anxiety?",
   "metadata": {
    "tags": [],
    "is_collapsed": false,
    "cell_id": "00028-1016fb72-ebfe-4b66-935c-e1dbd12ba058",
    "deepnote_cell_type": "text-cell-h3"
   }
  },
  {
   "cell_type": "markdown",
   "source": "The first question looks into the age variable. This portion investigates whether there are different anxiety values in age groups. The columns used for this question are `Age`, `GAD_T`, `SWL_T`, and `SPIN_T`. Instead of doing age-specific data, age groups are made to have better averages and calculation. The age groups are decided by cutting and sorting the data into 'n' equal groups where 'n' stands for the number of age groups made. For this portion, 'n' (variable name: `n_age_groups`) is equal to 5. ",
   "metadata": {
    "tags": [],
    "cell_id": "00023-108d0f21-b0f4-43bc-a4ac-dbfc9aaa0cbf",
    "deepnote_cell_type": "markdown"
   }
  },
  {
   "cell_type": "code",
   "metadata": {
    "tags": [],
    "cell_id": "00008-c1108257-2cf6-4dc4-b59a-28a16f7a3250",
    "deepnote_to_be_reexecuted": false,
    "source_hash": "f414e01a",
    "execution_start": 1630680161220,
    "execution_millis": 8,
    "deepnote_cell_type": "code"
   },
   "source": "# What is the age-group that is most likely affected by gaming anxiety?\nGamer_Age = GameAnxiety[['Age', 'GAD_T', 'SWL_T', 'SPIN_T']]\nn_age_group = 5\nage_max = Gamer_Age['Age'].max()\nage_min = Gamer_Age['Age'].min()\nage_n_range = (age_max - age_min) / n_age_group\nGamer_Age['Age'] = pd.cut(Gamer_Age['Age'], n_age_group)",
   "execution_count": 12,
   "outputs": [
    {
     "name": "stderr",
     "text": "/shared-libs/python3.7/py-core/lib/python3.7/site-packages/ipykernel_launcher.py:7: SettingWithCopyWarning: \nA value is trying to be set on a copy of a slice from a DataFrame.\nTry using .loc[row_indexer,col_indexer] = value instead\n\nSee the caveats in the documentation: https://pandas.pydata.org/pandas-docs/stable/user_guide/indexing.html#returning-a-view-versus-a-copy\n  import sys\n",
     "output_type": "stream"
    }
   ]
  },
  {
   "cell_type": "markdown",
   "source": "After grouping the entries according to age groups, the number of people in each category is recorded. This is used to find the average scores of the people in the age groups. `GAD_Ave` takes the average GAD score, `SWL_Ave` takes the average SWL score, and `SPIN_Ave` takes the average SPIN score. The `Average Result` is taken by getting the average percentage of the GAD, SWL, and SPIN averages. Since SWL has a negative correlation, the value used for the `Average Result` computation is the reverse of `SWL_Ave` which is taken by subtracting the questionnaire total (`SWL_TOTAL`) from the `SWL_Ave` value.",
   "metadata": {
    "tags": [],
    "cell_id": "00036-b3da38d0-baf0-4394-ae9d-3d05fd6812bf",
    "deepnote_cell_type": "markdown"
   }
  },
  {
   "cell_type": "code",
   "metadata": {
    "tags": [],
    "cell_id": "00010-32b2bf57-5d9d-42e9-8409-55860a4e1bf8",
    "deepnote_to_be_reexecuted": false,
    "source_hash": "9c6ff36",
    "execution_start": 1630680161221,
    "execution_millis": 35,
    "deepnote_cell_type": "code"
   },
   "source": "Gamer_Age_Total = Gamer_Age.groupby(['Age']).sum()\nGamer_Age_Total['Gamers In Category'] = Gamer_Age.groupby(['Age']).size()\nGamer_Age_Total['GAD_Ave'] = Gamer_Age_Total['GAD_T'] / Gamer_Age_Total['Gamers In Category'] #Higher = more anxiety\nGamer_Age_Total['SWL_Ave'] = Gamer_Age_Total['SWL_T'] / Gamer_Age_Total['Gamers In Category'] #Lower = more anxiety\nGamer_Age_Total['SPIN_Ave'] = Gamer_Age_Total['SPIN_T'] / Gamer_Age_Total['Gamers In Category'] #Higher = more anxiety\nGamer_Age_Total['Average Result'] = ((Gamer_Age_Total['GAD_Ave']/GAD_TOTAL) + ((SWL_TOTAL - Gamer_Age_Total['SWL_Ave']) / SWL_TOTAL) + (Gamer_Age_Total['SPIN_Ave'] / SPIN_TOTAL)) / 3 * 100\nGamer_Age_Total\n",
   "execution_count": 13,
   "outputs": [
    {
     "output_type": "execute_result",
     "execution_count": 13,
     "data": {
      "application/vnd.deepnote.dataframe.v2+json": {
       "row_count": 5,
       "column_count": 8,
       "columns": [
        {
         "name": "GAD_T",
         "dtype": "int64",
         "stats": {
          "unique_count": 5,
          "nan_count": 0,
          "min": "3",
          "max": "61397",
          "histogram": [
           {
            "bin_start": 3,
            "bin_end": 6142.4,
            "count": 4
           },
           {
            "bin_start": 6142.4,
            "bin_end": 12281.8,
            "count": 0
           },
           {
            "bin_start": 12281.8,
            "bin_end": 18421.199999999997,
            "count": 0
           },
           {
            "bin_start": 18421.199999999997,
            "bin_end": 24560.6,
            "count": 0
           },
           {
            "bin_start": 24560.6,
            "bin_end": 30700,
            "count": 0
           },
           {
            "bin_start": 30700,
            "bin_end": 36839.399999999994,
            "count": 0
           },
           {
            "bin_start": 36839.399999999994,
            "bin_end": 42978.799999999996,
            "count": 0
           },
           {
            "bin_start": 42978.799999999996,
            "bin_end": 49118.2,
            "count": 0
           },
           {
            "bin_start": 49118.2,
            "bin_end": 55257.6,
            "count": 0
           },
           {
            "bin_start": 55257.6,
            "bin_end": 61397,
            "count": 1
           }
          ]
         }
        },
        {
         "name": "SWL_T",
         "dtype": "int64",
         "stats": {
          "unique_count": 5,
          "nan_count": 0,
          "min": "109",
          "max": "171765",
          "histogram": [
           {
            "bin_start": 109,
            "bin_end": 17274.6,
            "count": 4
           },
           {
            "bin_start": 17274.6,
            "bin_end": 34440.2,
            "count": 0
           },
           {
            "bin_start": 34440.2,
            "bin_end": 51605.799999999996,
            "count": 0
           },
           {
            "bin_start": 51605.799999999996,
            "bin_end": 68771.4,
            "count": 0
           },
           {
            "bin_start": 68771.4,
            "bin_end": 85937,
            "count": 0
           },
           {
            "bin_start": 85937,
            "bin_end": 103102.59999999999,
            "count": 0
           },
           {
            "bin_start": 103102.59999999999,
            "bin_end": 120268.19999999998,
            "count": 0
           },
           {
            "bin_start": 120268.19999999998,
            "bin_end": 137433.8,
            "count": 0
           },
           {
            "bin_start": 137433.8,
            "bin_end": 154599.4,
            "count": 0
           },
           {
            "bin_start": 154599.4,
            "bin_end": 171765,
            "count": 1
           }
          ]
         }
        },
        {
         "name": "SPIN_T",
         "dtype": "float64",
         "stats": {
          "unique_count": 5,
          "nan_count": 0,
          "min": "29.0",
          "max": "235303.0",
          "histogram": [
           {
            "bin_start": 29,
            "bin_end": 23556.4,
            "count": 4
           },
           {
            "bin_start": 23556.4,
            "bin_end": 47083.8,
            "count": 0
           },
           {
            "bin_start": 47083.8,
            "bin_end": 70611.20000000001,
            "count": 0
           },
           {
            "bin_start": 70611.20000000001,
            "bin_end": 94138.6,
            "count": 0
           },
           {
            "bin_start": 94138.6,
            "bin_end": 117666,
            "count": 0
           },
           {
            "bin_start": 117666,
            "bin_end": 141193.40000000002,
            "count": 0
           },
           {
            "bin_start": 141193.40000000002,
            "bin_end": 164720.80000000002,
            "count": 0
           },
           {
            "bin_start": 164720.80000000002,
            "bin_end": 188248.2,
            "count": 0
           },
           {
            "bin_start": 188248.2,
            "bin_end": 211775.6,
            "count": 0
           },
           {
            "bin_start": 211775.6,
            "bin_end": 235303,
            "count": 1
           }
          ]
         }
        },
        {
         "name": "Gamers In Category",
         "dtype": "int64",
         "stats": {
          "unique_count": 5,
          "nan_count": 0,
          "min": "5",
          "max": "11676",
          "histogram": [
           {
            "bin_start": 5,
            "bin_end": 1172.1,
            "count": 4
           },
           {
            "bin_start": 1172.1,
            "bin_end": 2339.2,
            "count": 0
           },
           {
            "bin_start": 2339.2,
            "bin_end": 3506.2999999999997,
            "count": 0
           },
           {
            "bin_start": 3506.2999999999997,
            "bin_end": 4673.4,
            "count": 0
           },
           {
            "bin_start": 4673.4,
            "bin_end": 5840.5,
            "count": 0
           },
           {
            "bin_start": 5840.5,
            "bin_end": 7007.599999999999,
            "count": 0
           },
           {
            "bin_start": 7007.599999999999,
            "bin_end": 8174.699999999999,
            "count": 0
           },
           {
            "bin_start": 8174.699999999999,
            "bin_end": 9341.8,
            "count": 0
           },
           {
            "bin_start": 9341.8,
            "bin_end": 10508.9,
            "count": 0
           },
           {
            "bin_start": 10508.9,
            "bin_end": 11676,
            "count": 1
           }
          ]
         }
        },
        {
         "name": "GAD_Ave",
         "dtype": "float64",
         "stats": {
          "unique_count": 5,
          "nan_count": 0,
          "min": "0.6",
          "max": "5.363636363636363",
          "histogram": [
           {
            "bin_start": 0.6,
            "bin_end": 1.0763636363636364,
            "count": 1
           },
           {
            "bin_start": 1.0763636363636364,
            "bin_end": 1.5527272727272727,
            "count": 0
           },
           {
            "bin_start": 1.5527272727272727,
            "bin_end": 2.0290909090909093,
            "count": 0
           },
           {
            "bin_start": 2.0290909090909093,
            "bin_end": 2.5054545454545454,
            "count": 0
           },
           {
            "bin_start": 2.5054545454545454,
            "bin_end": 2.981818181818182,
            "count": 0
           },
           {
            "bin_start": 2.981818181818182,
            "bin_end": 3.4581818181818185,
            "count": 0
           },
           {
            "bin_start": 3.4581818181818185,
            "bin_end": 3.9345454545454546,
            "count": 0
           },
           {
            "bin_start": 3.9345454545454546,
            "bin_end": 4.410909090909091,
            "count": 0
           },
           {
            "bin_start": 4.410909090909091,
            "bin_end": 4.887272727272727,
            "count": 2
           },
           {
            "bin_start": 4.887272727272727,
            "bin_end": 5.363636363636363,
            "count": 2
           }
          ]
         }
        },
        {
         "name": "SWL_Ave",
         "dtype": "float64",
         "stats": {
          "unique_count": 5,
          "nan_count": 0,
          "min": "14.710945529290854",
          "max": "21.8",
          "histogram": [
           {
            "bin_start": 14.710945529290854,
            "bin_end": 15.419850976361769,
            "count": 2
           },
           {
            "bin_start": 15.419850976361769,
            "bin_end": 16.128756423432684,
            "count": 0
           },
           {
            "bin_start": 16.128756423432684,
            "bin_end": 16.8376618705036,
            "count": 1
           },
           {
            "bin_start": 16.8376618705036,
            "bin_end": 17.546567317574514,
            "count": 1
           },
           {
            "bin_start": 17.546567317574514,
            "bin_end": 18.255472764645425,
            "count": 0
           },
           {
            "bin_start": 18.255472764645425,
            "bin_end": 18.964378211716344,
            "count": 0
           },
           {
            "bin_start": 18.964378211716344,
            "bin_end": 19.673283658787255,
            "count": 0
           },
           {
            "bin_start": 19.673283658787255,
            "bin_end": 20.38218910585817,
            "count": 0
           },
           {
            "bin_start": 20.38218910585817,
            "bin_end": 21.091094552929086,
            "count": 0
           },
           {
            "bin_start": 21.091094552929086,
            "bin_end": 21.8,
            "count": 1
           }
          ]
         }
        },
        {
         "name": "SPIN_Ave",
         "dtype": "float64",
         "stats": {
          "unique_count": 5,
          "nan_count": 0,
          "min": "5.8",
          "max": "20.15270640630353",
          "histogram": [
           {
            "bin_start": 5.8,
            "bin_end": 7.235270640630352,
            "count": 1
           },
           {
            "bin_start": 7.235270640630352,
            "bin_end": 8.670541281260705,
            "count": 0
           },
           {
            "bin_start": 8.670541281260705,
            "bin_end": 10.105811921891057,
            "count": 0
           },
           {
            "bin_start": 10.105811921891057,
            "bin_end": 11.54108256252141,
            "count": 0
           },
           {
            "bin_start": 11.54108256252141,
            "bin_end": 12.976353203151763,
            "count": 0
           },
           {
            "bin_start": 12.976353203151763,
            "bin_end": 14.411623843782117,
            "count": 0
           },
           {
            "bin_start": 14.411623843782117,
            "bin_end": 15.84689448441247,
            "count": 0
           },
           {
            "bin_start": 15.84689448441247,
            "bin_end": 17.282165125042823,
            "count": 1
           },
           {
            "bin_start": 17.282165125042823,
            "bin_end": 18.717435765673176,
            "count": 1
           },
           {
            "bin_start": 18.717435765673176,
            "bin_end": 20.15270640630353,
            "count": 2
           }
          ]
         }
        },
        {
         "name": "Average Result",
         "dtype": "float64",
         "stats": {
          "unique_count": 5,
          "nan_count": 0,
          "min": "12.906629318394025",
          "max": "35.21327195946324",
          "histogram": [
           {
            "bin_start": 12.906629318394025,
            "bin_end": 15.137293582500947,
            "count": 1
           },
           {
            "bin_start": 15.137293582500947,
            "bin_end": 17.36795784660787,
            "count": 0
           },
           {
            "bin_start": 17.36795784660787,
            "bin_end": 19.59862211071479,
            "count": 0
           },
           {
            "bin_start": 19.59862211071479,
            "bin_end": 21.829286374821713,
            "count": 0
           },
           {
            "bin_start": 21.829286374821713,
            "bin_end": 24.059950638928633,
            "count": 0
           },
           {
            "bin_start": 24.059950638928633,
            "bin_end": 26.290614903035554,
            "count": 0
           },
           {
            "bin_start": 26.290614903035554,
            "bin_end": 28.521279167142474,
            "count": 0
           },
           {
            "bin_start": 28.521279167142474,
            "bin_end": 30.751943431249398,
            "count": 1
           },
           {
            "bin_start": 30.751943431249398,
            "bin_end": 32.98260769535632,
            "count": 2
           },
           {
            "bin_start": 32.98260769535632,
            "bin_end": 35.21327195946324,
            "count": 1
           }
          ]
         }
        },
        {
         "name": "_deepnote_index_column",
         "dtype": "category"
        }
       ],
       "rows_top": [
        {
         "GAD_T": 61397,
         "SWL_T": 171765,
         "SPIN_T": 235303,
         "Gamers In Category": 11676,
         "GAD_Ave": 5.258393285371703,
         "SWL_Ave": 14.710945529290854,
         "SPIN_Ave": 20.15270640630353,
         "Average Result": 35.21327195946324,
         "_deepnote_index_column": "(17.962, 25.6]"
        },
        {
         "GAD_T": 4880,
         "SWL_T": 16082,
         "SPIN_T": 17508,
         "Gamers In Category": 1048,
         "GAD_Ave": 4.656488549618321,
         "SWL_Ave": 15.345419847328245,
         "SPIN_Ave": 16.706106870229007,
         "Average Result": 31.863386576004448,
         "_deepnote_index_column": "(25.6, 33.2]"
        },
        {
         "GAD_T": 331,
         "SWL_T": 1248,
         "SPIN_T": 1289,
         "Gamers In Category": 74,
         "GAD_Ave": 4.472972972972973,
         "SWL_Ave": 16.864864864864863,
         "SPIN_Ave": 17.41891891891892,
         "Average Result": 30.233237439119794,
         "_deepnote_index_column": "(33.2, 40.8]"
        },
        {
         "GAD_T": 59,
         "SWL_T": 182,
         "SPIN_T": 210,
         "Gamers In Category": 11,
         "GAD_Ave": 5.363636363636363,
         "SWL_Ave": 16.545454545454547,
         "SPIN_Ave": 19.09090909090909,
         "Average Result": 32.82149223325694,
         "_deepnote_index_column": "(40.8, 48.4]"
        },
        {
         "GAD_T": 3,
         "SWL_T": 109,
         "SPIN_T": 29,
         "Gamers In Category": 5,
         "GAD_Ave": 0.6,
         "SWL_Ave": 21.8,
         "SPIN_Ave": 5.8,
         "Average Result": 12.906629318394025,
         "_deepnote_index_column": "(48.4, 56.0]"
        }
       ],
       "rows_bottom": null
      },
      "text/plain": "                GAD_T   SWL_T    SPIN_T  Gamers In Category   GAD_Ave  \\\nAge                                                                     \n(17.962, 25.6]  61397  171765  235303.0               11676  5.258393   \n(25.6, 33.2]     4880   16082   17508.0                1048  4.656489   \n(33.2, 40.8]      331    1248    1289.0                  74  4.472973   \n(40.8, 48.4]       59     182     210.0                  11  5.363636   \n(48.4, 56.0]        3     109      29.0                   5  0.600000   \n\n                  SWL_Ave   SPIN_Ave  Average Result  \nAge                                                   \n(17.962, 25.6]  14.710946  20.152706       35.213272  \n(25.6, 33.2]    15.345420  16.706107       31.863387  \n(33.2, 40.8]    16.864865  17.418919       30.233237  \n(40.8, 48.4]    16.545455  19.090909       32.821492  \n(48.4, 56.0]    21.800000   5.800000       12.906629  ",
      "text/html": "<div>\n<style scoped>\n    .dataframe tbody tr th:only-of-type {\n        vertical-align: middle;\n    }\n\n    .dataframe tbody tr th {\n        vertical-align: top;\n    }\n\n    .dataframe thead th {\n        text-align: right;\n    }\n</style>\n<table border=\"1\" class=\"dataframe\">\n  <thead>\n    <tr style=\"text-align: right;\">\n      <th></th>\n      <th>GAD_T</th>\n      <th>SWL_T</th>\n      <th>SPIN_T</th>\n      <th>Gamers In Category</th>\n      <th>GAD_Ave</th>\n      <th>SWL_Ave</th>\n      <th>SPIN_Ave</th>\n      <th>Average Result</th>\n    </tr>\n    <tr>\n      <th>Age</th>\n      <th></th>\n      <th></th>\n      <th></th>\n      <th></th>\n      <th></th>\n      <th></th>\n      <th></th>\n      <th></th>\n    </tr>\n  </thead>\n  <tbody>\n    <tr>\n      <th>(17.962, 25.6]</th>\n      <td>61397</td>\n      <td>171765</td>\n      <td>235303.0</td>\n      <td>11676</td>\n      <td>5.258393</td>\n      <td>14.710946</td>\n      <td>20.152706</td>\n      <td>35.213272</td>\n    </tr>\n    <tr>\n      <th>(25.6, 33.2]</th>\n      <td>4880</td>\n      <td>16082</td>\n      <td>17508.0</td>\n      <td>1048</td>\n      <td>4.656489</td>\n      <td>15.345420</td>\n      <td>16.706107</td>\n      <td>31.863387</td>\n    </tr>\n    <tr>\n      <th>(33.2, 40.8]</th>\n      <td>331</td>\n      <td>1248</td>\n      <td>1289.0</td>\n      <td>74</td>\n      <td>4.472973</td>\n      <td>16.864865</td>\n      <td>17.418919</td>\n      <td>30.233237</td>\n    </tr>\n    <tr>\n      <th>(40.8, 48.4]</th>\n      <td>59</td>\n      <td>182</td>\n      <td>210.0</td>\n      <td>11</td>\n      <td>5.363636</td>\n      <td>16.545455</td>\n      <td>19.090909</td>\n      <td>32.821492</td>\n    </tr>\n    <tr>\n      <th>(48.4, 56.0]</th>\n      <td>3</td>\n      <td>109</td>\n      <td>29.0</td>\n      <td>5</td>\n      <td>0.600000</td>\n      <td>21.800000</td>\n      <td>5.800000</td>\n      <td>12.906629</td>\n    </tr>\n  </tbody>\n</table>\n</div>"
     },
     "metadata": {}
    }
   ]
  },
  {
   "cell_type": "markdown",
   "source": "The next cell is used to create age ranges appropriate for the labelling the visualizations.",
   "metadata": {
    "tags": [],
    "cell_id": "00038-846db437-46de-449b-a491-f73290519066",
    "deepnote_cell_type": "markdown"
   }
  },
  {
   "cell_type": "code",
   "metadata": {
    "tags": [],
    "cell_id": "00030-3121f0f9-aeac-4e95-bfbe-d50447bb4fcd",
    "deepnote_to_be_reexecuted": false,
    "source_hash": "bb37d66b",
    "execution_start": 1630680161296,
    "execution_millis": 23532,
    "deepnote_cell_type": "code"
   },
   "source": "# For Chart labelling / titles\ni = age_min\nage_ranges = []\nwhile(i < age_max):\n    age_ranges.append([math.ceil(i), math.floor(i + age_n_range)])\n    i += age_n_range",
   "execution_count": 14,
   "outputs": []
  },
  {
   "cell_type": "markdown",
   "source": "For this question, a donut chart is used to show the average anxiety result from the data. ",
   "metadata": {
    "tags": [],
    "cell_id": "00040-746c7237-5cb6-4293-a72a-1ad842b2c40e",
    "deepnote_cell_type": "markdown"
   }
  },
  {
   "cell_type": "code",
   "metadata": {
    "tags": [],
    "cell_id": "00014-4dd268c6-e33c-4cea-a0b9-a7af8ee1ec9e",
    "deepnote_to_be_reexecuted": false,
    "source_hash": "956ddab5",
    "execution_start": 1630680161296,
    "execution_millis": 472,
    "deepnote_cell_type": "code"
   },
   "source": "age_groups = list(Gamer_Age_Total.index)\ni = 0\nfor user_group in age_groups:\n    # if user_age in i:\n    #     user_group = i\n    #     break\n    plt.figure(i)\n    user_row = Gamer_Age_Total.loc[user_group]\n    user_data = [100 - user_row['Average Result'], user_row['Average Result']]\n    colors = (\"gainsboro\",\"mediumorchid\") \n    plt.pie(user_data, colors = colors, startangle=90)\n\n    my_circle=plt.Circle( (0,0), 0.7, color='white')\n    p=plt.gcf()\n    p.gca().add_artist(my_circle)\n    plt.text(0,0,\"{:.2f}\".format(user_row['Average Result']) + \"%\",\n            bbox={'facecolor':'white','alpha':1,'edgecolor':'none','pad':1},\n            ha='center', va='center') \n    plt.title(\"Gaming Anxiety percentage for ages \" + str(age_ranges[i][0]) + \" to \" + str(age_ranges[i][1]))\n    i += 1\nplt.show()",
   "execution_count": 15,
   "outputs": [
    {
     "data": {
      "text/plain": "<Figure size 432x288 with 1 Axes>",
      "image/png": "[encoded data removed]"
     },
     "metadata": {
      "image/png": {
       "width": 290,
       "height": 247
      }
     },
     "output_type": "display_data"
    },
    {
     "data": {
      "text/plain": "<Figure size 432x288 with 1 Axes>",
      "image/png": "[encoded data removed]"
     },
     "metadata": {
      "image/png": {
       "width": 290,
       "height": 247
      }
     },
     "output_type": "display_data"
    },
    {
     "data": {
      "text/plain": "<Figure size 432x288 with 1 Axes>",
      "image/png": "[encoded data removed]"
     },
     "metadata": {
      "image/png": {
       "width": 290,
       "height": 247
      }
     },
     "output_type": "display_data"
    },
    {
     "data": {
      "text/plain": "<Figure size 432x288 with 1 Axes>",
      "image/png": "[encoded data removed]"
     },
     "metadata": {
      "image/png": {
       "width": 290,
       "height": 247
      }
     },
     "output_type": "display_data"
    },
    {
     "data": {
      "text/plain": "<Figure size 432x288 with 1 Axes>",
      "image/png": "[encoded data removed]"
     },
     "metadata": {
      "image/png": {
       "width": 290,
       "height": 247
      }
     },
     "output_type": "display_data"
    }
   ]
  },
  {
   "cell_type": "markdown",
   "source": "Based on the data above, the anxiety percentage of the age groups differ only by a small margin. Most of them reached a percentage of around 30% to 35% except for the last age group, 49 to 56, which got only 12.91%. This may be due to several possibilities: the sample size for this category may be too small or perhaps individuals under the said age group are truly more relaxed when gaming. The largest anxiety percent came from the first age group which gained 35.21%. The percentage can still be considered as a low percentage of anxiety, but it can show that the there is still a higher percentage of anxiety amongst younger gamers.",
   "metadata": {
    "tags": [],
    "cell_id": "00042-506a5e89-cf26-491b-a9e3-388bed15f359",
    "deepnote_cell_type": "markdown"
   }
  },
  {
   "cell_type": "markdown",
   "source": "### B. Does&nbsp;the&nbsp;gender&nbsp;of&nbsp;the&nbsp;individual&nbsp;gamer&nbsp;affect&nbsp;gaming&nbsp;anxiety?",
   "metadata": {
    "tags": [],
    "is_collapsed": false,
    "cell_id": "00033-9c4dbfba-9caf-4c4f-acb7-47c9994b6307",
    "deepnote_cell_type": "text-cell-h3"
   }
  },
  {
   "cell_type": "markdown",
   "source": "Gender may become a factor that can affect gaming anxiety due to the biological aspects and/or different treatment received by different genders. In this portion of the notebook, the gender variable is being investigated as an experimental variable towards the anxiety levels of a gamer. The columns to be used for this question are the `Gender`, `GAD_T`, `SWL_T`, and `SPIN_T` columns. Like the previous problem, `Average Result` is taken by getting the average percentage of the GAD, SWL, and SPIN averages. Since SWL has a negative correlation, the value used for the `Average Result` computation is the reverse of `SWL_Ave` which is taken by subtracting the questionnaire total (`SWL_TOTAL`) from the `SWL_Ave` value.",
   "metadata": {
    "tags": [],
    "cell_id": "00044-1baa3aa3-95e6-4d89-9385-6c9806115af4",
    "deepnote_cell_type": "markdown"
   }
  },
  {
   "cell_type": "code",
   "metadata": {
    "tags": [],
    "cell_id": "00015-f00bcfe7-35a6-4b60-8401-c4eac5a398ee",
    "deepnote_to_be_reexecuted": false,
    "source_hash": "be4f6031",
    "execution_start": 1630680161779,
    "execution_millis": 44,
    "deepnote_cell_type": "code"
   },
   "source": "# Does the gender of the individual gamer affect gaming anxiety?\nGamerGender = GameAnxiety[['Gender', 'GAD_T', 'SWL_T', 'SPIN_T']]\nGamerGender_total = GamerGender.groupby(['Gender']).sum()\nGamerGender_total['Gamers in Category'] = GamerGender.groupby(['Gender']).size()\nGamerGender_total['GAD_Ave'] = GamerGender_total['GAD_T'] / GamerGender_total['Gamers in Category']\nGamerGender_total['SWL_Ave'] = GamerGender_total['SWL_T'] / GamerGender_total['Gamers in Category']\nGamerGender_total['SPIN_Ave'] = GamerGender_total['SPIN_T'] / GamerGender_total['Gamers in Category']\nGamerGender_total['Average Result'] = ((GamerGender_total['GAD_Ave']/GAD_TOTAL) + ((SWL_TOTAL - GamerGender_total['SWL_Ave']) / SWL_TOTAL) + (GamerGender_total['SPIN_Ave'] / SPIN_TOTAL)) / 3 * 100\n\nGamerGender_total",
   "execution_count": 16,
   "outputs": [
    {
     "output_type": "execute_result",
     "execution_count": 16,
     "data": {
      "application/vnd.deepnote.dataframe.v2+json": {
       "row_count": 3,
       "column_count": 8,
       "columns": [
        {
         "name": "GAD_T",
         "dtype": "int64",
         "stats": {
          "unique_count": 3,
          "nan_count": 0,
          "min": "477",
          "max": "60923",
          "histogram": [
           {
            "bin_start": 477,
            "bin_end": 6521.6,
            "count": 2
           },
           {
            "bin_start": 6521.6,
            "bin_end": 12566.2,
            "count": 0
           },
           {
            "bin_start": 12566.2,
            "bin_end": 18610.800000000003,
            "count": 0
           },
           {
            "bin_start": 18610.800000000003,
            "bin_end": 24655.4,
            "count": 0
           },
           {
            "bin_start": 24655.4,
            "bin_end": 30700,
            "count": 0
           },
           {
            "bin_start": 30700,
            "bin_end": 36744.600000000006,
            "count": 0
           },
           {
            "bin_start": 36744.600000000006,
            "bin_end": 42789.200000000004,
            "count": 0
           },
           {
            "bin_start": 42789.200000000004,
            "bin_end": 48833.8,
            "count": 0
           },
           {
            "bin_start": 48833.8,
            "bin_end": 54878.4,
            "count": 0
           },
           {
            "bin_start": 54878.4,
            "bin_end": 60923,
            "count": 1
           }
          ]
         }
        },
        {
         "name": "SWL_T",
         "dtype": "int64",
         "stats": {
          "unique_count": 3,
          "nan_count": 0,
          "min": "541",
          "max": "179177",
          "histogram": [
           {
            "bin_start": 541,
            "bin_end": 18404.6,
            "count": 2
           },
           {
            "bin_start": 18404.6,
            "bin_end": 36268.2,
            "count": 0
           },
           {
            "bin_start": 36268.2,
            "bin_end": 54131.799999999996,
            "count": 0
           },
           {
            "bin_start": 54131.799999999996,
            "bin_end": 71995.4,
            "count": 0
           },
           {
            "bin_start": 71995.4,
            "bin_end": 89859,
            "count": 0
           },
           {
            "bin_start": 89859,
            "bin_end": 107722.59999999999,
            "count": 0
           },
           {
            "bin_start": 107722.59999999999,
            "bin_end": 125586.19999999998,
            "count": 0
           },
           {
            "bin_start": 125586.19999999998,
            "bin_end": 143449.8,
            "count": 0
           },
           {
            "bin_start": 143449.8,
            "bin_end": 161313.4,
            "count": 0
           },
           {
            "bin_start": 161313.4,
            "bin_end": 179177,
            "count": 1
           }
          ]
         }
        },
        {
         "name": "SPIN_T",
         "dtype": "float64",
         "stats": {
          "unique_count": 3,
          "nan_count": 0,
          "min": "1457.0",
          "max": "233480.0",
          "histogram": [
           {
            "bin_start": 1457,
            "bin_end": 24659.3,
            "count": 2
           },
           {
            "bin_start": 24659.3,
            "bin_end": 47861.6,
            "count": 0
           },
           {
            "bin_start": 47861.6,
            "bin_end": 71063.9,
            "count": 0
           },
           {
            "bin_start": 71063.9,
            "bin_end": 94266.2,
            "count": 0
           },
           {
            "bin_start": 94266.2,
            "bin_end": 117468.5,
            "count": 0
           },
           {
            "bin_start": 117468.5,
            "bin_end": 140670.8,
            "count": 0
           },
           {
            "bin_start": 140670.8,
            "bin_end": 163873.1,
            "count": 0
           },
           {
            "bin_start": 163873.1,
            "bin_end": 187075.4,
            "count": 0
           },
           {
            "bin_start": 187075.4,
            "bin_end": 210277.69999999998,
            "count": 0
           },
           {
            "bin_start": 210277.69999999998,
            "bin_end": 233480,
            "count": 1
           }
          ]
         }
        },
        {
         "name": "Gamers in Category",
         "dtype": "int64",
         "stats": {
          "unique_count": 3,
          "nan_count": 0,
          "min": "51",
          "max": "12071",
          "histogram": [
           {
            "bin_start": 51,
            "bin_end": 1253,
            "count": 2
           },
           {
            "bin_start": 1253,
            "bin_end": 2455,
            "count": 0
           },
           {
            "bin_start": 2455,
            "bin_end": 3657,
            "count": 0
           },
           {
            "bin_start": 3657,
            "bin_end": 4859,
            "count": 0
           },
           {
            "bin_start": 4859,
            "bin_end": 6061,
            "count": 0
           },
           {
            "bin_start": 6061,
            "bin_end": 7263,
            "count": 0
           },
           {
            "bin_start": 7263,
            "bin_end": 8465,
            "count": 0
           },
           {
            "bin_start": 8465,
            "bin_end": 9667,
            "count": 0
           },
           {
            "bin_start": 9667,
            "bin_end": 10869,
            "count": 0
           },
           {
            "bin_start": 10869,
            "bin_end": 12071,
            "count": 1
           }
          ]
         }
        },
        {
         "name": "GAD_Ave",
         "dtype": "float64",
         "stats": {
          "unique_count": 3,
          "nan_count": 0,
          "min": "5.047054925026924",
          "max": "9.352941176470589",
          "histogram": [
           {
            "bin_start": 5.047054925026924,
            "bin_end": 5.47764355017129,
            "count": 1
           },
           {
            "bin_start": 5.47764355017129,
            "bin_end": 5.908232175315657,
            "count": 0
           },
           {
            "bin_start": 5.908232175315657,
            "bin_end": 6.338820800460024,
            "count": 0
           },
           {
            "bin_start": 6.338820800460024,
            "bin_end": 6.7694094256043895,
            "count": 0
           },
           {
            "bin_start": 6.7694094256043895,
            "bin_end": 7.199998050748756,
            "count": 0
           },
           {
            "bin_start": 7.199998050748756,
            "bin_end": 7.630586675893123,
            "count": 1
           },
           {
            "bin_start": 7.630586675893123,
            "bin_end": 8.061175301037489,
            "count": 0
           },
           {
            "bin_start": 8.061175301037489,
            "bin_end": 8.491763926181855,
            "count": 0
           },
           {
            "bin_start": 8.491763926181855,
            "bin_end": 8.922352551326222,
            "count": 0
           },
           {
            "bin_start": 8.922352551326222,
            "bin_end": 9.352941176470589,
            "count": 1
           }
          ]
         }
        },
        {
         "name": "SWL_Ave",
         "dtype": "float64",
         "stats": {
          "unique_count": 3,
          "nan_count": 0,
          "min": "10.607843137254902",
          "max": "14.843592080192197",
          "histogram": [
           {
            "bin_start": 10.607843137254902,
            "bin_end": 11.03141803154863,
            "count": 1
           },
           {
            "bin_start": 11.03141803154863,
            "bin_end": 11.45499292584236,
            "count": 0
           },
           {
            "bin_start": 11.45499292584236,
            "bin_end": 11.878567820136091,
            "count": 0
           },
           {
            "bin_start": 11.878567820136091,
            "bin_end": 12.30214271442982,
            "count": 0
           },
           {
            "bin_start": 12.30214271442982,
            "bin_end": 12.72571760872355,
            "count": 0
           },
           {
            "bin_start": 12.72571760872355,
            "bin_end": 13.149292503017278,
            "count": 0
           },
           {
            "bin_start": 13.149292503017278,
            "bin_end": 13.572867397311008,
            "count": 0
           },
           {
            "bin_start": 13.572867397311008,
            "bin_end": 13.996442291604737,
            "count": 1
           },
           {
            "bin_start": 13.996442291604737,
            "bin_end": 14.420017185898468,
            "count": 0
           },
           {
            "bin_start": 14.420017185898468,
            "bin_end": 14.843592080192197,
            "count": 1
           }
          ]
         }
        },
        {
         "name": "SPIN_Ave",
         "dtype": "float64",
         "stats": {
          "unique_count": 3,
          "nan_count": 0,
          "min": "19.342225167757434",
          "max": "28.568627450980394",
          "histogram": [
           {
            "bin_start": 19.342225167757434,
            "bin_end": 20.26486539607973,
            "count": 1
           },
           {
            "bin_start": 20.26486539607973,
            "bin_end": 21.187505624402025,
            "count": 0
           },
           {
            "bin_start": 21.187505624402025,
            "bin_end": 22.110145852724322,
            "count": 0
           },
           {
            "bin_start": 22.110145852724322,
            "bin_end": 23.032786081046616,
            "count": 0
           },
           {
            "bin_start": 23.032786081046616,
            "bin_end": 23.955426309368914,
            "count": 0
           },
           {
            "bin_start": 23.955426309368914,
            "bin_end": 24.87806653769121,
            "count": 0
           },
           {
            "bin_start": 24.87806653769121,
            "bin_end": 25.800706766013505,
            "count": 0
           },
           {
            "bin_start": 25.800706766013505,
            "bin_end": 26.723346994335802,
            "count": 0
           },
           {
            "bin_start": 26.723346994335802,
            "bin_end": 27.6459872226581,
            "count": 0
           },
           {
            "bin_start": 27.6459872226581,
            "bin_end": 28.568627450980394,
            "count": 2
           }
          ]
         }
        },
        {
         "name": "Average Result",
         "dtype": "float64",
         "stats": {
          "unique_count": 3,
          "nan_count": 0,
          "min": "34.333134463295714",
          "max": "50.39700847659324",
          "histogram": [
           {
            "bin_start": 34.333134463295714,
            "bin_end": 35.93952186462547,
            "count": 1
           },
           {
            "bin_start": 35.93952186462547,
            "bin_end": 37.54590926595522,
            "count": 0
           },
           {
            "bin_start": 37.54590926595522,
            "bin_end": 39.15229666728497,
            "count": 0
           },
           {
            "bin_start": 39.15229666728497,
            "bin_end": 40.75868406861473,
            "count": 0
           },
           {
            "bin_start": 40.75868406861473,
            "bin_end": 42.36507146994448,
            "count": 0
           },
           {
            "bin_start": 42.36507146994448,
            "bin_end": 43.97145887127423,
            "count": 1
           },
           {
            "bin_start": 43.97145887127423,
            "bin_end": 45.577846272603985,
            "count": 0
           },
           {
            "bin_start": 45.577846272603985,
            "bin_end": 47.18423367393373,
            "count": 0
           },
           {
            "bin_start": 47.18423367393373,
            "bin_end": 48.79062107526349,
            "count": 0
           },
           {
            "bin_start": 48.79062107526349,
            "bin_end": 50.39700847659324,
            "count": 1
           }
          ]
         }
        },
        {
         "name": "_deepnote_index_column",
         "dtype": "object"
        }
       ],
       "rows_top": [
        {
         "GAD_T": 5270,
         "SWL_T": 9668,
         "SPIN_T": 19402,
         "Gamers in Category": 692,
         "GAD_Ave": 7.615606936416185,
         "SWL_Ave": 13.971098265895954,
         "SPIN_Ave": 28.03757225433526,
         "Average Result": 43.64206376192095,
         "_deepnote_index_column": "Female"
        },
        {
         "GAD_T": 60923,
         "SWL_T": 179177,
         "SPIN_T": 233480,
         "Gamers in Category": 12071,
         "GAD_Ave": 5.047054925026924,
         "SWL_Ave": 14.843592080192197,
         "SPIN_Ave": 19.342225167757434,
         "Average Result": 34.333134463295714,
         "_deepnote_index_column": "Male"
        },
        {
         "GAD_T": 477,
         "SWL_T": 541,
         "SPIN_T": 1457,
         "Gamers in Category": 51,
         "GAD_Ave": 9.352941176470589,
         "SWL_Ave": 10.607843137254902,
         "SPIN_Ave": 28.568627450980394,
         "Average Result": 50.39700847659324,
         "_deepnote_index_column": "Other"
        }
       ],
       "rows_bottom": null
      },
      "text/plain": "        GAD_T   SWL_T    SPIN_T  Gamers in Category   GAD_Ave    SWL_Ave  \\\nGender                                                                     \nFemale   5270    9668   19402.0                 692  7.615607  13.971098   \nMale    60923  179177  233480.0               12071  5.047055  14.843592   \nOther     477     541    1457.0                  51  9.352941  10.607843   \n\n         SPIN_Ave  Average Result  \nGender                             \nFemale  28.037572       43.642064  \nMale    19.342225       34.333134  \nOther   28.568627       50.397008  ",
      "text/html": "<div>\n<style scoped>\n    .dataframe tbody tr th:only-of-type {\n        vertical-align: middle;\n    }\n\n    .dataframe tbody tr th {\n        vertical-align: top;\n    }\n\n    .dataframe thead th {\n        text-align: right;\n    }\n</style>\n<table border=\"1\" class=\"dataframe\">\n  <thead>\n    <tr style=\"text-align: right;\">\n      <th></th>\n      <th>GAD_T</th>\n      <th>SWL_T</th>\n      <th>SPIN_T</th>\n      <th>Gamers in Category</th>\n      <th>GAD_Ave</th>\n      <th>SWL_Ave</th>\n      <th>SPIN_Ave</th>\n      <th>Average Result</th>\n    </tr>\n    <tr>\n      <th>Gender</th>\n      <th></th>\n      <th></th>\n      <th></th>\n      <th></th>\n      <th></th>\n      <th></th>\n      <th></th>\n      <th></th>\n    </tr>\n  </thead>\n  <tbody>\n    <tr>\n      <th>Female</th>\n      <td>5270</td>\n      <td>9668</td>\n      <td>19402.0</td>\n      <td>692</td>\n      <td>7.615607</td>\n      <td>13.971098</td>\n      <td>28.037572</td>\n      <td>43.642064</td>\n    </tr>\n    <tr>\n      <th>Male</th>\n      <td>60923</td>\n      <td>179177</td>\n      <td>233480.0</td>\n      <td>12071</td>\n      <td>5.047055</td>\n      <td>14.843592</td>\n      <td>19.342225</td>\n      <td>34.333134</td>\n    </tr>\n    <tr>\n      <th>Other</th>\n      <td>477</td>\n      <td>541</td>\n      <td>1457.0</td>\n      <td>51</td>\n      <td>9.352941</td>\n      <td>10.607843</td>\n      <td>28.568627</td>\n      <td>50.397008</td>\n    </tr>\n  </tbody>\n</table>\n</div>"
     },
     "metadata": {}
    }
   ]
  },
  {
   "cell_type": "markdown",
   "source": "For this question, a pie chart is used to visualize which gender experiences more gaming anxiety. As there are three (3) different gender values: Female, Male, and Other, the three aforementioned gender types will be the ones used in the visualization, but the Male and Female types will be used to determine the correlation of gender to gaming anxiety.",
   "metadata": {
    "tags": [],
    "cell_id": "00046-bd275fce-7455-47cd-9559-f903c5bfa48d",
    "deepnote_cell_type": "markdown"
   }
  },
  {
   "cell_type": "code",
   "metadata": {
    "tags": [],
    "cell_id": "00034-9b399dfd-12d0-4247-9a9f-fac8d5a5e627",
    "deepnote_to_be_reexecuted": false,
    "source_hash": "3d58aff3",
    "execution_start": 1630680161867,
    "execution_millis": 84,
    "deepnote_cell_type": "code"
   },
   "source": "Gender_labels = list(GamerGender_total.index)\nGender_count = GamerGender_total['Average Result']\nGender_colors = ['#EBA7AC', '#96B9D0', '#B399D4']\ngender_explode = (0.0, 0.1, 0.1)\n\nplt.pie(Gender_count, labels = Gender_labels, autopct='%1.1f%%', colors = Gender_colors, explode = gender_explode, shadow = True)\nplt.title('Does the gender of the individual gamer affect gaming anxiety?')\nplt.show()",
   "execution_count": 17,
   "outputs": [
    {
     "data": {
      "text/plain": "<Figure size 432x288 with 1 Axes>",
      "image/png": "[encoded data removed]"
     },
     "metadata": {
      "image/png": {
       "width": 402,
       "height": 247
      }
     },
     "output_type": "display_data"
    }
   ]
  },
  {
   "cell_type": "markdown",
   "source": "Based on the visualization of the data, it can be seen that the female gender experience more gaming anxiety than the male gender. This may be due to the different treatment female gamers receive compared to that of males. However, in other studies, it has been observed that women are more likely to be diagnosed with an anxiety disorder than men ([WHO](https://www.who.int/teams/mental-health-and-substance-use/gender-and-women-s-mental-health) and [Texas Health](https://www.texashealth.org/Health-and-Wellness/Behavioral-Health/How-Anxiety-Affects-Men-and-Women-Differently#:~:text=Women%20are%20twice%20as%20likely,than%20men%20(14.3%20percent).)). With this data, it could be said that gender may affect gaming anxiety.",
   "metadata": {
    "tags": [],
    "cell_id": "00048-67833f72-5708-494d-8bc0-d14940a811ea",
    "deepnote_cell_type": "markdown"
   }
  },
  {
   "cell_type": "markdown",
   "source": "### C. How&nbsp;does&nbsp;the&nbsp;reason&nbsp;for&nbsp;playing&nbsp;affect&nbsp;the&nbsp;gamer’s&nbsp;anxiety&nbsp;levels?",
   "metadata": {
    "tags": [],
    "is_collapsed": false,
    "cell_id": "00036-3078206b-9552-4f62-a9a4-2ca9f045df50",
    "deepnote_cell_type": "text-cell-h3"
   }
  },
  {
   "cell_type": "markdown",
   "source": "Each gamer may have different reasons for wanting to play games. There were some common reasons such as \"To win games\", \"To relax\", or \"To improve\" in games. There are also some uncommon reasons stated such as \"To play with friends\" or \"To be distracted\". The gamer's reason for playing games will serve as the experimental variable for this portion of the notebook. The columns to be used for this question are the `whyplay`, `GAD_T`, `SWL_T`, and `SPIN_T` columns. Like the previous problems, `Average Result` is taken by getting the average percentage of the GAD, SWL, and SPIN averages. Since SWL has a negative correlation, the value used for the `Average Result` computation is the reverse of `SWL_Ave` which is taken by subtracting the questionnaire total (`SWL_TOTAL`) from the `SWL_Ave` value.",
   "metadata": {
    "tags": [],
    "cell_id": "00050-699b51ad-caae-481e-94e6-d53f302a29f8",
    "deepnote_cell_type": "markdown"
   }
  },
  {
   "cell_type": "code",
   "metadata": {
    "tags": [],
    "cell_id": "00018-004178c9-01ea-4557-af04-33be09e9d5f5",
    "deepnote_to_be_reexecuted": false,
    "source_hash": "a0389d3f",
    "execution_start": 1630680161987,
    "execution_millis": 48,
    "deepnote_cell_type": "code"
   },
   "source": "# How does the reason for playing (casual, competitive, etc.) affect the gamer’s anxiety levels? \nGamer_Reason = GameAnxiety[['whyplay', 'GAD_T', 'SWL_T', 'SPIN_T']]\nGamer_Reason_Total = Gamer_Reason.groupby(['whyplay']).sum()\nGamer_Reason_Total['Gamers In Category'] = Gamer_Reason.groupby(['whyplay']).size()\n#Gamer_Reason_Total.loc[Gamer_Reason_Total['Gamers In Category'] < 2, 'whyplay'] = \"Others\"\nGamer_Reason_df = Gamer_Reason_Total.nlargest(5, columns=['Gamers In Category'])\n\nGamer_Reason_df.loc[len(Gamer_Reason_df)] = [Gamer_Reason_Total.drop(Gamer_Reason_df.index)['GAD_T'].sum(), Gamer_Reason_Total.drop(Gamer_Reason_df.index)['SWL_T'].sum(), Gamer_Reason_Total.drop(Gamer_Reason_df.index)['SPIN_T'].sum(), Gamer_Reason_Total.drop(Gamer_Reason_df.index)['Gamers In Category'].sum()]\nGamer_Reason_df = Gamer_Reason_df.rename(index={5: 'Others'})\n\nGamer_Reason_df['GAD_Ave'] = Gamer_Reason_df['GAD_T'] / Gamer_Reason_df['Gamers In Category']\nGamer_Reason_df['SWL_Ave'] = Gamer_Reason_df['SWL_T'] / Gamer_Reason_df['Gamers In Category']\nGamer_Reason_df['SPIN_Ave'] = Gamer_Reason_df['SPIN_T'] / Gamer_Reason_df['Gamers In Category']\nGamer_Reason_df['Average Result'] = ((Gamer_Reason_df['GAD_Ave']/GAD_TOTAL) + ((SWL_TOTAL - Gamer_Reason_df['SWL_Ave']) / SWL_TOTAL) + (Gamer_Reason_df['SPIN_Ave'] / SPIN_TOTAL)) / 3 * 100\nGamer_Reason_df\n# Gamer_Reason_Total.sort_values(by=['Gamers In Category'], ascending = False)\n",
   "execution_count": 18,
   "outputs": [
    {
     "output_type": "execute_result",
     "execution_count": 18,
     "data": {
      "application/vnd.deepnote.dataframe.v2+json": {
       "row_count": 6,
       "column_count": 8,
       "columns": [
        {
         "name": "GAD_T",
         "dtype": "float64",
         "stats": {
          "unique_count": 6,
          "nan_count": 0,
          "min": "572.0",
          "max": "24634.0",
          "histogram": [
           {
            "bin_start": 572,
            "bin_end": 2978.2,
            "count": 2
           },
           {
            "bin_start": 2978.2,
            "bin_end": 5384.4,
            "count": 1
           },
           {
            "bin_start": 5384.4,
            "bin_end": 7790.599999999999,
            "count": 0
           },
           {
            "bin_start": 7790.599999999999,
            "bin_end": 10196.8,
            "count": 0
           },
           {
            "bin_start": 10196.8,
            "bin_end": 12603,
            "count": 0
           },
           {
            "bin_start": 12603,
            "bin_end": 15009.199999999999,
            "count": 1
           },
           {
            "bin_start": 15009.199999999999,
            "bin_end": 17415.399999999998,
            "count": 0
           },
           {
            "bin_start": 17415.399999999998,
            "bin_end": 19821.6,
            "count": 0
           },
           {
            "bin_start": 19821.6,
            "bin_end": 22227.8,
            "count": 0
           },
           {
            "bin_start": 22227.8,
            "bin_end": 24634,
            "count": 2
           }
          ]
         }
        },
        {
         "name": "SWL_T",
         "dtype": "float64",
         "stats": {
          "unique_count": 6,
          "nan_count": 0,
          "min": "1543.0",
          "max": "80986.0",
          "histogram": [
           {
            "bin_start": 1543,
            "bin_end": 9487.3,
            "count": 3
           },
           {
            "bin_start": 9487.3,
            "bin_end": 17431.6,
            "count": 0
           },
           {
            "bin_start": 17431.6,
            "bin_end": 25375.9,
            "count": 0
           },
           {
            "bin_start": 25375.9,
            "bin_end": 33320.2,
            "count": 1
           },
           {
            "bin_start": 33320.2,
            "bin_end": 41264.5,
            "count": 0
           },
           {
            "bin_start": 41264.5,
            "bin_end": 49208.8,
            "count": 0
           },
           {
            "bin_start": 49208.8,
            "bin_end": 57153.1,
            "count": 0
           },
           {
            "bin_start": 57153.1,
            "bin_end": 65097.4,
            "count": 0
           },
           {
            "bin_start": 65097.4,
            "bin_end": 73041.7,
            "count": 1
           },
           {
            "bin_start": 73041.7,
            "bin_end": 80986,
            "count": 1
           }
          ]
         }
        },
        {
         "name": "SPIN_T",
         "dtype": "float64",
         "stats": {
          "unique_count": 6,
          "nan_count": 0,
          "min": "2171.0",
          "max": "98659.0",
          "histogram": [
           {
            "bin_start": 2171,
            "bin_end": 11819.8,
            "count": 2
           },
           {
            "bin_start": 11819.8,
            "bin_end": 21468.6,
            "count": 1
           },
           {
            "bin_start": 21468.6,
            "bin_end": 31117.399999999998,
            "count": 0
           },
           {
            "bin_start": 31117.399999999998,
            "bin_end": 40766.2,
            "count": 0
           },
           {
            "bin_start": 40766.2,
            "bin_end": 50415,
            "count": 1
           },
           {
            "bin_start": 50415,
            "bin_end": 60063.799999999996,
            "count": 0
           },
           {
            "bin_start": 60063.799999999996,
            "bin_end": 69712.59999999999,
            "count": 0
           },
           {
            "bin_start": 69712.59999999999,
            "bin_end": 79361.4,
            "count": 0
           },
           {
            "bin_start": 79361.4,
            "bin_end": 89010.2,
            "count": 0
           },
           {
            "bin_start": 89010.2,
            "bin_end": 98659,
            "count": 2
           }
          ]
         }
        },
        {
         "name": "Gamers In Category",
         "dtype": "float64",
         "stats": {
          "unique_count": 6,
          "nan_count": 0,
          "min": "114.0",
          "max": "5164.0",
          "histogram": [
           {
            "bin_start": 114,
            "bin_end": 619,
            "count": 2
           },
           {
            "bin_start": 619,
            "bin_end": 1124,
            "count": 1
           },
           {
            "bin_start": 1124,
            "bin_end": 1629,
            "count": 0
           },
           {
            "bin_start": 1629,
            "bin_end": 2134,
            "count": 1
           },
           {
            "bin_start": 2134,
            "bin_end": 2639,
            "count": 0
           },
           {
            "bin_start": 2639,
            "bin_end": 3144,
            "count": 0
           },
           {
            "bin_start": 3144,
            "bin_end": 3649,
            "count": 0
           },
           {
            "bin_start": 3649,
            "bin_end": 4154,
            "count": 0
           },
           {
            "bin_start": 4154,
            "bin_end": 4659,
            "count": 0
           },
           {
            "bin_start": 4659,
            "bin_end": 5164,
            "count": 2
           }
          ]
         }
        },
        {
         "name": "GAD_Ave",
         "dtype": "float64",
         "stats": {
          "unique_count": 6,
          "nan_count": 0,
          "min": "4.593338497288923",
          "max": "7.609022556390977",
          "histogram": [
           {
            "bin_start": 4.593338497288923,
            "bin_end": 4.894906903199129,
            "count": 1
           },
           {
            "bin_start": 4.894906903199129,
            "bin_end": 5.196475309109334,
            "count": 1
           },
           {
            "bin_start": 5.196475309109334,
            "bin_end": 5.49804371501954,
            "count": 1
           },
           {
            "bin_start": 5.49804371501954,
            "bin_end": 5.799612120929744,
            "count": 0
           },
           {
            "bin_start": 5.799612120929744,
            "bin_end": 6.101180526839951,
            "count": 0
           },
           {
            "bin_start": 6.101180526839951,
            "bin_end": 6.402748932750155,
            "count": 2
           },
           {
            "bin_start": 6.402748932750155,
            "bin_end": 6.704317338660361,
            "count": 0
           },
           {
            "bin_start": 6.704317338660361,
            "bin_end": 7.005885744570566,
            "count": 0
           },
           {
            "bin_start": 7.005885744570566,
            "bin_end": 7.307454150480772,
            "count": 0
           },
           {
            "bin_start": 7.307454150480772,
            "bin_end": 7.609022556390977,
            "count": 1
           }
          ]
         }
        },
        {
         "name": "SWL_Ave",
         "dtype": "float64",
         "stats": {
          "unique_count": 6,
          "nan_count": 0,
          "min": "11.601503759398497",
          "max": "15.850877192982455",
          "histogram": [
           {
            "bin_start": 11.601503759398497,
            "bin_end": 12.026441102756893,
            "count": 1
           },
           {
            "bin_start": 12.026441102756893,
            "bin_end": 12.451378446115289,
            "count": 0
           },
           {
            "bin_start": 12.451378446115289,
            "bin_end": 12.876315789473685,
            "count": 0
           },
           {
            "bin_start": 12.876315789473685,
            "bin_end": 13.30125313283208,
            "count": 0
           },
           {
            "bin_start": 13.30125313283208,
            "bin_end": 13.726190476190476,
            "count": 1
           },
           {
            "bin_start": 13.726190476190476,
            "bin_end": 14.151127819548872,
            "count": 1
           },
           {
            "bin_start": 14.151127819548872,
            "bin_end": 14.576065162907268,
            "count": 0
           },
           {
            "bin_start": 14.576065162907268,
            "bin_end": 15.001002506265664,
            "count": 1
           },
           {
            "bin_start": 15.001002506265664,
            "bin_end": 15.42593984962406,
            "count": 0
           },
           {
            "bin_start": 15.42593984962406,
            "bin_end": 15.850877192982455,
            "count": 2
           }
          ]
         }
        },
        {
         "name": "SPIN_Ave",
         "dtype": "float64",
         "stats": {
          "unique_count": 6,
          "nan_count": 0,
          "min": "19.04385964912281",
          "max": "25.030075187969924",
          "histogram": [
           {
            "bin_start": 19.04385964912281,
            "bin_end": 19.64248120300752,
            "count": 3
           },
           {
            "bin_start": 19.64248120300752,
            "bin_end": 20.241102756892232,
            "count": 0
           },
           {
            "bin_start": 20.241102756892232,
            "bin_end": 20.839724310776944,
            "count": 1
           },
           {
            "bin_start": 20.839724310776944,
            "bin_end": 21.438345864661656,
            "count": 0
           },
           {
            "bin_start": 21.438345864661656,
            "bin_end": 22.036967418546368,
            "count": 1
           },
           {
            "bin_start": 22.036967418546368,
            "bin_end": 22.63558897243108,
            "count": 0
           },
           {
            "bin_start": 22.63558897243108,
            "bin_end": 23.23421052631579,
            "count": 0
           },
           {
            "bin_start": 23.23421052631579,
            "bin_end": 23.8328320802005,
            "count": 0
           },
           {
            "bin_start": 23.8328320802005,
            "bin_end": 24.431453634085212,
            "count": 0
           },
           {
            "bin_start": 24.431453634085212,
            "bin_end": 25.030075187969924,
            "count": 1
           }
          ]
         }
        },
        {
         "name": "Average Result",
         "dtype": "float64",
         "stats": {
          "unique_count": 6,
          "nan_count": 0,
          "min": "32.56427913277369",
          "max": "44.79023188222657",
          "histogram": [
           {
            "bin_start": 32.56427913277369,
            "bin_end": 33.78687440771898,
            "count": 2
           },
           {
            "bin_start": 33.78687440771898,
            "bin_end": 35.00946968266427,
            "count": 1
           },
           {
            "bin_start": 35.00946968266427,
            "bin_end": 36.23206495760955,
            "count": 0
           },
           {
            "bin_start": 36.23206495760955,
            "bin_end": 37.45466023255484,
            "count": 0
           },
           {
            "bin_start": 37.45466023255484,
            "bin_end": 38.677255507500135,
            "count": 1
           },
           {
            "bin_start": 38.677255507500135,
            "bin_end": 39.89985078244542,
            "count": 1
           },
           {
            "bin_start": 39.89985078244542,
            "bin_end": 41.122446057390704,
            "count": 0
           },
           {
            "bin_start": 41.122446057390704,
            "bin_end": 42.345041332335995,
            "count": 0
           },
           {
            "bin_start": 42.345041332335995,
            "bin_end": 43.56763660728129,
            "count": 0
           },
           {
            "bin_start": 43.56763660728129,
            "bin_end": 44.79023188222657,
            "count": 1
           }
          ]
         }
        },
        {
         "name": "_deepnote_index_column",
         "dtype": "object"
        }
       ],
       "rows_top": [
        {
         "GAD_T": 23720,
         "SWL_T": 80986,
         "SPIN_T": 98659,
         "Gamers In Category": 5164,
         "GAD_Ave": 4.593338497288923,
         "SWL_Ave": 15.68280402788536,
         "SPIN_Ave": 19.105151045701007,
         "Average Result": 32.56427913277369,
         "_deepnote_index_column": "having fun"
        },
        {
         "GAD_T": 24634,
         "SWL_T": 68553,
         "SPIN_T": 91513,
         "Gamers In Category": 4696,
         "GAD_Ave": 5.2457410562180575,
         "SWL_Ave": 14.598168654173765,
         "SPIN_Ave": 19.48743611584327,
         "Average Result": 34.992383807583224,
         "_deepnote_index_column": "improving"
        },
        {
         "GAD_T": 12804,
         "SWL_T": 27887,
         "SPIN_T": 45891,
         "Gamers In Category": 2087,
         "GAD_Ave": 6.13512218495448,
         "SWL_Ave": 13.362242453282223,
         "SPIN_Ave": 21.98897939626258,
         "Average Result": 39.00359792535446,
         "_deepnote_index_column": "winning"
        },
        {
         "GAD_T": 3928,
         "SWL_T": 8610,
         "SPIN_T": 12776,
         "Gamers In Category": 620,
         "GAD_Ave": 6.335483870967742,
         "SWL_Ave": 13.887096774193548,
         "SPIN_Ave": 20.606451612903225,
         "Average Result": 38.0607511821933,
         "_deepnote_index_column": "relaxing"
        },
        {
         "GAD_T": 572,
         "SWL_T": 1807,
         "SPIN_T": 2171,
         "Gamers In Category": 114,
         "GAD_Ave": 5.017543859649122,
         "SWL_Ave": 15.850877192982455,
         "SPIN_Ave": 19.04385964912281,
         "Average Result": 33.02082821432666,
         "_deepnote_index_column": "All of the above"
        },
        {
         "GAD_T": 1012,
         "SWL_T": 1543,
         "SPIN_T": 3329,
         "Gamers In Category": 133,
         "GAD_Ave": 7.609022556390977,
         "SWL_Ave": 11.601503759398497,
         "SPIN_Ave": 25.030075187969924,
         "Average Result": 44.79023188222657,
         "_deepnote_index_column": "Others"
        }
       ],
       "rows_bottom": null
      },
      "text/plain": "                    GAD_T    SWL_T   SPIN_T  Gamers In Category   GAD_Ave  \\\nwhyplay                                                                     \nhaving fun        23720.0  80986.0  98659.0              5164.0  4.593338   \nimproving         24634.0  68553.0  91513.0              4696.0  5.245741   \nwinning           12804.0  27887.0  45891.0              2087.0  6.135122   \nrelaxing           3928.0   8610.0  12776.0               620.0  6.335484   \nAll of the above    572.0   1807.0   2171.0               114.0  5.017544   \nOthers             1012.0   1543.0   3329.0               133.0  7.609023   \n\n                    SWL_Ave   SPIN_Ave  Average Result  \nwhyplay                                                 \nhaving fun        15.682804  19.105151       32.564279  \nimproving         14.598169  19.487436       34.992384  \nwinning           13.362242  21.988979       39.003598  \nrelaxing          13.887097  20.606452       38.060751  \nAll of the above  15.850877  19.043860       33.020828  \nOthers            11.601504  25.030075       44.790232  ",
      "text/html": "<div>\n<style scoped>\n    .dataframe tbody tr th:only-of-type {\n        vertical-align: middle;\n    }\n\n    .dataframe tbody tr th {\n        vertical-align: top;\n    }\n\n    .dataframe thead th {\n        text-align: right;\n    }\n</style>\n<table border=\"1\" class=\"dataframe\">\n  <thead>\n    <tr style=\"text-align: right;\">\n      <th></th>\n      <th>GAD_T</th>\n      <th>SWL_T</th>\n      <th>SPIN_T</th>\n      <th>Gamers In Category</th>\n      <th>GAD_Ave</th>\n      <th>SWL_Ave</th>\n      <th>SPIN_Ave</th>\n      <th>Average Result</th>\n    </tr>\n    <tr>\n      <th>whyplay</th>\n      <th></th>\n      <th></th>\n      <th></th>\n      <th></th>\n      <th></th>\n      <th></th>\n      <th></th>\n      <th></th>\n    </tr>\n  </thead>\n  <tbody>\n    <tr>\n      <th>having fun</th>\n      <td>23720.0</td>\n      <td>80986.0</td>\n      <td>98659.0</td>\n      <td>5164.0</td>\n      <td>4.593338</td>\n      <td>15.682804</td>\n      <td>19.105151</td>\n      <td>32.564279</td>\n    </tr>\n    <tr>\n      <th>improving</th>\n      <td>24634.0</td>\n      <td>68553.0</td>\n      <td>91513.0</td>\n      <td>4696.0</td>\n      <td>5.245741</td>\n      <td>14.598169</td>\n      <td>19.487436</td>\n      <td>34.992384</td>\n    </tr>\n    <tr>\n      <th>winning</th>\n      <td>12804.0</td>\n      <td>27887.0</td>\n      <td>45891.0</td>\n      <td>2087.0</td>\n      <td>6.135122</td>\n      <td>13.362242</td>\n      <td>21.988979</td>\n      <td>39.003598</td>\n    </tr>\n    <tr>\n      <th>relaxing</th>\n      <td>3928.0</td>\n      <td>8610.0</td>\n      <td>12776.0</td>\n      <td>620.0</td>\n      <td>6.335484</td>\n      <td>13.887097</td>\n      <td>20.606452</td>\n      <td>38.060751</td>\n    </tr>\n    <tr>\n      <th>All of the above</th>\n      <td>572.0</td>\n      <td>1807.0</td>\n      <td>2171.0</td>\n      <td>114.0</td>\n      <td>5.017544</td>\n      <td>15.850877</td>\n      <td>19.043860</td>\n      <td>33.020828</td>\n    </tr>\n    <tr>\n      <th>Others</th>\n      <td>1012.0</td>\n      <td>1543.0</td>\n      <td>3329.0</td>\n      <td>133.0</td>\n      <td>7.609023</td>\n      <td>11.601504</td>\n      <td>25.030075</td>\n      <td>44.790232</td>\n    </tr>\n  </tbody>\n</table>\n</div>"
     },
     "metadata": {}
    }
   ]
  },
  {
   "cell_type": "markdown",
   "source": "For this question, a bar graph will be used to compare the questionnaire averages of each group. The analysis will focus more on the values outside of the Others category.",
   "metadata": {
    "tags": [],
    "cell_id": "00052-157c54f5-659d-49f0-98cb-8ae96e6a12da",
    "deepnote_cell_type": "markdown"
   }
  },
  {
   "cell_type": "code",
   "metadata": {
    "tags": [],
    "cell_id": "00020-59b8bc21-a516-48d2-8df0-d17069a82d68",
    "deepnote_to_be_reexecuted": false,
    "source_hash": "7f316bc9",
    "execution_start": 1630680162016,
    "execution_millis": 177,
    "deepnote_cell_type": "code"
   },
   "source": "Playing_reasons = list(Gamer_Reason_df.index)\nAverage_result =  Gamer_Reason_df['Average Result']\n\n# increases bar length and width\nplt.figure(figsize=(12,5)) \n\nreason_for_playing = plt.barh(Playing_reasons, Average_result)\ncolor = ['#FF7B89', '#8A5082', '#6F5F90', '#758EB7', '#A5CAD2', '#a0b0cf']\nfor i in range(len(Playing_reasons)) :\n    c = color[i]\n    reason_for_playing [i].set_fc(c)\n\n# increases bar length and width\n# plt.rcParams[\"figure.figsize\"] = (20, 5)\n\nplt.title('How does the reason for playing affect the gamer’s anxiety levels?')\nplt.ylabel('Reasons for playing')\nplt.xlabel('Average Results (in percentage) for each reason for playing')\nplt.xlim(0, 100)\nplt.gca().set_xticklabels(['{:.0f}%'.format(x) for x in plt.gca().get_xticks()])\n\n# for bar in reason_for_playing:\n#   width = bar.get_width() \n#   label_y_pos = bar.get_y() + bar.get_height() / 2\n#   plt.text(width, label_y_pos, \"{:.2f}\".format(width) + \"%\", va='center')\n\ndef autolabel(rects): # https://stackoverflow.com/questions/44491583/how-to-show-values-inside-the-bars-of-a-bargraph\n    # attach some text labels\n        for ii,rect in enumerate(rects):\n\n            width =  rect.get_width()\n            height = rect.get_height()\n\n            yloc1=rect.get_y() + height /2.0\n            yloc2=rect.get_y() + height /2.0\n\n            if (width <= 5):\n                # Shift the text to the right side of the right edge\n                xloc1 = width + 1\n                yloc2=yloc2+0.3\n                # Black against white background\n                clr = 'black'\n                align = 'left'\n            else:\n                # Shift the text to the left side of the right edge\n                xloc1 = 0.98*width\n                # White on blue\n                clr = 'white'\n                align = 'right'\n            yloc1=rect.get_y() + height /2.0\n\n            plt.text(xloc1,yloc1, \"{:.2f}\".format(width) + \"%\", horizontalalignment=align,\n                             verticalalignment='center',color=clr,weight='bold',\n                             clip_on=True)\n            plt.text(2,yloc2, '%s'% (Playing_reasons[ii]),horizontalalignment='left',\n                             verticalalignment='center',color=clr,weight='bold',\n                             clip_on=True)\n\nautolabel(reason_for_playing)\nplt.yticks([]) # hides yticks\n\nplt.show()",
   "execution_count": 19,
   "outputs": [
    {
     "name": "stderr",
     "text": "/shared-libs/python3.7/py-core/lib/python3.7/site-packages/ipykernel_launcher.py:20: UserWarning: FixedFormatter should only be used together with FixedLocator\n",
     "output_type": "stream"
    },
    {
     "data": {
      "text/plain": "<Figure size 864x360 with 1 Axes>",
      "image/png": "[encoded data removed]"
     },
     "metadata": {
      "needs_background": "light",
      "image/png": {
       "width": 712,
       "height": 333
      }
     },
     "output_type": "display_data"
    }
   ]
  },
  {
   "cell_type": "markdown",
   "source": "As shown in the visualization, individuals who play games with the intention of winning tend to have a higher anxiety rate of 39%. This could be due to the expectation or the need to have good rewards or game statistics. On the other hand, people who are playing to have fun would have a lower percentage of 32.56%. This would make sense as these gamers play to simply enjoy and thus, end up having less pressure on themselves. However, it could be also observed that the percentages of the other categories are not far from each other. This could mean that gaming reasons pose as a minor factor when it comes to gaming anxiety. ",
   "metadata": {
    "tags": [],
    "cell_id": "00054-df307897-4f05-4fe5-9d68-df191d7a305f",
    "deepnote_cell_type": "markdown"
   }
  },
  {
   "cell_type": "markdown",
   "source": "### D. How&nbsp;does&nbsp;the&nbsp;playstyle&nbsp;affect the&nbsp;gamer’s&nbsp;anxiety&nbsp;levels?",
   "metadata": {
    "tags": [],
    "is_collapsed": false,
    "cell_id": "00040-102df41b-09e4-421b-99b0-d2e0fb45846f",
    "deepnote_cell_type": "text-cell-h3"
   }
  },
  {
   "cell_type": "markdown",
   "source": "A gamer's playstyle could have a major effect on their anxiety. Playstyle refers to the user's preferred type of gameplay. This may range from Singleplayer, Multiplayer - Online, and/or Multiplayer - Offline. This may also determine whether the people they play with can affect the anxiety rate of the gamer. The columns to be used for this question are the `Playstyle`, `GAD_T`, `SWL_T`, and `SPIN_T` columns. Like the previous problems, `Average Result` is taken by getting the average percentage of the GAD, SWL, and SPIN averages. Since SWL has a negative correlation, the value used for the `Average Result` computation is the reverse of `SWL_Ave` which is taken by subtracting the questionnaire total (`SWL_TOTAL`) from the `SWL_Ave` value.",
   "metadata": {
    "tags": [],
    "cell_id": "00056-630bdcc3-faec-49ff-bfe0-17625540025e",
    "deepnote_cell_type": "markdown"
   }
  },
  {
   "cell_type": "code",
   "metadata": {
    "tags": [],
    "cell_id": "00009-686184a9-52c9-49d6-84fc-c38bd0d792c2",
    "deepnote_to_be_reexecuted": false,
    "source_hash": "55a78406",
    "execution_start": 1630680162199,
    "execution_millis": 107,
    "deepnote_cell_type": "code"
   },
   "source": "playstyle = GameAnxiety[['Playstyle', 'GAD_T', 'SWL_T', 'SPIN_T']]\nplaystyle_Total = playstyle.groupby(['Playstyle']).sum()\nplaystyle_Total['Gamers in Category'] = playstyle.groupby(['Playstyle']).size()\n\nplaystyle_df = playstyle_Total.nlargest(4, columns=['Gamers in Category'])\n\nplaystyle_df.loc[len(playstyle_df)] = [playstyle_Total.drop(playstyle_df.index)['GAD_T'].sum(), playstyle_Total.drop(playstyle_df.index)['SWL_T'].sum(), playstyle_Total.drop(playstyle_df.index)['SPIN_T'].sum(), playstyle_Total.drop(playstyle_df.index)['Gamers in Category'].sum()]\nplaystyle_df = playstyle_df.rename(index={4: 'Others'})\n\nplaystyle_df['GAD_Ave'] = playstyle_df['GAD_T'] / playstyle_df['Gamers in Category']\nplaystyle_df['SWL_Ave'] = playstyle_df['SWL_T'] / playstyle_df['Gamers in Category']\nplaystyle_df['SPIN_Ave'] = playstyle_df['SPIN_T'] / playstyle_df['Gamers in Category']\nplaystyle_df['Average_Result'] = ((playstyle_df['GAD_Ave']/GAD_TOTAL) + ((SWL_TOTAL - playstyle_df['SWL_Ave']) / SWL_TOTAL) + (playstyle_df['SPIN_Ave'] / SPIN_TOTAL)) / 3 * 100\n\nplaystyle_df.sort_values(by=['Gamers in Category'], ascending = False)",
   "execution_count": 20,
   "outputs": [
    {
     "output_type": "execute_result",
     "execution_count": 20,
     "data": {
      "application/vnd.deepnote.dataframe.v2+json": {
       "row_count": 5,
       "column_count": 8,
       "columns": [
        {
         "name": "GAD_T",
         "dtype": "float64",
         "stats": {
          "unique_count": 5,
          "nan_count": 0,
          "min": "195.0",
          "max": "61785.0",
          "histogram": [
           {
            "bin_start": 195,
            "bin_end": 6354,
            "count": 4
           },
           {
            "bin_start": 6354,
            "bin_end": 12513,
            "count": 0
           },
           {
            "bin_start": 12513,
            "bin_end": 18672,
            "count": 0
           },
           {
            "bin_start": 18672,
            "bin_end": 24831,
            "count": 0
           },
           {
            "bin_start": 24831,
            "bin_end": 30990,
            "count": 0
           },
           {
            "bin_start": 30990,
            "bin_end": 37149,
            "count": 0
           },
           {
            "bin_start": 37149,
            "bin_end": 43308,
            "count": 0
           },
           {
            "bin_start": 43308,
            "bin_end": 49467,
            "count": 0
           },
           {
            "bin_start": 49467,
            "bin_end": 55626,
            "count": 0
           },
           {
            "bin_start": 55626,
            "bin_end": 61785,
            "count": 1
           }
          ]
         }
        },
        {
         "name": "SWL_T",
         "dtype": "float64",
         "stats": {
          "unique_count": 5,
          "nan_count": 0,
          "min": "618.0",
          "max": "177355.0",
          "histogram": [
           {
            "bin_start": 618,
            "bin_end": 18291.7,
            "count": 4
           },
           {
            "bin_start": 18291.7,
            "bin_end": 35965.4,
            "count": 0
           },
           {
            "bin_start": 35965.4,
            "bin_end": 53639.100000000006,
            "count": 0
           },
           {
            "bin_start": 53639.100000000006,
            "bin_end": 71312.8,
            "count": 0
           },
           {
            "bin_start": 71312.8,
            "bin_end": 88986.5,
            "count": 0
           },
           {
            "bin_start": 88986.5,
            "bin_end": 106660.20000000001,
            "count": 0
           },
           {
            "bin_start": 106660.20000000001,
            "bin_end": 124333.90000000001,
            "count": 0
           },
           {
            "bin_start": 124333.90000000001,
            "bin_end": 142007.6,
            "count": 0
           },
           {
            "bin_start": 142007.6,
            "bin_end": 159681.30000000002,
            "count": 0
           },
           {
            "bin_start": 159681.30000000002,
            "bin_end": 177355,
            "count": 1
           }
          ]
         }
        },
        {
         "name": "SPIN_T",
         "dtype": "float64",
         "stats": {
          "unique_count": 4,
          "nan_count": 0,
          "min": "794.0",
          "max": "235731.0",
          "histogram": [
           {
            "bin_start": 794,
            "bin_end": 24287.7,
            "count": 4
           },
           {
            "bin_start": 24287.7,
            "bin_end": 47781.4,
            "count": 0
           },
           {
            "bin_start": 47781.4,
            "bin_end": 71275.1,
            "count": 0
           },
           {
            "bin_start": 71275.1,
            "bin_end": 94768.8,
            "count": 0
           },
           {
            "bin_start": 94768.8,
            "bin_end": 118262.5,
            "count": 0
           },
           {
            "bin_start": 118262.5,
            "bin_end": 141756.2,
            "count": 0
           },
           {
            "bin_start": 141756.2,
            "bin_end": 165249.9,
            "count": 0
           },
           {
            "bin_start": 165249.9,
            "bin_end": 188743.6,
            "count": 0
           },
           {
            "bin_start": 188743.6,
            "bin_end": 212237.30000000002,
            "count": 0
           },
           {
            "bin_start": 212237.30000000002,
            "bin_end": 235731,
            "count": 1
           }
          ]
         }
        },
        {
         "name": "Gamers in Category",
         "dtype": "float64",
         "stats": {
          "unique_count": 5,
          "nan_count": 0,
          "min": "45.0",
          "max": "11942.0",
          "histogram": [
           {
            "bin_start": 45,
            "bin_end": 1234.7,
            "count": 4
           },
           {
            "bin_start": 1234.7,
            "bin_end": 2424.4,
            "count": 0
           },
           {
            "bin_start": 2424.4,
            "bin_end": 3614.1000000000004,
            "count": 0
           },
           {
            "bin_start": 3614.1000000000004,
            "bin_end": 4803.8,
            "count": 0
           },
           {
            "bin_start": 4803.8,
            "bin_end": 5993.5,
            "count": 0
           },
           {
            "bin_start": 5993.5,
            "bin_end": 7183.200000000001,
            "count": 0
           },
           {
            "bin_start": 7183.200000000001,
            "bin_end": 8372.9,
            "count": 0
           },
           {
            "bin_start": 8372.9,
            "bin_end": 9562.6,
            "count": 0
           },
           {
            "bin_start": 9562.6,
            "bin_end": 10752.300000000001,
            "count": 0
           },
           {
            "bin_start": 10752.300000000001,
            "bin_end": 11942,
            "count": 1
           }
          ]
         }
        },
        {
         "name": "GAD_Ave",
         "dtype": "float64",
         "stats": {
          "unique_count": 5,
          "nan_count": 0,
          "min": "4.0625",
          "max": "5.7753424657534245",
          "histogram": [
           {
            "bin_start": 4.0625,
            "bin_end": 4.233784246575342,
            "count": 1
           },
           {
            "bin_start": 4.233784246575342,
            "bin_end": 4.405068493150685,
            "count": 0
           },
           {
            "bin_start": 4.405068493150685,
            "bin_end": 4.576352739726027,
            "count": 0
           },
           {
            "bin_start": 4.576352739726027,
            "bin_end": 4.747636986301369,
            "count": 0
           },
           {
            "bin_start": 4.747636986301369,
            "bin_end": 4.918921232876713,
            "count": 0
           },
           {
            "bin_start": 4.918921232876713,
            "bin_end": 5.090205479452054,
            "count": 2
           },
           {
            "bin_start": 5.090205479452054,
            "bin_end": 5.261489726027397,
            "count": 1
           },
           {
            "bin_start": 5.261489726027397,
            "bin_end": 5.43277397260274,
            "count": 0
           },
           {
            "bin_start": 5.43277397260274,
            "bin_end": 5.604058219178082,
            "count": 0
           },
           {
            "bin_start": 5.604058219178082,
            "bin_end": 5.7753424657534245,
            "count": 1
           }
          ]
         }
        },
        {
         "name": "SWL_Ave",
         "dtype": "float64",
         "stats": {
          "unique_count": 5,
          "nan_count": 0,
          "min": "12.612244897959183",
          "max": "17.416666666666668",
          "histogram": [
           {
            "bin_start": 12.612244897959183,
            "bin_end": 13.092687074829932,
            "count": 1
           },
           {
            "bin_start": 13.092687074829932,
            "bin_end": 13.57312925170068,
            "count": 1
           },
           {
            "bin_start": 13.57312925170068,
            "bin_end": 14.053571428571429,
            "count": 0
           },
           {
            "bin_start": 14.053571428571429,
            "bin_end": 14.534013605442176,
            "count": 0
           },
           {
            "bin_start": 14.534013605442176,
            "bin_end": 15.014455782312925,
            "count": 1
           },
           {
            "bin_start": 15.014455782312925,
            "bin_end": 15.494897959183675,
            "count": 1
           },
           {
            "bin_start": 15.494897959183675,
            "bin_end": 15.975340136054422,
            "count": 0
           },
           {
            "bin_start": 15.975340136054422,
            "bin_end": 16.45578231292517,
            "count": 0
           },
           {
            "bin_start": 16.45578231292517,
            "bin_end": 16.93622448979592,
            "count": 0
           },
           {
            "bin_start": 16.93622448979592,
            "bin_end": 17.416666666666668,
            "count": 1
           }
          ]
         }
        },
        {
         "name": "SPIN_Ave",
         "dtype": "float64",
         "stats": {
          "unique_count": 5,
          "nan_count": 0,
          "min": "16.20408163265306",
          "max": "22.19178082191781",
          "histogram": [
           {
            "bin_start": 16.20408163265306,
            "bin_end": 16.802851551579536,
            "count": 1
           },
           {
            "bin_start": 16.802851551579536,
            "bin_end": 17.40162147050601,
            "count": 1
           },
           {
            "bin_start": 17.40162147050601,
            "bin_end": 18.000391389432487,
            "count": 1
           },
           {
            "bin_start": 18.000391389432487,
            "bin_end": 18.599161308358962,
            "count": 0
           },
           {
            "bin_start": 18.599161308358962,
            "bin_end": 19.197931227285437,
            "count": 0
           },
           {
            "bin_start": 19.197931227285437,
            "bin_end": 19.79670114621191,
            "count": 1
           },
           {
            "bin_start": 19.79670114621191,
            "bin_end": 20.395471065138384,
            "count": 0
           },
           {
            "bin_start": 20.395471065138384,
            "bin_end": 20.99424098406486,
            "count": 0
           },
           {
            "bin_start": 20.99424098406486,
            "bin_end": 21.593010902991335,
            "count": 0
           },
           {
            "bin_start": 21.593010902991335,
            "bin_end": 22.19178082191781,
            "count": 1
           }
          ]
         }
        },
        {
         "name": "Average_Result",
         "dtype": "float64",
         "stats": {
          "unique_count": 5,
          "nan_count": 0,
          "min": "28.804077186430128",
          "max": "38.31798472813783",
          "histogram": [
           {
            "bin_start": 28.804077186430128,
            "bin_end": 29.755467940600898,
            "count": 1
           },
           {
            "bin_start": 29.755467940600898,
            "bin_end": 30.706858694771668,
            "count": 0
           },
           {
            "bin_start": 30.706858694771668,
            "bin_end": 31.65824944894244,
            "count": 0
           },
           {
            "bin_start": 31.65824944894244,
            "bin_end": 32.60964020311321,
            "count": 0
           },
           {
            "bin_start": 32.60964020311321,
            "bin_end": 33.561030957283975,
            "count": 1
           },
           {
            "bin_start": 33.561030957283975,
            "bin_end": 34.51242171145475,
            "count": 0
           },
           {
            "bin_start": 34.51242171145475,
            "bin_end": 35.46381246562552,
            "count": 2
           },
           {
            "bin_start": 35.46381246562552,
            "bin_end": 36.41520321979629,
            "count": 0
           },
           {
            "bin_start": 36.41520321979629,
            "bin_end": 37.366593973967056,
            "count": 0
           },
           {
            "bin_start": 37.366593973967056,
            "bin_end": 38.31798472813783,
            "count": 1
           }
          ]
         }
        },
        {
         "name": "_deepnote_index_column",
         "dtype": "object"
        }
       ],
       "rows_top": [
        {
         "GAD_T": 61785,
         "SWL_T": 177355,
         "SPIN_T": 235731,
         "Gamers in Category": 11942,
         "GAD_Ave": 5.173756489700217,
         "SWL_Ave": 14.851364930497404,
         "SPIN_Ave": 19.739658348685314,
         "Average_Result": 34.72043174440546,
         "_deepnote_index_column": "Multiplayer - Online"
        },
        {
         "GAD_T": 4216,
         "SWL_T": 9895,
         "SPIN_T": 16200,
         "Gamers in Category": 730,
         "GAD_Ave": 5.7753424657534245,
         "SWL_Ave": 13.554794520547945,
         "SPIN_Ave": 22.19178082191781,
         "Average_Result": 38.31798472813783,
         "_deepnote_index_column": "Singleplayer"
        },
        {
         "GAD_T": 249,
         "SWL_T": 618,
         "SPIN_T": 794,
         "Gamers in Category": 49,
         "GAD_Ave": 5.081632653061225,
         "SWL_Ave": 12.612244897959183,
         "SPIN_Ave": 16.20408163265306,
         "Average_Result": 35.328988738352486,
         "_deepnote_index_column": "Others"
        },
        {
         "GAD_T": 195,
         "SWL_T": 836,
         "SPIN_T": 820,
         "Gamers in Category": 48,
         "GAD_Ave": 4.0625,
         "SWL_Ave": 17.416666666666668,
         "SPIN_Ave": 17.083333333333332,
         "Average_Result": 28.804077186430128,
         "_deepnote_index_column": "Multiplayer - Offline"
        },
        {
         "GAD_T": 225,
         "SWL_T": 682,
         "SPIN_T": 794,
         "Gamers in Category": 45,
         "GAD_Ave": 5,
         "SWL_Ave": 15.155555555555555,
         "SPIN_Ave": 17.644444444444446,
         "Average_Result": 33.07957256976865,
         "_deepnote_index_column": "All of the above"
        }
       ],
       "rows_bottom": null
      },
      "text/plain": "                         GAD_T     SWL_T    SPIN_T  Gamers in Category  \\\nPlaystyle                                                                \nMultiplayer - Online   61785.0  177355.0  235731.0             11942.0   \nSingleplayer            4216.0    9895.0   16200.0               730.0   \nOthers                   249.0     618.0     794.0                49.0   \nMultiplayer - Offline    195.0     836.0     820.0                48.0   \nAll of the above         225.0     682.0     794.0                45.0   \n\n                        GAD_Ave    SWL_Ave   SPIN_Ave  Average_Result  \nPlaystyle                                                              \nMultiplayer - Online   5.173756  14.851365  19.739658       34.720432  \nSingleplayer           5.775342  13.554795  22.191781       38.317985  \nOthers                 5.081633  12.612245  16.204082       35.328989  \nMultiplayer - Offline  4.062500  17.416667  17.083333       28.804077  \nAll of the above       5.000000  15.155556  17.644444       33.079573  ",
      "text/html": "<div>\n<style scoped>\n    .dataframe tbody tr th:only-of-type {\n        vertical-align: middle;\n    }\n\n    .dataframe tbody tr th {\n        vertical-align: top;\n    }\n\n    .dataframe thead th {\n        text-align: right;\n    }\n</style>\n<table border=\"1\" class=\"dataframe\">\n  <thead>\n    <tr style=\"text-align: right;\">\n      <th></th>\n      <th>GAD_T</th>\n      <th>SWL_T</th>\n      <th>SPIN_T</th>\n      <th>Gamers in Category</th>\n      <th>GAD_Ave</th>\n      <th>SWL_Ave</th>\n      <th>SPIN_Ave</th>\n      <th>Average_Result</th>\n    </tr>\n    <tr>\n      <th>Playstyle</th>\n      <th></th>\n      <th></th>\n      <th></th>\n      <th></th>\n      <th></th>\n      <th></th>\n      <th></th>\n      <th></th>\n    </tr>\n  </thead>\n  <tbody>\n    <tr>\n      <th>Multiplayer - Online</th>\n      <td>61785.0</td>\n      <td>177355.0</td>\n      <td>235731.0</td>\n      <td>11942.0</td>\n      <td>5.173756</td>\n      <td>14.851365</td>\n      <td>19.739658</td>\n      <td>34.720432</td>\n    </tr>\n    <tr>\n      <th>Singleplayer</th>\n      <td>4216.0</td>\n      <td>9895.0</td>\n      <td>16200.0</td>\n      <td>730.0</td>\n      <td>5.775342</td>\n      <td>13.554795</td>\n      <td>22.191781</td>\n      <td>38.317985</td>\n    </tr>\n    <tr>\n      <th>Others</th>\n      <td>249.0</td>\n      <td>618.0</td>\n      <td>794.0</td>\n      <td>49.0</td>\n      <td>5.081633</td>\n      <td>12.612245</td>\n      <td>16.204082</td>\n      <td>35.328989</td>\n    </tr>\n    <tr>\n      <th>Multiplayer - Offline</th>\n      <td>195.0</td>\n      <td>836.0</td>\n      <td>820.0</td>\n      <td>48.0</td>\n      <td>4.062500</td>\n      <td>17.416667</td>\n      <td>17.083333</td>\n      <td>28.804077</td>\n    </tr>\n    <tr>\n      <th>All of the above</th>\n      <td>225.0</td>\n      <td>682.0</td>\n      <td>794.0</td>\n      <td>45.0</td>\n      <td>5.000000</td>\n      <td>15.155556</td>\n      <td>17.644444</td>\n      <td>33.079573</td>\n    </tr>\n  </tbody>\n</table>\n</div>"
     },
     "metadata": {}
    }
   ]
  },
  {
   "cell_type": "markdown",
   "source": "Like the previous problem, a bar graph will be used to visualize the data calculated. The bar graph will include the five different categories: Multiplayer - Online, Multiplayer - Offline, Singleplayer, All of the Above, and Others. The analysis will not focus on the Others group as it is ambigous. ",
   "metadata": {
    "tags": [],
    "cell_id": "00058-decf9678-7f7b-4e82-a3d5-9a823c328434",
    "deepnote_cell_type": "markdown"
   }
  },
  {
   "cell_type": "code",
   "metadata": {
    "tags": [],
    "cell_id": "00049-f3c1340d-c0eb-433f-a0a1-4a763c277667",
    "deepnote_to_be_reexecuted": false,
    "source_hash": "866146f4",
    "execution_start": 1630680162317,
    "execution_millis": 199,
    "deepnote_cell_type": "code"
   },
   "source": "Play_Style = list(playstyle_df.index)\nAverage_resultPS =  playstyle_df['Average_Result']\n\n# increases bar length and width\nplt.figure(figsize=(12,5)) \n\nstyle_of_play = plt.barh(Play_Style, Average_resultPS)\ncolor = ['#FF7B89', '#8A5082', '#6F5F90', '#758EB7', '#A5CAD2', '#a0b0cf']\nfor i in range(len(Play_Style)) :\n    c = color[i]\n    style_of_play [i].set_fc(c)\n\n# increases bar length and width\n# plt.rcParams[\"figure.figsize\"] = (20, 5)\n\nplt.title('How does the playstyle of the gamer affect anxiety?')\nplt.ylabel('Playstyle')\nplt.xlabel('Average Results (in percentage) for each playstyle')\nplt.xlim(0, 100)\nplt.gca().set_xticklabels(['{:.0f}%'.format(x) for x in plt.gca().get_xticks()])\n\n# for bar in reason_for_playing:\n#   width = bar.get_width() \n#   label_y_pos = bar.get_y() + bar.get_height() / 2\n#   plt.text(width, label_y_pos, \"{:.2f}\".format(width) + \"%\", va='center')\n\ndef autolabel(rects): # https://stackoverflow.com/questions/44491583/how-to-show-values-inside-the-bars-of-a-bargraph\n    # attach some text labels\n        for ii,rect in enumerate(rects):\n\n            width =  rect.get_width()\n            height = rect.get_height()\n\n            yloc1=rect.get_y() + height /2.0\n            yloc2=rect.get_y() + height /2.0\n\n            if (width <= 5):\n                # Shift the text to the right side of the right edge\n                xloc1 = width + 1\n                yloc2=yloc2+0.3\n                # Black against white background\n                clr = 'black'\n                align = 'left'\n            else:\n                # Shift the text to the left side of the right edge\n                xloc1 = 0.98*width\n                # White on blue\n                clr = 'white'\n                align = 'right'\n            yloc1=rect.get_y() + height /2.0\n\n            plt.text(xloc1,yloc1, \"{:.2f}\".format(width) + \"%\", horizontalalignment=align,\n                             verticalalignment='center',color=clr,weight='bold',\n                             clip_on=True)\n            plt.text(2,yloc2, '%s'% (Play_Style[ii]),horizontalalignment='left',\n                             verticalalignment='center',color=clr,weight='bold',\n                             clip_on=True)\n\nautolabel(style_of_play)\nplt.yticks([]) # hides yticks\n\nplt.show()",
   "execution_count": 21,
   "outputs": [
    {
     "name": "stderr",
     "text": "/shared-libs/python3.7/py-core/lib/python3.7/site-packages/ipykernel_launcher.py:20: UserWarning: FixedFormatter should only be used together with FixedLocator\n",
     "output_type": "stream"
    },
    {
     "data": {
      "text/plain": "<Figure size 864x360 with 1 Axes>",
      "image/png": "[encoded data removed]"
     },
     "metadata": {
      "needs_background": "light",
      "image/png": {
       "width": 712,
       "height": 333
      }
     },
     "output_type": "display_data"
    }
   ]
  },
  {
   "cell_type": "markdown",
   "source": "Based on the graph shown above, the highest anxiety rate is the Singleplayer group with a percentage of 38.32% while the group with the lowest anxiety percentage is Multiplayer - Offline with a value of only 28.80%. This data could serve as evidence that a gamer's playstyle could affect their anxiety. Offline multiplayer would have a low percentage likely due to the co-players residing in the same room as the gamer. In this playstyle, the co-players tend to be friends and/or acquaintances of the player, which may contribute to the player being more comfortable in-game. On the other hand, singleplayer games can be more stressful as players would not often have any co-players to assist them in difficult levels. Many singleplayer are also known to be stress-inducing. With this data, it can be said that the gamer's playstyle is a factor contributing to gaming anxiety.",
   "metadata": {
    "tags": [],
    "cell_id": "00060-352a8935-c6a7-4706-8456-8a54588866b1",
    "deepnote_cell_type": "markdown"
   }
  },
  {
   "cell_type": "markdown",
   "source": "## IV. Analysis Conclusion",
   "metadata": {
    "tags": [],
    "is_collapsed": false,
    "cell_id": "00062-621f6671-d2ae-4e18-8444-e880f57ab138",
    "deepnote_cell_type": "text-cell-h2"
   }
  },
  {
   "cell_type": "markdown",
   "source": "Gaming anxiety occurs after gamers undergo high levels of stress. Stressful gaming could lead to a harmful mental state, which then can lead to anxiety disorders. In this investigation four variables were taken into consideration and tested, whether they play a factor in contributing to a gamer's anxiety. According to the data found, certain age groups, mostly the younger age group, may have more gaming anxiety, but there are only minor differences between the anxiety levels of each age group. Gender proves to have a difference; showing that the female gender experiences more gaming anxiety compared to the male gender. This occurance is most likely due to several biological aspects from each gender. The reasons for gaming the third variable that was tested. The data found here shows that those who play to win ended up having the highest anxiety levels among the other reasons mentioned, but like the age group variable the difference between groups is minor. Lastly, the playstyle of a gamer was observed to result in different anxiety levels, with individuals who typically play offline multiplayer videogames having the lowest anxiety percentage while those who play and prefer singleplayer games were observed to have the highest anxiety levels amongst those who indulge in other styles of play. This may be due to the proximal social interaction when playing offline multiplayer games and the lack of outside and in-game help when playing singleplayer games.",
   "metadata": {
    "tags": [],
    "cell_id": "00063-d3595483-0725-49d3-92a9-90ef9bfdf525",
    "deepnote_cell_type": "markdown"
   }
  },
  {
   "cell_type": "markdown",
   "source": "## V. Data Application",
   "metadata": {
    "tags": [],
    "is_collapsed": false,
    "cell_id": "00063-4fbe8bac-4dd0-4eb8-91dd-212e83f59b00",
    "deepnote_cell_type": "text-cell-h2"
   }
  },
  {
   "cell_type": "markdown",
   "source": "The application will have a storytelling or testing type of presentation which features the analysis for the 4 research questions aforementioned. The first page of the app will include a brief overview and introduction to the users of the application that talks briefly about gaming anxiety. Then, the next pages of the app will have the graphs and analysis for each specific research question (1 page = graph/s and analysis for 1 research question). The user can navigate through the different pages and add their preferred filter (age - 2nd page, gender - 3rd page, reason - 4th page, playstyle - 5th page). For each page, a drop-down list or text input box will be provided for the purpose of filtering for their final graph which shows the anxiety rate of the combined variables. The last page would include the user's chart containing the gaming anxiety percentage which has been filtered based on the summarized analysis of key factors that have been identified to contribute to gaming anxiety. It would have filtering for age, gender, reason, and playstyle as these were the factors identified that affects gamers' anxiety.",
   "metadata": {
    "tags": [],
    "cell_id": "00064-4690ba0c-54a1-4cad-a329-b5c6af7e8d86",
    "deepnote_cell_type": "markdown"
   }
  },
  {
   "cell_type": "code",
   "source": "filter_age = 30\nfilter_gender = \"Male\"\nfilter_reason = \"having fun\"\nfilter_playstyle = \"Singleplayer\"\n",
   "metadata": {
    "tags": [],
    "cell_id": "00066-f50a6878-e80b-47b4-9545-d37d726fca28",
    "deepnote_to_be_reexecuted": false,
    "source_hash": "d077e553",
    "execution_start": 1630680208778,
    "execution_millis": 1,
    "deepnote_cell_type": "code"
   },
   "outputs": [],
   "execution_count": 29
  },
  {
   "cell_type": "code",
   "source": "Filtering = GameAnxiety[['Age', 'Gender', 'whyplay', 'Playstyle',  'GAD_T', 'SWL_T', 'SPIN_T']]\nn_age_group = 5\nFiltering['Age'] = pd.cut(Filtering['Age'], n_age_group)\nage_groups = list(Gamer_Age_Total.index)\nfor i in age_groups:\n    if filter_age in i:\n        user_group = i\n        break\nFiltered_df = Filtering[(Filtering['Age'] == user_group) & (Filtering['Gender'] == filter_gender) & (Filtering['whyplay'] == filter_reason) & (Filtering['Playstyle'] == filter_playstyle)]\nFiltered_group_df = Filtered_df.groupby(['Age']).sum()\nFiltered_group_df['Gamers In Category'] = Filtered_df.groupby(['Age']).size()\nFiltered_group_df['GAD_Ave'] = Filtered_group_df['GAD_T'] / Filtered_group_df['Gamers In Category'] #Higher = more anxiety\nFiltered_group_df['SWL_Ave'] = Filtered_group_df['SWL_T'] / Filtered_group_df['Gamers In Category'] #Lower = more anxiety\nFiltered_group_df['SPIN_Ave'] = Filtered_group_df['SPIN_T'] / Filtered_group_df['Gamers In Category'] #Higher = more anxiety\nFiltered_group_df['Average Result'] = ((Filtered_group_df['GAD_Ave']/GAD_TOTAL) + ((SWL_TOTAL - Filtered_group_df['SWL_Ave']) / SWL_TOTAL) + (Filtered_group_df['SPIN_Ave'] / SPIN_TOTAL)) / 3 * 100\nFiltered_group_df",
   "metadata": {
    "tags": [],
    "cell_id": "00065-7cec01d7-66d5-4c5e-b933-7be7804f0981",
    "deepnote_to_be_reexecuted": false,
    "source_hash": "78ad6561",
    "execution_start": 1630680210316,
    "execution_millis": 74,
    "deepnote_cell_type": "code"
   },
   "outputs": [
    {
     "name": "stderr",
     "text": "/shared-libs/python3.7/py-core/lib/python3.7/site-packages/ipykernel_launcher.py:3: SettingWithCopyWarning: \nA value is trying to be set on a copy of a slice from a DataFrame.\nTry using .loc[row_indexer,col_indexer] = value instead\n\nSee the caveats in the documentation: https://pandas.pydata.org/pandas-docs/stable/user_guide/indexing.html#returning-a-view-versus-a-copy\n  This is separate from the ipykernel package so we can avoid doing imports until\n",
     "output_type": "stream"
    },
    {
     "output_type": "execute_result",
     "execution_count": 30,
     "data": {
      "application/vnd.deepnote.dataframe.v2+json": {
       "row_count": 5,
       "column_count": 8,
       "columns": [
        {
         "name": "GAD_T",
         "dtype": "int64",
         "stats": {
          "unique_count": 2,
          "nan_count": 0,
          "min": "0",
          "max": "137",
          "histogram": [
           {
            "bin_start": 0,
            "bin_end": 13.7,
            "count": 4
           },
           {
            "bin_start": 13.7,
            "bin_end": 27.4,
            "count": 0
           },
           {
            "bin_start": 27.4,
            "bin_end": 41.099999999999994,
            "count": 0
           },
           {
            "bin_start": 41.099999999999994,
            "bin_end": 54.8,
            "count": 0
           },
           {
            "bin_start": 54.8,
            "bin_end": 68.5,
            "count": 0
           },
           {
            "bin_start": 68.5,
            "bin_end": 82.19999999999999,
            "count": 0
           },
           {
            "bin_start": 82.19999999999999,
            "bin_end": 95.89999999999999,
            "count": 0
           },
           {
            "bin_start": 95.89999999999999,
            "bin_end": 109.6,
            "count": 0
           },
           {
            "bin_start": 109.6,
            "bin_end": 123.3,
            "count": 0
           },
           {
            "bin_start": 123.3,
            "bin_end": 137,
            "count": 1
           }
          ]
         }
        },
        {
         "name": "SWL_T",
         "dtype": "int64",
         "stats": {
          "unique_count": 2,
          "nan_count": 0,
          "min": "0",
          "max": "560",
          "histogram": [
           {
            "bin_start": 0,
            "bin_end": 56,
            "count": 4
           },
           {
            "bin_start": 56,
            "bin_end": 112,
            "count": 0
           },
           {
            "bin_start": 112,
            "bin_end": 168,
            "count": 0
           },
           {
            "bin_start": 168,
            "bin_end": 224,
            "count": 0
           },
           {
            "bin_start": 224,
            "bin_end": 280,
            "count": 0
           },
           {
            "bin_start": 280,
            "bin_end": 336,
            "count": 0
           },
           {
            "bin_start": 336,
            "bin_end": 392,
            "count": 0
           },
           {
            "bin_start": 392,
            "bin_end": 448,
            "count": 0
           },
           {
            "bin_start": 448,
            "bin_end": 504,
            "count": 0
           },
           {
            "bin_start": 504,
            "bin_end": 560,
            "count": 1
           }
          ]
         }
        },
        {
         "name": "SPIN_T",
         "dtype": "float64",
         "stats": {
          "unique_count": 2,
          "nan_count": 0,
          "min": "0.0",
          "max": "749.0",
          "histogram": [
           {
            "bin_start": 0,
            "bin_end": 74.9,
            "count": 4
           },
           {
            "bin_start": 74.9,
            "bin_end": 149.8,
            "count": 0
           },
           {
            "bin_start": 149.8,
            "bin_end": 224.70000000000002,
            "count": 0
           },
           {
            "bin_start": 224.70000000000002,
            "bin_end": 299.6,
            "count": 0
           },
           {
            "bin_start": 299.6,
            "bin_end": 374.5,
            "count": 0
           },
           {
            "bin_start": 374.5,
            "bin_end": 449.40000000000003,
            "count": 0
           },
           {
            "bin_start": 449.40000000000003,
            "bin_end": 524.3000000000001,
            "count": 0
           },
           {
            "bin_start": 524.3000000000001,
            "bin_end": 599.2,
            "count": 0
           },
           {
            "bin_start": 599.2,
            "bin_end": 674.1,
            "count": 0
           },
           {
            "bin_start": 674.1,
            "bin_end": 749,
            "count": 1
           }
          ]
         }
        },
        {
         "name": "Gamers In Category",
         "dtype": "int64",
         "stats": {
          "unique_count": 2,
          "nan_count": 0,
          "min": "0",
          "max": "33",
          "histogram": [
           {
            "bin_start": 0,
            "bin_end": 3.3,
            "count": 4
           },
           {
            "bin_start": 3.3,
            "bin_end": 6.6,
            "count": 0
           },
           {
            "bin_start": 6.6,
            "bin_end": 9.899999999999999,
            "count": 0
           },
           {
            "bin_start": 9.899999999999999,
            "bin_end": 13.2,
            "count": 0
           },
           {
            "bin_start": 13.2,
            "bin_end": 16.5,
            "count": 0
           },
           {
            "bin_start": 16.5,
            "bin_end": 19.799999999999997,
            "count": 0
           },
           {
            "bin_start": 19.799999999999997,
            "bin_end": 23.099999999999998,
            "count": 0
           },
           {
            "bin_start": 23.099999999999998,
            "bin_end": 26.4,
            "count": 0
           },
           {
            "bin_start": 26.4,
            "bin_end": 29.7,
            "count": 0
           },
           {
            "bin_start": 29.7,
            "bin_end": 33,
            "count": 1
           }
          ]
         }
        },
        {
         "name": "GAD_Ave",
         "dtype": "float64",
         "stats": {
          "unique_count": 1,
          "nan_count": 4,
          "min": "4.151515151515151",
          "max": "4.151515151515151",
          "histogram": [
           {
            "bin_start": 3.6515151515151514,
            "bin_end": 3.7515151515151515,
            "count": 0
           },
           {
            "bin_start": 3.7515151515151515,
            "bin_end": 3.8515151515151516,
            "count": 0
           },
           {
            "bin_start": 3.8515151515151516,
            "bin_end": 3.951515151515151,
            "count": 0
           },
           {
            "bin_start": 3.951515151515151,
            "bin_end": 4.051515151515152,
            "count": 0
           },
           {
            "bin_start": 4.051515151515152,
            "bin_end": 4.151515151515151,
            "count": 0
           },
           {
            "bin_start": 4.151515151515151,
            "bin_end": 4.251515151515152,
            "count": 1
           },
           {
            "bin_start": 4.251515151515152,
            "bin_end": 4.351515151515152,
            "count": 0
           },
           {
            "bin_start": 4.351515151515152,
            "bin_end": 4.451515151515151,
            "count": 0
           },
           {
            "bin_start": 4.451515151515151,
            "bin_end": 4.551515151515152,
            "count": 0
           },
           {
            "bin_start": 4.551515151515152,
            "bin_end": 4.651515151515151,
            "count": 0
           }
          ]
         }
        },
        {
         "name": "SWL_Ave",
         "dtype": "float64",
         "stats": {
          "unique_count": 1,
          "nan_count": 4,
          "min": "16.96969696969697",
          "max": "16.96969696969697",
          "histogram": [
           {
            "bin_start": 16.46969696969697,
            "bin_end": 16.56969696969697,
            "count": 0
           },
           {
            "bin_start": 16.56969696969697,
            "bin_end": 16.669696969696968,
            "count": 0
           },
           {
            "bin_start": 16.669696969696968,
            "bin_end": 16.76969696969697,
            "count": 0
           },
           {
            "bin_start": 16.76969696969697,
            "bin_end": 16.869696969696967,
            "count": 0
           },
           {
            "bin_start": 16.869696969696967,
            "bin_end": 16.96969696969697,
            "count": 0
           },
           {
            "bin_start": 16.96969696969697,
            "bin_end": 17.06969696969697,
            "count": 1
           },
           {
            "bin_start": 17.06969696969697,
            "bin_end": 17.169696969696968,
            "count": 0
           },
           {
            "bin_start": 17.169696969696968,
            "bin_end": 17.26969696969697,
            "count": 0
           },
           {
            "bin_start": 17.26969696969697,
            "bin_end": 17.369696969696967,
            "count": 0
           },
           {
            "bin_start": 17.369696969696967,
            "bin_end": 17.46969696969697,
            "count": 0
           }
          ]
         }
        },
        {
         "name": "SPIN_Ave",
         "dtype": "float64",
         "stats": {
          "unique_count": 1,
          "nan_count": 4,
          "min": "22.696969696969695",
          "max": "22.696969696969695",
          "histogram": [
           {
            "bin_start": 22.196969696969695,
            "bin_end": 22.296969696969697,
            "count": 0
           },
           {
            "bin_start": 22.296969696969697,
            "bin_end": 22.396969696969695,
            "count": 0
           },
           {
            "bin_start": 22.396969696969695,
            "bin_end": 22.496969696969696,
            "count": 0
           },
           {
            "bin_start": 22.496969696969696,
            "bin_end": 22.596969696969694,
            "count": 0
           },
           {
            "bin_start": 22.596969696969694,
            "bin_end": 22.696969696969695,
            "count": 0
           },
           {
            "bin_start": 22.696969696969695,
            "bin_end": 22.796969696969697,
            "count": 1
           },
           {
            "bin_start": 22.796969696969697,
            "bin_end": 22.896969696969695,
            "count": 0
           },
           {
            "bin_start": 22.896969696969695,
            "bin_end": 22.996969696969696,
            "count": 0
           },
           {
            "bin_start": 22.996969696969696,
            "bin_end": 23.096969696969694,
            "count": 0
           },
           {
            "bin_start": 23.096969696969694,
            "bin_end": 23.196969696969695,
            "count": 0
           }
          ]
         }
        },
        {
         "name": "Average Result",
         "dtype": "float64",
         "stats": {
          "unique_count": 1,
          "nan_count": 4,
          "min": "32.19378660555131",
          "max": "32.19378660555131",
          "histogram": [
           {
            "bin_start": 31.69378660555131,
            "bin_end": 31.79378660555131,
            "count": 0
           },
           {
            "bin_start": 31.79378660555131,
            "bin_end": 31.89378660555131,
            "count": 0
           },
           {
            "bin_start": 31.89378660555131,
            "bin_end": 31.99378660555131,
            "count": 0
           },
           {
            "bin_start": 31.99378660555131,
            "bin_end": 32.09378660555131,
            "count": 0
           },
           {
            "bin_start": 32.09378660555131,
            "bin_end": 32.19378660555131,
            "count": 0
           },
           {
            "bin_start": 32.19378660555131,
            "bin_end": 32.29378660555131,
            "count": 1
           },
           {
            "bin_start": 32.29378660555131,
            "bin_end": 32.39378660555131,
            "count": 0
           },
           {
            "bin_start": 32.39378660555131,
            "bin_end": 32.49378660555131,
            "count": 0
           },
           {
            "bin_start": 32.49378660555131,
            "bin_end": 32.59378660555131,
            "count": 0
           },
           {
            "bin_start": 32.59378660555131,
            "bin_end": 32.69378660555131,
            "count": 0
           }
          ]
         }
        },
        {
         "name": "_deepnote_index_column",
         "dtype": "category"
        }
       ],
       "rows_top": [
        {
         "GAD_T": 0,
         "SWL_T": 0,
         "SPIN_T": 0,
         "Gamers In Category": 0,
         "GAD_Ave": "nan",
         "SWL_Ave": "nan",
         "SPIN_Ave": "nan",
         "Average Result": "nan",
         "_deepnote_index_column": "(17.962, 25.6]"
        },
        {
         "GAD_T": 137,
         "SWL_T": 560,
         "SPIN_T": 749,
         "Gamers In Category": 33,
         "GAD_Ave": 4.151515151515151,
         "SWL_Ave": 16.96969696969697,
         "SPIN_Ave": 22.696969696969695,
         "Average Result": 32.19378660555131,
         "_deepnote_index_column": "(25.6, 33.2]"
        },
        {
         "GAD_T": 0,
         "SWL_T": 0,
         "SPIN_T": 0,
         "Gamers In Category": 0,
         "GAD_Ave": "nan",
         "SWL_Ave": "nan",
         "SPIN_Ave": "nan",
         "Average Result": "nan",
         "_deepnote_index_column": "(33.2, 40.8]"
        },
        {
         "GAD_T": 0,
         "SWL_T": 0,
         "SPIN_T": 0,
         "Gamers In Category": 0,
         "GAD_Ave": "nan",
         "SWL_Ave": "nan",
         "SPIN_Ave": "nan",
         "Average Result": "nan",
         "_deepnote_index_column": "(40.8, 48.4]"
        },
        {
         "GAD_T": 0,
         "SWL_T": 0,
         "SPIN_T": 0,
         "Gamers In Category": 0,
         "GAD_Ave": "nan",
         "SWL_Ave": "nan",
         "SPIN_Ave": "nan",
         "Average Result": "nan",
         "_deepnote_index_column": "(48.4, 56.0]"
        }
       ],
       "rows_bottom": null
      },
      "text/plain": "                GAD_T  SWL_T  SPIN_T  Gamers In Category   GAD_Ave    SWL_Ave  \\\nAge                                                                             \n(17.962, 25.6]      0      0     0.0                   0       NaN        NaN   \n(25.6, 33.2]      137    560   749.0                  33  4.151515  16.969697   \n(33.2, 40.8]        0      0     0.0                   0       NaN        NaN   \n(40.8, 48.4]        0      0     0.0                   0       NaN        NaN   \n(48.4, 56.0]        0      0     0.0                   0       NaN        NaN   \n\n                SPIN_Ave  Average Result  \nAge                                       \n(17.962, 25.6]       NaN             NaN  \n(25.6, 33.2]    22.69697       32.193787  \n(33.2, 40.8]         NaN             NaN  \n(40.8, 48.4]         NaN             NaN  \n(48.4, 56.0]         NaN             NaN  ",
      "text/html": "<div>\n<style scoped>\n    .dataframe tbody tr th:only-of-type {\n        vertical-align: middle;\n    }\n\n    .dataframe tbody tr th {\n        vertical-align: top;\n    }\n\n    .dataframe thead th {\n        text-align: right;\n    }\n</style>\n<table border=\"1\" class=\"dataframe\">\n  <thead>\n    <tr style=\"text-align: right;\">\n      <th></th>\n      <th>GAD_T</th>\n      <th>SWL_T</th>\n      <th>SPIN_T</th>\n      <th>Gamers In Category</th>\n      <th>GAD_Ave</th>\n      <th>SWL_Ave</th>\n      <th>SPIN_Ave</th>\n      <th>Average Result</th>\n    </tr>\n    <tr>\n      <th>Age</th>\n      <th></th>\n      <th></th>\n      <th></th>\n      <th></th>\n      <th></th>\n      <th></th>\n      <th></th>\n      <th></th>\n    </tr>\n  </thead>\n  <tbody>\n    <tr>\n      <th>(17.962, 25.6]</th>\n      <td>0</td>\n      <td>0</td>\n      <td>0.0</td>\n      <td>0</td>\n      <td>NaN</td>\n      <td>NaN</td>\n      <td>NaN</td>\n      <td>NaN</td>\n    </tr>\n    <tr>\n      <th>(25.6, 33.2]</th>\n      <td>137</td>\n      <td>560</td>\n      <td>749.0</td>\n      <td>33</td>\n      <td>4.151515</td>\n      <td>16.969697</td>\n      <td>22.69697</td>\n      <td>32.193787</td>\n    </tr>\n    <tr>\n      <th>(33.2, 40.8]</th>\n      <td>0</td>\n      <td>0</td>\n      <td>0.0</td>\n      <td>0</td>\n      <td>NaN</td>\n      <td>NaN</td>\n      <td>NaN</td>\n      <td>NaN</td>\n    </tr>\n    <tr>\n      <th>(40.8, 48.4]</th>\n      <td>0</td>\n      <td>0</td>\n      <td>0.0</td>\n      <td>0</td>\n      <td>NaN</td>\n      <td>NaN</td>\n      <td>NaN</td>\n      <td>NaN</td>\n    </tr>\n    <tr>\n      <th>(48.4, 56.0]</th>\n      <td>0</td>\n      <td>0</td>\n      <td>0.0</td>\n      <td>0</td>\n      <td>NaN</td>\n      <td>NaN</td>\n      <td>NaN</td>\n      <td>NaN</td>\n    </tr>\n  </tbody>\n</table>\n</div>"
     },
     "metadata": {}
    }
   ],
   "execution_count": 30
  },
  {
   "cell_type": "code",
   "source": "user_row = Filtered_group_df.loc[user_group]\nuser_data = [100 - user_row['Average Result'], user_row['Average Result']]\ncolors = (\"gainsboro\",\"mediumorchid\") \nplt.pie(user_data, colors = colors, startangle=90)\n\nmy_circle=plt.Circle( (0,0), 0.7, color='white')\np=plt.gcf()\np.gca().add_artist(my_circle)\nplt.text(0,0,\"{:.2f}\".format(user_row['Average Result']) + \"%\",\n        bbox={'facecolor':'white','alpha':1,'edgecolor':'none','pad':1},\n        ha='center', va='center') \nplt.title(\"Gaming Anxiety percentage for \" + str(filter_age) + \" year old \" + filter_gender + \" playing \\n\" + filter_playstyle + \" games for \" + filter_reason + \" reasons\")\n\nplt.show()",
   "metadata": {
    "tags": [],
    "cell_id": "00069-67c6171c-d3eb-41ec-9b2e-64794a935eb7",
    "deepnote_to_be_reexecuted": false,
    "source_hash": "e3d4121",
    "execution_start": 1630680212552,
    "execution_millis": 102,
    "deepnote_cell_type": "code"
   },
   "outputs": [
    {
     "data": {
      "text/plain": "<Figure size 432x288 with 1 Axes>",
      "image/png": "[encoded data removed]"
     },
     "metadata": {
      "image/png": {
       "width": 360,
       "height": 262
      }
     },
     "output_type": "display_data"
    }
   ],
   "execution_count": 31
  },
  {
   "cell_type": "markdown",
   "source": "<a style='text-decoration:none;line-height:16px;display:flex;color:#5B5B62;padding:10px;justify-content:end;' href='https://deepnote.com?utm_source=created-in-deepnote-cell&projectId=ba4cc4da-7c78-42cc-9baf-f3f47653ed05' target=\"_blank\">\n<img alt='Created in deepnote.com' style='display:inline;max-height:16px;margin:0px;margin-right:7.5px;' src='data:image/svg+xml;base64,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' > </img>\nCreated in <span style='font-weight:600;margin-left:4px;'>Deepnote</span></a>",
   "metadata": {
    "tags": [],
    "created_in_deepnote_cell": true,
    "deepnote_cell_type": "markdown"
   }
  }
 ],
 "nbformat": 4,
 "nbformat_minor": 2,
 "metadata": {
  "orig_nbformat": 2,
  "deepnote": {
   "is_reactive": false
  },
  "deepnote_notebook_id": "8db793ea-ad82-4518-85ef-8ea2a16f3aa6",
  "deepnote_execution_queue": []
 }
}